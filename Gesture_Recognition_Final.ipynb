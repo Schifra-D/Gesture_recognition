{
  "cells": [
    {
      "cell_type": "markdown",
      "metadata": {
        "id": "Js3a3PEB36uH"
      },
      "source": [
        "\n",
        "### Problem Statement\n",
        "As a data scientist who is working for home electronics company which manufactures smart televisions.The goal is to make the feature in the smart-TV to recognise five different gestures made by the user to control the TV without using a remote.\n",
        "\n",
        "The Five Gestures are:\n",
        "\n",
        "1. **Thumbs Up : Increase the volume**\n",
        "2. **Thumb down: Decrease the volume**\n",
        "3. **Left swipe: Jump 10 seconds Backwards**\n",
        "4. **Right swipe: Jump 10 seconds Forwards**\n",
        "3. **Stop: Pause the movie**"
      ]
    },
    {
      "cell_type": "code",
      "execution_count": 1,
      "metadata": {
        "id": "p5KKIt7b36uK"
      },
      "outputs": [],
      "source": [
        "# Importing libraries\n",
        "import numpy as np\n",
        "\n",
        "import os\n",
        "#from scipy.misc.pilutil import imread\n",
        "#from scipy.misc.pilutil import imresize\n",
        "#from scipy.misc import imread, imresize\n",
        "from keras import backend as K\n",
        "import tensorflow as tf\n",
        "import datetime\n",
        "import os\n",
        "import warnings\n",
        "warnings.filterwarnings(\"ignore\")\n",
        "import abc\n",
        "from sys import getsizeof\n",
        "\n",
        "\n",
        "# Importing CV2, pandas, numpy and Matplotlib.pyplot\n",
        "import cv2\n",
        "import pandas as pd\n",
        "import matplotlib.pyplot as plt\n",
        "import numpy as np\n",
        "#% matplotlib inline"
      ]
    },
    {
      "cell_type": "code",
      "execution_count": 11,
      "metadata": {
        "id": "VTcyZm-j4G5s",
        "colab": {
          "base_uri": "https://localhost:8080/"
        },
        "outputId": "0c49ed0b-de32-44b9-9c36-5f72b5145274"
      },
      "outputs": [
        {
          "output_type": "stream",
          "name": "stdout",
          "text": [
            "Mounted at /gdrive\n"
          ]
        }
      ],
      "source": [
        "#mount colab zip file\n",
        "from google.colab import drive\n",
        "drive.mount('/gdrive',force_remount=True)"
      ]
    },
    {
      "cell_type": "code",
      "execution_count": 13,
      "metadata": {
        "id": "1F_TY5d-4JfF"
      },
      "outputs": [],
      "source": [
        "#Extracting the Data\n",
        "#unzip the dataset\n",
        "!unzip \"/content/drive/MyDrive/Project_data.zip\" > /dev/null"
      ]
    },
    {
      "cell_type": "code",
      "source": [
        "from google.colab import drive\n",
        "drive.mount('/content/drive')"
      ],
      "metadata": {
        "colab": {
          "base_uri": "https://localhost:8080/"
        },
        "id": "-GcqnxTkAN9s",
        "outputId": "070bb34f-69d4-434a-885e-3ba5513a8ffe"
      },
      "execution_count": 12,
      "outputs": [
        {
          "output_type": "stream",
          "name": "stdout",
          "text": [
            "Mounted at /content/drive\n"
          ]
        }
      ]
    },
    {
      "cell_type": "code",
      "execution_count": 14,
      "metadata": {
        "colab": {
          "base_uri": "https://localhost:8080/"
        },
        "id": "QRXODYzQ7nLG",
        "outputId": "92b53d6e-6b84-4448-a81f-1476c4397c47"
      },
      "outputs": [
        {
          "output_type": "stream",
          "name": "stdout",
          "text": [
            "Looking in indexes: https://pypi.org/simple, https://us-python.pkg.dev/colab-wheels/public/simple/\n",
            "Requirement already satisfied: pillow in /usr/local/lib/python3.9/dist-packages (8.4.0)\n"
          ]
        }
      ],
      "source": [
        "#Installing pillow package\n",
        "!pip install pillow"
      ]
    },
    {
      "cell_type": "code",
      "execution_count": 15,
      "metadata": {
        "id": "PJ7A1t198OME"
      },
      "outputs": [],
      "source": [
        "# Importing imread from imageio to read the image \n",
        "from imageio import imread\n",
        "# Importing resize from skimage.transform to resize the image\n",
        "from skimage.transform import resize"
      ]
    },
    {
      "cell_type": "markdown",
      "metadata": {
        "id": "vPtddX7o36uL"
      },
      "source": [
        "The random seed has been set so that the results don't vary drastically."
      ]
    },
    {
      "cell_type": "code",
      "execution_count": 16,
      "metadata": {
        "id": "N5oFvvNH36uM"
      },
      "outputs": [],
      "source": [
        "# Code for setting the random seed\n",
        "import random as rn\n",
        "rn.seed(30)\n",
        "\n"
      ]
    },
    {
      "cell_type": "markdown",
      "metadata": {
        "id": "-UY5F_qd36uM"
      },
      "source": [
        "In this block, you read the folder names for training and validation. You also set the `batch_size` here. Note that you set the batch size in such a way that you are able to use the GPU in full capacity. You keep increasing the batch size until the machine throws an error."
      ]
    },
    {
      "cell_type": "code",
      "execution_count": 17,
      "metadata": {
        "id": "j1Be6Xp636uN"
      },
      "outputs": [],
      "source": [
        "# importing some other libraries which will be needed for model building using Keras.\n",
        "\n",
        "from keras.models import Sequential, Model\n",
        "from keras.layers import Dense, GRU, Flatten, TimeDistributed, Flatten, BatchNormalization, Activation\n",
        "from keras.layers.convolutional import Conv3D, MaxPooling3D, Conv2D, MaxPooling2D\n",
        "#from keras.layers.recurrent import LSTM\n",
        "from keras.layers import LSTM\n",
        "from keras.callbacks import ModelCheckpoint, ReduceLROnPlateau, EarlyStopping\n",
        "from keras import optimizers\n",
        "from keras.layers import Dropout"
      ]
    },
    {
      "cell_type": "code",
      "execution_count": 18,
      "metadata": {
        "id": "c6O5h0UG36uN"
      },
      "outputs": [],
      "source": [
        "#Saving the path of the Project_data in the variable 'Project_folder\n",
        "project_folder='/content/Project_data'"
      ]
    },
    {
      "cell_type": "code",
      "execution_count": 19,
      "metadata": {
        "colab": {
          "base_uri": "https://localhost:8080/"
        },
        "id": "biNXGgDk_Cl5",
        "outputId": "be0e6e38-ade1-4e39-c55a-33f1cb4f7a99"
      },
      "outputs": [
        {
          "output_type": "stream",
          "name": "stdout",
          "text": [
            "                                          0               1  2\n",
            "0  WIN_20180925_17_08_43_Pro_Left_Swipe_new  Left_Swipe_new  0\n",
            "1  WIN_20180925_17_18_28_Pro_Left_Swipe_new  Left_Swipe_new  0\n",
            "2  WIN_20180925_17_18_56_Pro_Left_Swipe_new  Left_Swipe_new  0\n",
            "3  WIN_20180925_17_19_51_Pro_Left_Swipe_new  Left_Swipe_new  0\n",
            "4  WIN_20180925_17_20_14_Pro_Left_Swipe_new  Left_Swipe_new  0\n",
            "{0, 1, 2, 3, 4}\n",
            "{0, 1, 2, 3, 4}\n",
            "136\n",
            "137\n",
            "130\n",
            "137\n",
            "123\n",
            "                                          0               1  2\n",
            "0  WIN_20180925_17_17_04_Pro_Left_Swipe_new  Left_Swipe_new  0\n",
            "1  WIN_20180925_17_43_01_Pro_Left_Swipe_new  Left_Swipe_new  0\n",
            "2  WIN_20180925_18_01_40_Pro_Left_Swipe_new  Left_Swipe_new  0\n",
            "3  WIN_20180925_18_03_21_Pro_Left_Swipe_new  Left_Swipe_new  0\n",
            "4  WIN_20180926_16_46_22_Pro_Left_Swipe_new  Left_Swipe_new  0\n",
            "{0, 1, 2, 3, 4}\n",
            "{0, 1, 2, 3, 4}\n",
            "18\n",
            "23\n",
            "22\n",
            "21\n",
            "16\n"
          ]
        }
      ],
      "source": [
        "# Reading the train.csv and the val.csv\n",
        "data = pd.read_csv(r'/content/Project_data/train.csv',header=None,sep=';')\n",
        "print(data.head())\n",
        "print(set(data[2]))\n",
        "unique_items = set(data[2])\n",
        "print(unique_items)\n",
        "#0, 1, 2, 3, 4\n",
        "print(len(data[data[2] == 0]))\n",
        "print(len(data[data[2] == 1]))\n",
        "print(len(data[data[2] == 2]))\n",
        "print(len(data[data[2] == 3]))\n",
        "print(len(data[data[2] == 4]))\n",
        "\n",
        "data = pd.read_csv(r'/content/Project_data/val.csv',header=None,sep=';')\n",
        "print(data.head())\n",
        "print(set(data[2]))\n",
        "unique_items = set(data[2])\n",
        "print(unique_items)\n",
        "#0, 1, 2, 3, 4\n",
        "print(len(data[data[2] == 0]))\n",
        "print(len(data[data[2] == 1]))\n",
        "print(len(data[data[2] == 2]))\n",
        "print(len(data[data[2] == 3]))\n",
        "print(len(data[data[2] == 4]))\n",
        "\n",
        "\n"
      ]
    },
    {
      "cell_type": "markdown",
      "metadata": {
        "id": "5U_zykgi36uO"
      },
      "source": [
        "##### Plotting"
      ]
    },
    {
      "cell_type": "code",
      "execution_count": 20,
      "metadata": {
        "id": "qd1rBZWQ36uO"
      },
      "outputs": [],
      "source": [
        "#Building a plot function to plot the history of training/validation accuracies/losses.\n",
        "\n",
        "def plot(history):\n",
        "    fig, axes = plt.subplots(nrows=1, ncols=2, figsize=(15,4))\n",
        "    axes[0].plot(history.history['loss'])   \n",
        "    axes[0].plot(history.history['val_loss'])\n",
        "    axes[0].legend(['loss','val_loss'])\n",
        "\n",
        "    axes[1].plot(history.history['categorical_accuracy'])   \n",
        "    axes[1].plot(history.history['val_categorical_accuracy'])\n",
        "    axes[1].legend(['categorical_accuracy','val_categorical_accuracy'])"
      ]
    },
    {
      "cell_type": "code",
      "execution_count": 21,
      "metadata": {
        "colab": {
          "base_uri": "https://localhost:8080/"
        },
        "id": "zJhOazAEzMI2",
        "outputId": "c891341e-d247-4a7a-d6da-27234e9573c1"
      },
      "outputs": [
        {
          "output_type": "stream",
          "name": "stdout",
          "text": [
            "[5 7 3 9 6 4 8 0 1 2]\n"
          ]
        }
      ],
      "source": [
        "# To make the model robust,the order is shuffled in which examples are fed to the classifier, so that batches between epochs are not alike. \n",
        "print(np.random.permutation(10))\n"
      ]
    },
    {
      "cell_type": "code",
      "source": [
        "from tensorflow.keras.models import load_model\n",
        "from keras.models import load_model\n",
        "model.save('/content/gdrive/MyDrive/Saved_Models/final.hdf5')\n",
        "\n",
        "model_init_2023-03-2114_02_10.345408"
      ],
      "metadata": {
        "colab": {
          "base_uri": "https://localhost:8080/",
          "height": 201
        },
        "id": "NVP2pQbevUI6",
        "outputId": "74eb12fa-4fb8-4b45-8dd8-69b88863e9d8"
      },
      "execution_count": 45,
      "outputs": [
        {
          "output_type": "error",
          "ename": "NameError",
          "evalue": "ignored",
          "traceback": [
            "\u001b[0;31m---------------------------------------------------------------------------\u001b[0m",
            "\u001b[0;31mNameError\u001b[0m                                 Traceback (most recent call last)",
            "\u001b[0;32m<ipython-input-45-50af91fa9ce6>\u001b[0m in \u001b[0;36m<module>\u001b[0;34m\u001b[0m\n\u001b[1;32m      1\u001b[0m \u001b[0;32mfrom\u001b[0m \u001b[0mtensorflow\u001b[0m\u001b[0;34m.\u001b[0m\u001b[0mkeras\u001b[0m\u001b[0;34m.\u001b[0m\u001b[0mmodels\u001b[0m \u001b[0;32mimport\u001b[0m \u001b[0mload_model\u001b[0m\u001b[0;34m\u001b[0m\u001b[0;34m\u001b[0m\u001b[0m\n\u001b[1;32m      2\u001b[0m \u001b[0;32mfrom\u001b[0m \u001b[0mkeras\u001b[0m\u001b[0;34m.\u001b[0m\u001b[0mmodels\u001b[0m \u001b[0;32mimport\u001b[0m \u001b[0mload_model\u001b[0m\u001b[0;34m\u001b[0m\u001b[0;34m\u001b[0m\u001b[0m\n\u001b[0;32m----> 3\u001b[0;31m \u001b[0mmodel\u001b[0m\u001b[0;34m.\u001b[0m\u001b[0msave\u001b[0m\u001b[0;34m(\u001b[0m\u001b[0;34m'/content/gdrive/MyDrive/Saved_Models/final.hdf5'\u001b[0m\u001b[0;34m)\u001b[0m\u001b[0;34m\u001b[0m\u001b[0;34m\u001b[0m\u001b[0m\n\u001b[0m",
            "\u001b[0;31mNameError\u001b[0m: name 'model' is not defined"
          ]
        }
      ]
    },
    {
      "cell_type": "code",
      "source": [
        "from google.colab import files\n",
        "files.download(\"model_init_2023-03-2114_02_10.345408\")"
      ],
      "metadata": {
        "colab": {
          "base_uri": "https://localhost:8080/",
          "height": 34
        },
        "id": "cnZdcsXv0wNy",
        "outputId": "4c056180-0f68-4c08-eea2-3b23d80c051c"
      },
      "execution_count": 50,
      "outputs": [
        {
          "output_type": "display_data",
          "data": {
            "text/plain": [
              "<IPython.core.display.Javascript object>"
            ],
            "application/javascript": [
              "\n",
              "    async function download(id, filename, size) {\n",
              "      if (!google.colab.kernel.accessAllowed) {\n",
              "        return;\n",
              "      }\n",
              "      const div = document.createElement('div');\n",
              "      const label = document.createElement('label');\n",
              "      label.textContent = `Downloading \"${filename}\": `;\n",
              "      div.appendChild(label);\n",
              "      const progress = document.createElement('progress');\n",
              "      progress.max = size;\n",
              "      div.appendChild(progress);\n",
              "      document.body.appendChild(div);\n",
              "\n",
              "      const buffers = [];\n",
              "      let downloaded = 0;\n",
              "\n",
              "      const channel = await google.colab.kernel.comms.open(id);\n",
              "      // Send a message to notify the kernel that we're ready.\n",
              "      channel.send({})\n",
              "\n",
              "      for await (const message of channel.messages) {\n",
              "        // Send a message to notify the kernel that we're ready.\n",
              "        channel.send({})\n",
              "        if (message.buffers) {\n",
              "          for (const buffer of message.buffers) {\n",
              "            buffers.push(buffer);\n",
              "            downloaded += buffer.byteLength;\n",
              "            progress.value = downloaded;\n",
              "          }\n",
              "        }\n",
              "      }\n",
              "      const blob = new Blob(buffers, {type: 'application/binary'});\n",
              "      const a = document.createElement('a');\n",
              "      a.href = window.URL.createObjectURL(blob);\n",
              "      a.download = filename;\n",
              "      div.appendChild(a);\n",
              "      a.click();\n",
              "      div.remove();\n",
              "    }\n",
              "  "
            ]
          },
          "metadata": {}
        },
        {
          "output_type": "display_data",
          "data": {
            "text/plain": [
              "<IPython.core.display.Javascript object>"
            ],
            "application/javascript": [
              "download(\"download_ece804e7-ac55-4549-8400-f759cb2e09af\", \"model_init_2023-03-2114_02_10.345408\", 4096)"
            ]
          },
          "metadata": {}
        }
      ]
    },
    {
      "cell_type": "markdown",
      "metadata": {
        "id": "GObqKzl136uO"
      },
      "source": [
        "## Video Frame Generator\n",
        "This is one of the most important part of the code. The overall structure of the generator has been given. In the generator, you are going to preprocess the images as you have images of 2 different dimensions as well as create a batch of video frames. You have to experiment with `img_idx`, `y`,`z` and normalization such that you get high accuracy."
      ]
    },
    {
      "cell_type": "code",
      "execution_count": 22,
      "metadata": {
        "id": "l0sM5Smw36uP"
      },
      "outputs": [],
      "source": [
        "\n",
        "## Building a Generator\n",
        "class ModelBuilder(metaclass= abc.ABCMeta):\n",
        "    # def initialize_path initialises the path where project data is stored\n",
        "    #paths\n",
        "    def initialize_path(self,project_folder):\n",
        "        #data paths\n",
        "        self.train_doc = np.random.permutation(open(project_folder + '/' + 'train.csv').readlines())\n",
        "        #data paths\n",
        "        self.val_doc = np.random.permutation(open(project_folder + '/' + 'val.csv').readlines())\n",
        "        #Directory of images\n",
        "        self.train_path = project_folder + '/' + 'train'\n",
        "        #Directory of images\n",
        "        self.val_path =  project_folder + '/' + 'val'\n",
        "        self.num_train_sequences = len(self.train_doc)\n",
        "        self.num_val_sequences = len(self.val_doc)\n",
        "\n",
        "\n",
        "    #Def initialize_image_properties initialises the image properties    \n",
        "    #Data set creation properties\n",
        "    def initialize_image_properties(self,image_height=100,image_width=100):\n",
        "        self.image_height=image_height\n",
        "        self.image_width=image_width\n",
        "        #R,G,B\n",
        "        self.channels=3\n",
        "        #Unique Gestures\n",
        "        self.num_classes=5\n",
        "        #Frames to check for actions\n",
        "        #Another options is check movements every 2 seconds\n",
        "        #Frame every two seconds\n",
        "        self.total_frames=30\n",
        "\n",
        "\n",
        "    #def initialize_hyperparams initialises the batch size, frames to sample and the no. of epochs\n",
        "    def initialize_hyperparams(self,frames_to_sample=30,batch_size=20,num_epochs=20):\n",
        "        #configurable 30\n",
        "        self.frames_to_sample=frames_to_sample\n",
        "        #Default 20\n",
        "        self.batch_size=batch_size\n",
        "        #Default 20\n",
        "        self.num_epochs=num_epochs\n",
        "        \n",
        "\n",
        "    #Def generator is The generator function        \n",
        "    #batches of data\n",
        "    def generator(self,source_path, folder_list, augment=False):\n",
        "        img_idx = np.round(np.linspace(0,self.total_frames-1,self.frames_to_sample)).astype(int)\n",
        "        batch_size=self.batch_size\n",
        "        while True:\n",
        "            t = np.random.permutation(folder_list)\n",
        "            #Randomly permute a sequence, or return a permuted range.\n",
        "            num_batches = len(t)//batch_size\n",
        "        \n",
        "            for batch in range(num_batches): \n",
        "                #within the folder batches of 30 files\n",
        "                batch_data, batch_labels= self.one_batch_data(source_path,t,batch,batch_size,img_idx,augment)\n",
        "                yield batch_data, batch_labels \n",
        "\n",
        "            remaining_seq=len(t)%batch_size\n",
        "        \n",
        "            if (remaining_seq != 0):\n",
        "                batch_data, batch_labels= self.one_batch_data(source_path,t,num_batches,batch_size,img_idx,augment,remaining_seq)\n",
        "                yield batch_data, batch_labels \n",
        "    \n",
        "    # This method will create the batch of images with specific labels\n",
        "    def one_batch_data(self,source_path,t,batch,batch_size,img_idx,augment,remaining_seq=0):\n",
        "\n",
        "        seq_len = remaining_seq if remaining_seq else batch_size\n",
        "    \n",
        "        batch_data = np.zeros((seq_len,len(img_idx),self.image_height,self.image_width,self.channels)) \n",
        "        batch_labels = np.zeros((seq_len,self.num_classes)) \n",
        "    \n",
        "        if (augment): batch_data_aug = np.zeros((seq_len,len(img_idx),self.image_height,self.image_width,self.channels))\n",
        "\n",
        "        \n",
        "        for folder in range(seq_len): \n",
        "            imgs = os.listdir(source_path+'/'+ t[folder + (batch*batch_size)].split(';')[0]) \n",
        "            for idx,item in enumerate(img_idx):\n",
        "                #performing image reading and resizing\n",
        "                image = imread(source_path+'/'+ t[folder + (batch*batch_size)].strip().split(';')[0]+'/'+imgs[item]).astype(np.float32)\n",
        "                image_resized=resize(image,(self.image_height,self.image_width,3))\n",
        "            \n",
        "                #normalizing the images\n",
        "                #reduce computation time\n",
        "                batch_data[folder,idx,:,:,0] = (image_resized[:,:,0])/255\n",
        "                batch_data[folder,idx,:,:,1] = (image_resized[:,:,1])/255\n",
        "                batch_data[folder,idx,:,:,2] = (image_resized[:,:,2])/255\n",
        "            \n",
        "                if (augment):\n",
        "                    shifted = cv2.warpAffine(image, \n",
        "                                             np.float32([[1, 0, np.random.randint(-30,30)],[0, 1, np.random.randint(-30,30)]]), \n",
        "                                            (image.shape[1], image.shape[0]))\n",
        "                    \n",
        "                    gray = cv2.cvtColor(shifted,cv2.COLOR_BGR2GRAY)\n",
        "\n",
        "                    x0, y0 = np.argwhere(gray > 0).min(axis=0)\n",
        "                    x1, y1 = np.argwhere(gray > 0).max(axis=0) \n",
        "                    # cropping the images to have the targeted gestures and remove the noise from the images.\n",
        "                    cropped=shifted[x0:x1,y0:y1,:]\n",
        "                    \n",
        "                    image_resized=resize(cropped,(self.image_height,self.image_width,3))\n",
        "                    \n",
        "                    #shifted = cv2.warpAffine(image_resized, \n",
        "                    #                        np.float32([[1, 0, np.random.randint(-3,3)],[0, 1, np.random.randint(-3,3)]]), \n",
        "                    #                        (image_resized.shape[1], image_resized.shape[0]))\n",
        "            \n",
        "                    batch_data_aug[folder,idx,:,:,0] = (image_resized[:,:,0])/255\n",
        "                    batch_data_aug[folder,idx,:,:,1] = (image_resized[:,:,1])/255\n",
        "                    batch_data_aug[folder,idx,:,:,2] = (image_resized[:,:,2])/255\n",
        "                \n",
        "            \n",
        "            batch_labels[folder, int(t[folder + (batch*batch_size)].strip().split(';')[2])] = 1\n",
        "            \n",
        "    \n",
        "        if (augment):\n",
        "            batch_data=np.concatenate([batch_data,batch_data_aug])\n",
        "            batch_labels=np.concatenate([batch_labels,batch_labels])\n",
        "\n",
        "        \n",
        "        return(batch_data,batch_labels)\n",
        "    \n",
        "    \n",
        "    def train_model(self, model, augment_data=False):\n",
        "        train_generator = self.generator(self.train_path, self.train_doc,augment=augment_data)\n",
        "        val_generator = self.generator(self.val_path, self.val_doc)\n",
        "\n",
        "        model_name = 'model_init' + '_' + str(datetime.datetime.now()).replace(' ','').replace(':','_') + '/'\n",
        "    \n",
        "        if not os.path.exists(model_name):\n",
        "            os.mkdir(model_name)\n",
        "        \n",
        "        filepath = model_name + 'model-{epoch:05d}-{loss:.5f}-{categorical_accuracy:.5f}-{val_loss:.5f}-{val_categorical_accuracy:.5f}.h5'\n",
        "\n",
        "        checkpoint = ModelCheckpoint(filepath, monitor='val_loss', verbose=1, save_best_only=True, save_weights_only=False, mode='auto', period=1)\n",
        "        LR = ReduceLROnPlateau(monitor='val_loss', factor=0.2, verbose=1, patience=4)\n",
        "        \n",
        "        earlystop = EarlyStopping( monitor=\"val_loss\", min_delta=0,patience=10,verbose=1)\n",
        "        callbacks_list = [checkpoint, LR, earlystop]\n",
        "\n",
        "        if (self.num_train_sequences%self.batch_size) == 0:\n",
        "            steps_per_epoch = int(self.num_train_sequences/self.batch_size)\n",
        "        else:\n",
        "            steps_per_epoch = (self.num_train_sequences//self.batch_size) + 1\n",
        "\n",
        "        if (self.num_val_sequences%self.batch_size) == 0:\n",
        "            validation_steps = int(self.num_val_sequences/self.batch_size)\n",
        "        else:\n",
        "            validation_steps = (self.num_val_sequences//self.batch_size) + 1\n",
        "    \n",
        "        history=model.fit_generator(train_generator, steps_per_epoch=steps_per_epoch, epochs=self.num_epochs, verbose=1, \n",
        "                            callbacks=callbacks_list, validation_data=val_generator, \n",
        "                            validation_steps=validation_steps, class_weight=None, workers=1, initial_epoch=0)\n",
        "        return history\n",
        "\n",
        "        \n",
        "    @abc.abstractmethod\n",
        "    def define_model(self):\n",
        "        pass"
      ]
    },
    {
      "cell_type": "markdown",
      "metadata": {
        "id": "7l0fsagO36uR"
      },
      "source": [
        "## Model\n",
        "Here you make the model using different functionalities that Keras provides. Remember to use `Conv3D` and `MaxPooling3D` and not `Conv2D` and `Maxpooling2D` for a 3D convolution model. You would want to use `TimeDistributed` while building a Conv2D + RNN model. Also remember that the last layer is the softmax. Design the network in such a way that the model is able to give good accuracy on the least number of parameters so that it can fit in the memory of the webcam."
      ]
    },
    {
      "cell_type": "markdown",
      "metadata": {
        "id": "f0S0mmoE36uR"
      },
      "source": [
        "## Sample Model"
      ]
    },
    {
      "cell_type": "code",
      "execution_count": 16,
      "metadata": {
        "id": "Dn5vd-4I36uR"
      },
      "outputs": [],
      "source": [
        "from keras.optimizers import adam_v2\n",
        "class ModelConv3D1(ModelBuilder):\n",
        "    \n",
        "    def define_model(self):\n",
        "\n",
        "        model = Sequential()\n",
        "        model.add(Conv3D(16, (3, 3, 3), padding='same',\n",
        "                 input_shape=(self.frames_to_sample,self.image_height,self.image_width,self.channels)))\n",
        "        model.add(Activation('relu'))\n",
        "        model.add(BatchNormalization())\n",
        "        model.add(MaxPooling3D(pool_size=(2, 2, 2)))\n",
        "\n",
        "        model.add(Conv3D(32, (2, 2, 2), padding='same'))\n",
        "        model.add(Activation('relu'))\n",
        "        model.add(BatchNormalization())\n",
        "        model.add(MaxPooling3D(pool_size=(2, 2, 2)))\n",
        "\n",
        "        model.add(Conv3D(64, (2, 2, 2), padding='same'))\n",
        "        model.add(Activation('relu'))\n",
        "        model.add(BatchNormalization())\n",
        "        model.add(MaxPooling3D(pool_size=(2, 2, 2)))\n",
        "\n",
        "        model.add(Conv3D(128, (2, 2, 2), padding='same'))\n",
        "        model.add(Activation('relu'))\n",
        "        model.add(BatchNormalization())\n",
        "        model.add(MaxPooling3D(pool_size=(2, 2, 2)))\n",
        "\n",
        "        model.add(Flatten())\n",
        "        model.add(Dense(512,activation='relu'))\n",
        "        model.add(BatchNormalization())\n",
        "        model.add(Dropout(0.5))\n",
        "        model.add(Dense(self.num_classes,activation='softmax'))\n",
        "\n",
        "        #optimiser = optimizers.Adam()\n",
        "        optimiser = adam_v2.Adam()\n",
        "        #optimiser = 'sgd'\n",
        "        model.compile(optimizer=optimiser, loss='categorical_crossentropy', metrics=['categorical_accuracy'])\n",
        "        return model"
      ]
    },
    {
      "cell_type": "code",
      "execution_count": null,
      "metadata": {
        "colab": {
          "base_uri": "https://localhost:8080/"
        },
        "id": "AucThS1P36uS",
        "outputId": "fd6ff3a4-4151-4732-d4e0-fc7502468b3e",
        "scrolled": true
      },
      "outputs": [
        {
          "output_type": "stream",
          "name": "stdout",
          "text": [
            "Model: \"sequential\"\n",
            "_________________________________________________________________\n",
            " Layer (type)                Output Shape              Param #   \n",
            "=================================================================\n",
            " conv3d (Conv3D)             (None, 30, 160, 160, 16)  1312      \n",
            "                                                                 \n",
            " activation (Activation)     (None, 30, 160, 160, 16)  0         \n",
            "                                                                 \n",
            " batch_normalization (BatchN  (None, 30, 160, 160, 16)  64       \n",
            " ormalization)                                                   \n",
            "                                                                 \n",
            " max_pooling3d (MaxPooling3D  (None, 15, 80, 80, 16)   0         \n",
            " )                                                               \n",
            "                                                                 \n",
            " conv3d_1 (Conv3D)           (None, 15, 80, 80, 32)    4128      \n",
            "                                                                 \n",
            " activation_1 (Activation)   (None, 15, 80, 80, 32)    0         \n",
            "                                                                 \n",
            " batch_normalization_1 (Batc  (None, 15, 80, 80, 32)   128       \n",
            " hNormalization)                                                 \n",
            "                                                                 \n",
            " max_pooling3d_1 (MaxPooling  (None, 7, 40, 40, 32)    0         \n",
            " 3D)                                                             \n",
            "                                                                 \n",
            " conv3d_2 (Conv3D)           (None, 7, 40, 40, 64)     16448     \n",
            "                                                                 \n",
            " activation_2 (Activation)   (None, 7, 40, 40, 64)     0         \n",
            "                                                                 \n",
            " batch_normalization_2 (Batc  (None, 7, 40, 40, 64)    256       \n",
            " hNormalization)                                                 \n",
            "                                                                 \n",
            " max_pooling3d_2 (MaxPooling  (None, 3, 20, 20, 64)    0         \n",
            " 3D)                                                             \n",
            "                                                                 \n",
            " conv3d_3 (Conv3D)           (None, 3, 20, 20, 128)    65664     \n",
            "                                                                 \n",
            " activation_3 (Activation)   (None, 3, 20, 20, 128)    0         \n",
            "                                                                 \n",
            " batch_normalization_3 (Batc  (None, 3, 20, 20, 128)   512       \n",
            " hNormalization)                                                 \n",
            "                                                                 \n",
            " max_pooling3d_3 (MaxPooling  (None, 1, 10, 10, 128)   0         \n",
            " 3D)                                                             \n",
            "                                                                 \n",
            " flatten (Flatten)           (None, 12800)             0         \n",
            "                                                                 \n",
            " dense (Dense)               (None, 512)               6554112   \n",
            "                                                                 \n",
            " batch_normalization_4 (Batc  (None, 512)              2048      \n",
            " hNormalization)                                                 \n",
            "                                                                 \n",
            " dropout (Dropout)           (None, 512)               0         \n",
            "                                                                 \n",
            " dense_1 (Dense)             (None, 5)                 2565      \n",
            "                                                                 \n",
            "=================================================================\n",
            "Total params: 6,647,237\n",
            "Trainable params: 6,645,733\n",
            "Non-trainable params: 1,504\n",
            "_________________________________________________________________\n"
          ]
        }
      ],
      "source": [
        "conv_3d1=ModelConv3D1()\n",
        "conv_3d1.initialize_path(project_folder)\n",
        "conv_3d1.initialize_image_properties(image_height=160,image_width=160)\n",
        "conv_3d1.initialize_hyperparams(frames_to_sample=30,batch_size=10,num_epochs=1)\n",
        "conv_3d1_model=conv_3d1.define_model()\n",
        "conv_3d1_model.summary()"
      ]
    },
    {
      "cell_type": "markdown",
      "metadata": {
        "id": "sgbJyJJl36uT"
      },
      "source": [
        "##### Sample Cropping"
      ]
    },
    {
      "cell_type": "code",
      "execution_count": null,
      "metadata": {
        "colab": {
          "base_uri": "https://localhost:8080/",
          "height": 221
        },
        "id": "7AYEt1JJ36uT",
        "outputId": "5cba3a5b-9d43-40bf-8402-043276ebf3dd"
      },
      "outputs": [
        {
          "output_type": "execute_result",
          "data": {
            "text/plain": [
              "<matplotlib.image.AxesImage at 0x7fcdc0242f40>"
            ]
          },
          "metadata": {},
          "execution_count": 30
        },
        {
          "output_type": "display_data",
          "data": {
            "text/plain": [
              "<Figure size 432x288 with 2 Axes>"
            ],
            "image/png": "[encoded data removed]"
          },
          "metadata": {
            "needs_background": "light"
          }
        }
      ],
      "source": [
        "test_generator=ModelConv3D1()\n",
        "test_generator.initialize_path(project_folder)\n",
        "test_generator.initialize_image_properties(image_height=160,image_width=160)\n",
        "test_generator.initialize_hyperparams(frames_to_sample=30,batch_size=3,num_epochs=1)\n",
        "\n",
        "g=test_generator.generator(test_generator.val_path,test_generator.val_doc,augment=True)\n",
        "batch_data, batch_labels=next(g)\n",
        "fig, axes = plt.subplots(nrows=1, ncols=2)\n",
        "axes[0].imshow(batch_data[0,15,:,:,:])   \n",
        "axes[1].imshow(batch_data[3,15,:,:,:])   "
      ]
    },
    {
      "cell_type": "markdown",
      "metadata": {
        "id": "T_iIpgKc36uT"
      },
      "source": [
        "## Experimenting with Image resolution, number of frames to use and batch_size"
      ]
    },
    {
      "cell_type": "code",
      "execution_count": null,
      "metadata": {
        "id": "6H1o9WWD36uU"
      },
      "outputs": [],
      "source": [
        "#conv_3d1.train_model(conv_3d1_model)"
      ]
    },
    {
      "cell_type": "markdown",
      "metadata": {
        "id": "8FQBywLq36uU"
      },
      "source": [
        "#### The limit on memory resources occurred with image resolution of 160x160 with 30 frames and batch_size of 40. \n",
        "#### The error message is given below:\n",
        "\n",
        "ResourceExhaustedError: OOM when allocating tensor with shape[40,16,30,160,160] and type float on /job:localhost/replica:0/task:0/device:GPU:0 by allocator GPU_0_bfc"
      ]
    },
    {
      "cell_type": "code",
      "execution_count": null,
      "metadata": {
        "id": "FLEVZZXN36uU",
        "outputId": "7f30acc3-08cb-4993-c764-ba42198bb72d",
        "colab": {
          "base_uri": "https://localhost:8080/"
        }
      },
      "outputs": [
        {
          "output_type": "stream",
          "name": "stdout",
          "text": [
            "Memory util is 3.662109538912773 Gigs\n"
          ]
        }
      ],
      "source": [
        "print(\"Memory util is {} Gigs\". format(getsizeof(np.zeros((40,16,30,160,160)))/(1024*1024*1024)))"
      ]
    },
    {
      "cell_type": "markdown",
      "metadata": {
        "id": "xkmoQZ5Q36uU"
      },
      "source": [
        "##### Hence conducting some experiments to find a fair trade-off between these parameters in order to produce a robust model."
      ]
    },
    {
      "cell_type": "markdown",
      "metadata": {
        "collapsed": true,
        "id": "-h02nB2c36uV"
      },
      "source": [
        "##### The experiments are conducted below how training time is affected by image resolution of 120, number of images in sequence (30 and 16) and batch size (20 and 10)."
      ]
    },
    {
      "cell_type": "code",
      "execution_count": null,
      "metadata": {
        "colab": {
          "base_uri": "https://localhost:8080/"
        },
        "id": "-2s5yTZw36uW",
        "outputId": "9b12ea4a-4c29-4142-b857-5f09754298ea"
      },
      "outputs": [
        {
          "output_type": "stream",
          "name": "stderr",
          "text": [
            "WARNING:tensorflow:`period` argument is deprecated. Please use `save_freq` to specify the frequency in number of batches seen.\n"
          ]
        },
        {
          "output_type": "stream",
          "name": "stdout",
          "text": [
            "Total Params: 3304901\n",
            "Epoch 1/10\n",
            "34/34 [==============================] - ETA: 0s - loss: 1.4576 - categorical_accuracy: 0.5370\n",
            "Epoch 1: val_loss improved from inf to 7.04361, saving model to model_init_2023-03-2008_49_59.669076/model-00001-1.45758-0.53695-7.04361-0.21000.h5\n",
            "34/34 [==============================] - 200s 6s/step - loss: 1.4576 - categorical_accuracy: 0.5370 - val_loss: 7.0436 - val_categorical_accuracy: 0.2100 - lr: 0.0010\n",
            "Epoch 2/10\n",
            "34/34 [==============================] - ETA: 0s - loss: 0.6662 - categorical_accuracy: 0.7451\n",
            "Epoch 2: val_loss did not improve from 7.04361\n",
            "34/34 [==============================] - 194s 6s/step - loss: 0.6662 - categorical_accuracy: 0.7451 - val_loss: 11.1887 - val_categorical_accuracy: 0.2300 - lr: 0.0010\n",
            "Epoch 3/10\n",
            "34/34 [==============================] - ETA: 0s - loss: 0.4587 - categorical_accuracy: 0.8341\n",
            "Epoch 3: val_loss did not improve from 7.04361\n",
            "34/34 [==============================] - 218s 7s/step - loss: 0.4587 - categorical_accuracy: 0.8341 - val_loss: 14.4160 - val_categorical_accuracy: 0.2100 - lr: 0.0010\n",
            "Epoch 4/10\n",
            "34/34 [==============================] - ETA: 0s - loss: 0.4079 - categorical_accuracy: 0.8431\n",
            "Epoch 4: val_loss did not improve from 7.04361\n",
            "34/34 [==============================] - 235s 7s/step - loss: 0.4079 - categorical_accuracy: 0.8431 - val_loss: 12.5611 - val_categorical_accuracy: 0.2800 - lr: 0.0010\n",
            "Epoch 5/10\n",
            "34/34 [==============================] - ETA: 0s - loss: 0.3567 - categorical_accuracy: 0.8703\n",
            "Epoch 5: val_loss did not improve from 7.04361\n",
            "\n",
            "Epoch 5: ReduceLROnPlateau reducing learning rate to 0.00020000000949949026.\n",
            "34/34 [==============================] - 254s 8s/step - loss: 0.3567 - categorical_accuracy: 0.8703 - val_loss: 11.5613 - val_categorical_accuracy: 0.1300 - lr: 0.0010\n",
            "Epoch 6/10\n",
            "34/34 [==============================] - ETA: 0s - loss: 0.2419 - categorical_accuracy: 0.9140\n",
            "Epoch 6: val_loss did not improve from 7.04361\n",
            "34/34 [==============================] - 227s 7s/step - loss: 0.2419 - categorical_accuracy: 0.9140 - val_loss: 9.4720 - val_categorical_accuracy: 0.1700 - lr: 2.0000e-04\n",
            "Epoch 7/10\n",
            "34/34 [==============================] - ETA: 0s - loss: 0.1420 - categorical_accuracy: 0.9638\n",
            "Epoch 7: val_loss did not improve from 7.04361\n",
            "34/34 [==============================] - 221s 7s/step - loss: 0.1420 - categorical_accuracy: 0.9638 - val_loss: 7.2101 - val_categorical_accuracy: 0.1400 - lr: 2.0000e-04\n",
            "Epoch 8/10\n",
            "34/34 [==============================] - ETA: 0s - loss: 0.1253 - categorical_accuracy: 0.9608\n",
            "Epoch 8: val_loss improved from 7.04361 to 5.09766, saving model to model_init_2023-03-2008_49_59.669076/model-00008-0.12526-0.96078-5.09766-0.22000.h5\n",
            "34/34 [==============================] - 196s 6s/step - loss: 0.1253 - categorical_accuracy: 0.9608 - val_loss: 5.0977 - val_categorical_accuracy: 0.2200 - lr: 2.0000e-04\n",
            "Epoch 9/10\n",
            "34/34 [==============================] - ETA: 0s - loss: 0.1265 - categorical_accuracy: 0.9683\n",
            "Epoch 9: val_loss improved from 5.09766 to 4.16007, saving model to model_init_2023-03-2008_49_59.669076/model-00009-0.12653-0.96833-4.16007-0.27000.h5\n",
            "34/34 [==============================] - 209s 6s/step - loss: 0.1265 - categorical_accuracy: 0.9683 - val_loss: 4.1601 - val_categorical_accuracy: 0.2700 - lr: 2.0000e-04\n",
            "Epoch 10/10\n",
            "34/34 [==============================] - ETA: 0s - loss: 0.1073 - categorical_accuracy: 0.9729\n",
            "Epoch 10: val_loss improved from 4.16007 to 3.94835, saving model to model_init_2023-03-2008_49_59.669076/model-00010-0.10730-0.97285-3.94835-0.25000.h5\n",
            "34/34 [==============================] - 192s 6s/step - loss: 0.1073 - categorical_accuracy: 0.9729 - val_loss: 3.9484 - val_categorical_accuracy: 0.2500 - lr: 2.0000e-04\n"
          ]
        },
        {
          "output_type": "execute_result",
          "data": {
            "text/plain": [
              "<keras.callbacks.History at 0x7fcdc0077c40>"
            ]
          },
          "metadata": {},
          "execution_count": 33
        }
      ],
      "source": [
        "#Experiment 1:\n",
        "#image size = 120 * 120 , batch size = 20, frame_to_sample =30 and epochs = 10\n",
        "conv_3d1=ModelConv3D1()\n",
        "conv_3d1.initialize_path(project_folder)\n",
        "conv_3d1.initialize_image_properties(image_height=120,image_width=120)\n",
        "conv_3d1.initialize_hyperparams(frames_to_sample=30,batch_size=20,num_epochs=10)\n",
        "conv_3d1_model=conv_3d1.define_model()\n",
        "print(\"Total Params:\", conv_3d1_model.count_params())\n",
        "conv_3d1.train_model(conv_3d1_model)"
      ]
    },
    {
      "cell_type": "code",
      "execution_count": null,
      "metadata": {
        "colab": {
          "base_uri": "https://localhost:8080/"
        },
        "id": "Jj33ROCt36uW",
        "outputId": "4ae6b60b-817b-40e4-cd46-05dce2293977"
      },
      "outputs": [
        {
          "output_type": "stream",
          "name": "stderr",
          "text": [
            "WARNING:tensorflow:`period` argument is deprecated. Please use `save_freq` to specify the frequency in number of batches seen.\n"
          ]
        },
        {
          "output_type": "stream",
          "name": "stdout",
          "text": [
            "Total Params: 3304901\n",
            "Epoch 1/10\n",
            "67/67 [==============================] - ETA: 0s - loss: 1.5600 - categorical_accuracy: 0.4827\n",
            "Epoch 1: val_loss improved from inf to 13.67498, saving model to model_init_2023-03-2009_28_39.068202/model-00001-1.55996-0.48265-13.67498-0.16000.h5\n",
            "67/67 [==============================] - 120s 2s/step - loss: 1.5600 - categorical_accuracy: 0.4827 - val_loss: 13.6750 - val_categorical_accuracy: 0.1600 - lr: 0.0010\n",
            "Epoch 2/10\n",
            "67/67 [==============================] - ETA: 0s - loss: 0.8909 - categorical_accuracy: 0.6591\n",
            "Epoch 2: val_loss did not improve from 13.67498\n",
            "67/67 [==============================] - 150s 2s/step - loss: 0.8909 - categorical_accuracy: 0.6591 - val_loss: 22.7330 - val_categorical_accuracy: 0.1700 - lr: 0.0010\n",
            "Epoch 3/10\n",
            "67/67 [==============================] - ETA: 0s - loss: 0.7737 - categorical_accuracy: 0.7345\n",
            "Epoch 3: val_loss did not improve from 13.67498\n",
            "67/67 [==============================] - 164s 2s/step - loss: 0.7737 - categorical_accuracy: 0.7345 - val_loss: 17.6012 - val_categorical_accuracy: 0.1700 - lr: 0.0010\n",
            "Epoch 4/10\n",
            "67/67 [==============================] - ETA: 0s - loss: 0.7065 - categorical_accuracy: 0.7360\n",
            "Epoch 4: val_loss improved from 13.67498 to 8.78324, saving model to model_init_2023-03-2009_28_39.068202/model-00004-0.70655-0.73605-8.78324-0.31000.h5\n",
            "67/67 [==============================] - 123s 2s/step - loss: 0.7065 - categorical_accuracy: 0.7360 - val_loss: 8.7832 - val_categorical_accuracy: 0.3100 - lr: 0.0010\n",
            "Epoch 5/10\n",
            "67/67 [==============================] - ETA: 0s - loss: 0.4720 - categorical_accuracy: 0.8205\n",
            "Epoch 5: val_loss improved from 8.78324 to 5.67303, saving model to model_init_2023-03-2009_28_39.068202/model-00005-0.47203-0.82051-5.67303-0.35000.h5\n",
            "67/67 [==============================] - 106s 2s/step - loss: 0.4720 - categorical_accuracy: 0.8205 - val_loss: 5.6730 - val_categorical_accuracy: 0.3500 - lr: 0.0010\n",
            "Epoch 6/10\n",
            "67/67 [==============================] - ETA: 0s - loss: 0.2842 - categorical_accuracy: 0.8914\n",
            "Epoch 6: val_loss improved from 5.67303 to 3.36405, saving model to model_init_2023-03-2009_28_39.068202/model-00006-0.28421-0.89140-3.36405-0.46000.h5\n",
            "67/67 [==============================] - 105s 2s/step - loss: 0.2842 - categorical_accuracy: 0.8914 - val_loss: 3.3640 - val_categorical_accuracy: 0.4600 - lr: 0.0010\n",
            "Epoch 7/10\n",
            "67/67 [==============================] - ETA: 0s - loss: 0.2940 - categorical_accuracy: 0.8793\n",
            "Epoch 7: val_loss improved from 3.36405 to 2.09520, saving model to model_init_2023-03-2009_28_39.068202/model-00007-0.29399-0.87934-2.09520-0.48000.h5\n",
            "67/67 [==============================] - 106s 2s/step - loss: 0.2940 - categorical_accuracy: 0.8793 - val_loss: 2.0952 - val_categorical_accuracy: 0.4800 - lr: 0.0010\n",
            "Epoch 8/10\n",
            "67/67 [==============================] - ETA: 0s - loss: 0.2169 - categorical_accuracy: 0.9276\n",
            "Epoch 8: val_loss improved from 2.09520 to 2.08863, saving model to model_init_2023-03-2009_28_39.068202/model-00008-0.21693-0.92760-2.08863-0.47000.h5\n",
            "67/67 [==============================] - 106s 2s/step - loss: 0.2169 - categorical_accuracy: 0.9276 - val_loss: 2.0886 - val_categorical_accuracy: 0.4700 - lr: 0.0010\n",
            "Epoch 9/10\n",
            "67/67 [==============================] - ETA: 0s - loss: 0.2049 - categorical_accuracy: 0.9201\n",
            "Epoch 9: val_loss improved from 2.08863 to 1.12721, saving model to model_init_2023-03-2009_28_39.068202/model-00009-0.20491-0.92006-1.12721-0.61000.h5\n",
            "67/67 [==============================] - 106s 2s/step - loss: 0.2049 - categorical_accuracy: 0.9201 - val_loss: 1.1272 - val_categorical_accuracy: 0.6100 - lr: 0.0010\n",
            "Epoch 10/10\n",
            "67/67 [==============================] - ETA: 0s - loss: 0.1621 - categorical_accuracy: 0.9472\n",
            "Epoch 10: val_loss did not improve from 1.12721\n",
            "67/67 [==============================] - 105s 2s/step - loss: 0.1621 - categorical_accuracy: 0.9472 - val_loss: 1.3490 - val_categorical_accuracy: 0.6200 - lr: 0.0010\n"
          ]
        },
        {
          "output_type": "execute_result",
          "data": {
            "text/plain": [
              "<keras.callbacks.History at 0x7fcd38086d00>"
            ]
          },
          "metadata": {},
          "execution_count": 37
        }
      ],
      "source": [
        "#Experiment 2:\n",
        "#image size = 120 * 120 , batch size = 10, frame_to_sample = 16 and epochs = 10\n",
        "conv_3d1=ModelConv3D1()\n",
        "conv_3d1.initialize_path(project_folder)\n",
        "conv_3d1.initialize_image_properties(image_height=120,image_width=120)\n",
        "conv_3d1.initialize_hyperparams(frames_to_sample=16,batch_size=10,num_epochs=10)\n",
        "conv_3d1_model=conv_3d1.define_model()\n",
        "print(\"Total Params:\", conv_3d1_model.count_params())\n",
        "conv_3d1.train_model(conv_3d1_model)"
      ]
    },
    {
      "cell_type": "code",
      "source": [
        "#Experiment 3:\n",
        "#image size = 120 * 120 , batch size = 20, frame_to_sample = 16 and epochs = 10\n",
        "conv_3d1=ModelConv3D1()\n",
        "conv_3d1.initialize_path(project_folder)\n",
        "conv_3d1.initialize_image_properties(image_height=120,image_width=120)\n",
        "conv_3d1.initialize_hyperparams(frames_to_sample=16,batch_size=10,num_epochs=10)\n",
        "conv_3d1_model=conv_3d1.define_model()\n",
        "print(\"Total Params:\", conv_3d1_model.count_params())\n",
        "conv_3d1.train_model(conv_3d1_model)"
      ],
      "metadata": {
        "colab": {
          "base_uri": "https://localhost:8080/"
        },
        "id": "FI1aWhpJ2EM0",
        "outputId": "1cdcef49-e645-400c-e605-e37b399c994e"
      },
      "execution_count": null,
      "outputs": [
        {
          "output_type": "stream",
          "name": "stderr",
          "text": [
            "WARNING:tensorflow:`period` argument is deprecated. Please use `save_freq` to specify the frequency in number of batches seen.\n"
          ]
        },
        {
          "output_type": "stream",
          "name": "stdout",
          "text": [
            "Total Params: 3304901\n",
            "Epoch 1/10\n",
            "67/67 [==============================] - ETA: 0s - loss: 1.5779 - categorical_accuracy: 0.5143\n",
            "Epoch 1: val_loss improved from inf to 8.39229, saving model to model_init_2023-03-2011_55_54.553380/model-00001-1.57791-0.51433-8.39229-0.19000.h5\n",
            "67/67 [==============================] - 119s 2s/step - loss: 1.5779 - categorical_accuracy: 0.5143 - val_loss: 8.3923 - val_categorical_accuracy: 0.1900 - lr: 0.0010\n",
            "Epoch 2/10\n",
            "67/67 [==============================] - ETA: 0s - loss: 0.8333 - categorical_accuracy: 0.6802\n",
            "Epoch 2: val_loss did not improve from 8.39229\n",
            "67/67 [==============================] - 99s 2s/step - loss: 0.8333 - categorical_accuracy: 0.6802 - val_loss: 10.5433 - val_categorical_accuracy: 0.3100 - lr: 0.0010\n",
            "Epoch 3/10\n",
            "67/67 [==============================] - ETA: 0s - loss: 0.6780 - categorical_accuracy: 0.7270\n",
            "Epoch 3: val_loss did not improve from 8.39229\n",
            "67/67 [==============================] - 100s 2s/step - loss: 0.6780 - categorical_accuracy: 0.7270 - val_loss: 11.3193 - val_categorical_accuracy: 0.3400 - lr: 0.0010\n",
            "Epoch 4/10\n",
            "67/67 [==============================] - ETA: 0s - loss: 0.5961 - categorical_accuracy: 0.7783\n",
            "Epoch 4: val_loss did not improve from 8.39229\n",
            "67/67 [==============================] - 102s 2s/step - loss: 0.5961 - categorical_accuracy: 0.7783 - val_loss: 13.1743 - val_categorical_accuracy: 0.2600 - lr: 0.0010\n",
            "Epoch 5/10\n",
            "67/67 [==============================] - ETA: 0s - loss: 0.5075 - categorical_accuracy: 0.8145\n",
            "Epoch 5: val_loss improved from 8.39229 to 6.13572, saving model to model_init_2023-03-2011_55_54.553380/model-00005-0.50753-0.81448-6.13572-0.36000.h5\n",
            "67/67 [==============================] - 103s 2s/step - loss: 0.5075 - categorical_accuracy: 0.8145 - val_loss: 6.1357 - val_categorical_accuracy: 0.3600 - lr: 0.0010\n",
            "Epoch 6/10\n",
            "67/67 [==============================] - ETA: 0s - loss: 0.5153 - categorical_accuracy: 0.8039\n",
            "Epoch 6: val_loss improved from 6.13572 to 2.54205, saving model to model_init_2023-03-2011_55_54.553380/model-00006-0.51534-0.80392-2.54205-0.45000.h5\n",
            "67/67 [==============================] - 96s 1s/step - loss: 0.5153 - categorical_accuracy: 0.8039 - val_loss: 2.5420 - val_categorical_accuracy: 0.4500 - lr: 0.0010\n",
            "Epoch 7/10\n",
            "67/67 [==============================] - ETA: 0s - loss: 0.4092 - categorical_accuracy: 0.8462\n",
            "Epoch 7: val_loss improved from 2.54205 to 1.89048, saving model to model_init_2023-03-2011_55_54.553380/model-00007-0.40919-0.84615-1.89048-0.44000.h5\n",
            "67/67 [==============================] - 102s 2s/step - loss: 0.4092 - categorical_accuracy: 0.8462 - val_loss: 1.8905 - val_categorical_accuracy: 0.4400 - lr: 0.0010\n",
            "Epoch 8/10\n",
            "67/67 [==============================] - ETA: 0s - loss: 0.3085 - categorical_accuracy: 0.8733\n",
            "Epoch 8: val_loss improved from 1.89048 to 1.86533, saving model to model_init_2023-03-2011_55_54.553380/model-00008-0.30852-0.87330-1.86533-0.54000.h5\n",
            "67/67 [==============================] - 97s 1s/step - loss: 0.3085 - categorical_accuracy: 0.8733 - val_loss: 1.8653 - val_categorical_accuracy: 0.5400 - lr: 0.0010\n",
            "Epoch 9/10\n",
            "67/67 [==============================] - ETA: 0s - loss: 0.2366 - categorical_accuracy: 0.9140\n",
            "Epoch 9: val_loss improved from 1.86533 to 1.81156, saving model to model_init_2023-03-2011_55_54.553380/model-00009-0.23658-0.91403-1.81156-0.58000.h5\n",
            "67/67 [==============================] - 102s 2s/step - loss: 0.2366 - categorical_accuracy: 0.9140 - val_loss: 1.8116 - val_categorical_accuracy: 0.5800 - lr: 0.0010\n",
            "Epoch 10/10\n",
            "67/67 [==============================] - ETA: 0s - loss: 0.2007 - categorical_accuracy: 0.9291\n",
            "Epoch 10: val_loss improved from 1.81156 to 1.42778, saving model to model_init_2023-03-2011_55_54.553380/model-00010-0.20068-0.92911-1.42778-0.57000.h5\n",
            "67/67 [==============================] - 103s 2s/step - loss: 0.2007 - categorical_accuracy: 0.9291 - val_loss: 1.4278 - val_categorical_accuracy: 0.5700 - lr: 0.0010\n"
          ]
        },
        {
          "output_type": "execute_result",
          "data": {
            "text/plain": [
              "<keras.callbacks.History at 0x7fcd48cf9eb0>"
            ]
          },
          "metadata": {},
          "execution_count": 39
        }
      ]
    },
    {
      "cell_type": "code",
      "source": [
        "#Experiment 4:\n",
        "#image size = 120 * 120 , batch size = 10, frame_to_sample = 16 and epochs = 20\n",
        "conv_3d1=ModelConv3D1()\n",
        "conv_3d1.initialize_path(project_folder)\n",
        "conv_3d1.initialize_image_properties(image_height=120,image_width=120)\n",
        "conv_3d1.initialize_hyperparams(frames_to_sample=16,batch_size=10,num_epochs=20)\n",
        "conv_3d1_model=conv_3d1.define_model()\n",
        "print(\"Total Params:\", conv_3d1_model.count_params())\n",
        "conv_3d1.train_model(conv_3d1_model)"
      ],
      "metadata": {
        "colab": {
          "base_uri": "https://localhost:8080/"
        },
        "id": "tV4xRoxWv1xj",
        "outputId": "c780a877-3c79-4d85-fcb7-84366512fc41"
      },
      "execution_count": null,
      "outputs": [
        {
          "metadata": {
            "tags": null
          },
          "name": "stderr",
          "output_type": "stream",
          "text": [
            "WARNING:tensorflow:`period` argument is deprecated. Please use `save_freq` to specify the frequency in number of batches seen.\n"
          ]
        },
        {
          "output_type": "stream",
          "name": "stdout",
          "text": [
            "Total Params: 3304901\n",
            "Epoch 1/20\n",
            "67/67 [==============================] - ETA: 0s - loss: 1.5562 - categorical_accuracy: 0.5023\n",
            "Epoch 1: val_loss improved from inf to 9.21500, saving model to model_init_2023-03-2011_20_29.676501/model-00001-1.55618-0.50226-9.21500-0.21000.h5\n",
            "67/67 [==============================] - 119s 2s/step - loss: 1.5562 - categorical_accuracy: 0.5023 - val_loss: 9.2150 - val_categorical_accuracy: 0.2100 - lr: 0.0010\n",
            "Epoch 2/20\n",
            "67/67 [==============================] - ETA: 0s - loss: 0.8186 - categorical_accuracy: 0.6968\n",
            "Epoch 2: val_loss did not improve from 9.21500\n",
            "67/67 [==============================] - 114s 2s/step - loss: 0.8186 - categorical_accuracy: 0.6968 - val_loss: 15.3677 - val_categorical_accuracy: 0.2300 - lr: 0.0010\n",
            "Epoch 3/20\n",
            "67/67 [==============================] - ETA: 0s - loss: 0.6219 - categorical_accuracy: 0.7677\n",
            "Epoch 3: val_loss did not improve from 9.21500\n",
            "67/67 [==============================] - 129s 2s/step - loss: 0.6219 - categorical_accuracy: 0.7677 - val_loss: 11.6251 - val_categorical_accuracy: 0.2100 - lr: 0.0010\n",
            "Epoch 4/20\n",
            "67/67 [==============================] - ETA: 0s - loss: 0.5307 - categorical_accuracy: 0.8024\n",
            "Epoch 4: val_loss improved from 9.21500 to 7.36888, saving model to model_init_2023-03-2011_20_29.676501/model-00004-0.53075-0.80241-7.36888-0.17000.h5\n",
            "67/67 [==============================] - 130s 2s/step - loss: 0.5307 - categorical_accuracy: 0.8024 - val_loss: 7.3689 - val_categorical_accuracy: 0.1700 - lr: 0.0010\n",
            "Epoch 5/20\n",
            "67/67 [==============================] - ETA: 0s - loss: 0.4514 - categorical_accuracy: 0.8130\n",
            "Epoch 5: val_loss improved from 7.36888 to 3.11061, saving model to model_init_2023-03-2011_20_29.676501/model-00005-0.45144-0.81297-3.11061-0.31000.h5\n",
            "67/67 [==============================] - 104s 2s/step - loss: 0.4514 - categorical_accuracy: 0.8130 - val_loss: 3.1106 - val_categorical_accuracy: 0.3100 - lr: 0.0010\n",
            "Epoch 6/20\n",
            "67/67 [==============================] - ETA: 0s - loss: 0.4368 - categorical_accuracy: 0.8311\n",
            "Epoch 6: val_loss did not improve from 3.11061\n",
            "67/67 [==============================] - 103s 2s/step - loss: 0.4368 - categorical_accuracy: 0.8311 - val_loss: 3.7862 - val_categorical_accuracy: 0.2900 - lr: 0.0010\n",
            "Epoch 7/20\n",
            "67/67 [==============================] - ETA: 0s - loss: 0.4034 - categorical_accuracy: 0.8341\n",
            "Epoch 7: val_loss improved from 3.11061 to 2.30990, saving model to model_init_2023-03-2011_20_29.676501/model-00007-0.40337-0.83409-2.30990-0.43000.h5\n",
            "67/67 [==============================] - 98s 1s/step - loss: 0.4034 - categorical_accuracy: 0.8341 - val_loss: 2.3099 - val_categorical_accuracy: 0.4300 - lr: 0.0010\n",
            "Epoch 8/20\n",
            "67/67 [==============================] - ETA: 0s - loss: 0.2648 - categorical_accuracy: 0.9095\n",
            "Epoch 8: val_loss improved from 2.30990 to 1.61257, saving model to model_init_2023-03-2011_20_29.676501/model-00008-0.26475-0.90950-1.61257-0.60000.h5\n",
            "67/67 [==============================] - 101s 2s/step - loss: 0.2648 - categorical_accuracy: 0.9095 - val_loss: 1.6126 - val_categorical_accuracy: 0.6000 - lr: 0.0010\n",
            "Epoch 9/20\n",
            "67/67 [==============================] - ETA: 0s - loss: 0.1687 - categorical_accuracy: 0.9427\n",
            "Epoch 9: val_loss did not improve from 1.61257\n",
            "67/67 [==============================] - 95s 1s/step - loss: 0.1687 - categorical_accuracy: 0.9427 - val_loss: 1.7265 - val_categorical_accuracy: 0.5600 - lr: 0.0010\n",
            "Epoch 10/20\n",
            "67/67 [==============================] - ETA: 0s - loss: 0.2245 - categorical_accuracy: 0.9186\n",
            "Epoch 10: val_loss did not improve from 1.61257\n",
            "67/67 [==============================] - 101s 2s/step - loss: 0.2245 - categorical_accuracy: 0.9186 - val_loss: 1.6494 - val_categorical_accuracy: 0.6000 - lr: 0.0010\n",
            "Epoch 11/20\n",
            "67/67 [==============================] - ETA: 0s - loss: 0.1755 - categorical_accuracy: 0.9472\n",
            "Epoch 11: val_loss improved from 1.61257 to 1.06768, saving model to model_init_2023-03-2011_20_29.676501/model-00011-0.17554-0.94721-1.06768-0.68000.h5\n",
            "67/67 [==============================] - 101s 2s/step - loss: 0.1755 - categorical_accuracy: 0.9472 - val_loss: 1.0677 - val_categorical_accuracy: 0.6800 - lr: 0.0010\n",
            "Epoch 12/20\n",
            "67/67 [==============================] - ETA: 0s - loss: 0.2762 - categorical_accuracy: 0.8944\n",
            "Epoch 12: val_loss did not improve from 1.06768\n",
            "67/67 [==============================] - 96s 1s/step - loss: 0.2762 - categorical_accuracy: 0.8944 - val_loss: 1.5847 - val_categorical_accuracy: 0.6100 - lr: 0.0010\n",
            "Epoch 13/20\n",
            "67/67 [==============================] - ETA: 0s - loss: 0.1901 - categorical_accuracy: 0.9306\n",
            "Epoch 13: val_loss did not improve from 1.06768\n",
            "67/67 [==============================] - 100s 2s/step - loss: 0.1901 - categorical_accuracy: 0.9306 - val_loss: 1.7658 - val_categorical_accuracy: 0.6000 - lr: 0.0010\n",
            "Epoch 14/20\n",
            "67/67 [==============================] - ETA: 0s - loss: 0.2415 - categorical_accuracy: 0.9020\n",
            "Epoch 14: val_loss did not improve from 1.06768\n",
            "67/67 [==============================] - 95s 1s/step - loss: 0.2415 - categorical_accuracy: 0.9020 - val_loss: 1.8851 - val_categorical_accuracy: 0.5800 - lr: 0.0010\n",
            "Epoch 15/20\n",
            "67/67 [==============================] - ETA: 0s - loss: 0.2051 - categorical_accuracy: 0.9412\n",
            "Epoch 15: val_loss did not improve from 1.06768\n",
            "\n",
            "Epoch 15: ReduceLROnPlateau reducing learning rate to 0.00020000000949949026.\n",
            "67/67 [==============================] - 101s 2s/step - loss: 0.2051 - categorical_accuracy: 0.9412 - val_loss: 1.5606 - val_categorical_accuracy: 0.5700 - lr: 0.0010\n",
            "Epoch 16/20\n",
            "67/67 [==============================] - ETA: 0s - loss: 0.1340 - categorical_accuracy: 0.9472\n",
            "Epoch 16: val_loss improved from 1.06768 to 0.83831, saving model to model_init_2023-03-2011_20_29.676501/model-00016-0.13399-0.94721-0.83831-0.69000.h5\n",
            "67/67 [==============================] - 100s 2s/step - loss: 0.1340 - categorical_accuracy: 0.9472 - val_loss: 0.8383 - val_categorical_accuracy: 0.6900 - lr: 2.0000e-04\n",
            "Epoch 17/20\n",
            "67/67 [==============================] - ETA: 0s - loss: 0.0912 - categorical_accuracy: 0.9759\n",
            "Epoch 17: val_loss improved from 0.83831 to 0.70214, saving model to model_init_2023-03-2011_20_29.676501/model-00017-0.09121-0.97587-0.70214-0.80000.h5\n",
            "67/67 [==============================] - 95s 1s/step - loss: 0.0912 - categorical_accuracy: 0.9759 - val_loss: 0.7021 - val_categorical_accuracy: 0.8000 - lr: 2.0000e-04\n",
            "Epoch 18/20\n",
            "67/67 [==============================] - ETA: 0s - loss: 0.0591 - categorical_accuracy: 0.9879\n",
            "Epoch 18: val_loss improved from 0.70214 to 0.58157, saving model to model_init_2023-03-2011_20_29.676501/model-00018-0.05911-0.98793-0.58157-0.82000.h5\n",
            "67/67 [==============================] - 100s 2s/step - loss: 0.0591 - categorical_accuracy: 0.9879 - val_loss: 0.5816 - val_categorical_accuracy: 0.8200 - lr: 2.0000e-04\n",
            "Epoch 19/20\n",
            "67/67 [==============================] - ETA: 0s - loss: 0.0598 - categorical_accuracy: 0.9819\n",
            "Epoch 19: val_loss did not improve from 0.58157\n",
            "67/67 [==============================] - 96s 1s/step - loss: 0.0598 - categorical_accuracy: 0.9819 - val_loss: 0.6033 - val_categorical_accuracy: 0.8300 - lr: 2.0000e-04\n",
            "Epoch 20/20\n",
            "67/67 [==============================] - ETA: 0s - loss: 0.0596 - categorical_accuracy: 0.9834\n",
            "Epoch 20: val_loss did not improve from 0.58157\n",
            "67/67 [==============================] - 100s 2s/step - loss: 0.0596 - categorical_accuracy: 0.9834 - val_loss: 0.7530 - val_categorical_accuracy: 0.7800 - lr: 2.0000e-04\n"
          ]
        },
        {
          "output_type": "execute_result",
          "data": {
            "text/plain": [
              "<keras.callbacks.History at 0x7fcd32d73820>"
            ]
          },
          "metadata": {},
          "execution_count": 38
        }
      ]
    },
    {
      "cell_type": "markdown",
      "metadata": {
        "id": "-IJKGN9l36uW"
      },
      "source": [
        "- The  experiments above shows that **\"image resolution\"** of 120 * 120 is sufficient. Hence, the image resolution will be kept at 120 *120\n",
        "- Good accuracy can also be gained by using less **number of frames** in sequence such as 16 frames.\n",
        "- The **batch_size** of 10 seems to be effective.\n",
        "- The greater the number of epochs, the longer the training time. \n",
        "- The epoch should not be higher than 20.\n"
      ]
    },
    {
      "cell_type": "markdown",
      "metadata": {
        "id": "Xi4Tukys36uW"
      },
      "source": [
        "## Model 1\n",
        "### Base Model - Batch Size = 10 and No. of Epochs = 20"
      ]
    },
    {
      "cell_type": "code",
      "execution_count": null,
      "metadata": {
        "id": "PGU7Tjoc36uX"
      },
      "outputs": [],
      "source": [
        "import tensorflow as tf\n",
        "#Base Model - Batch Size = 10 and No. of Epochs = 20\n",
        "class ModelConv3D1(ModelBuilder):\n",
        "    \n",
        "    def define_model(self,filtersize=(3,3,3),dense_neurons=512,dropout=0.25):\n",
        "\n",
        "        model = Sequential()\n",
        "        model.add(Conv3D(16, filtersize, padding='same',\n",
        "                 input_shape=(self.frames_to_sample,self.image_height,self.image_width,self.channels)))\n",
        "        model.add(Activation('relu'))\n",
        "        model.add(BatchNormalization())\n",
        "        model.add(MaxPooling3D(pool_size=(2, 2, 2)))\n",
        "\n",
        "        model.add(Conv3D(32, filtersize, padding='same'))\n",
        "        model.add(Activation('relu'))\n",
        "        model.add(BatchNormalization())\n",
        "        model.add(MaxPooling3D(pool_size=(2, 2, 2)))\n",
        "\n",
        "        model.add(Conv3D(64, filtersize, padding='same'))\n",
        "        model.add(Activation('relu'))\n",
        "        model.add(BatchNormalization())\n",
        "        model.add(MaxPooling3D(pool_size=(2, 2, 2)))\n",
        "\n",
        "        model.add(Conv3D(128, filtersize, padding='same'))\n",
        "        model.add(Activation('relu'))\n",
        "        model.add(BatchNormalization())\n",
        "        model.add(MaxPooling3D(pool_size=(2, 2, 2)))\n",
        "\n",
        "        model.add(Flatten())\n",
        "        model.add(Dense(dense_neurons,activation='relu'))\n",
        "        model.add(BatchNormalization())\n",
        "        model.add(Dropout(dropout))\n",
        "\n",
        "        model.add(Dense(self.num_classes,activation='softmax'))\n",
        "\n",
        "        optimiser = tf.keras.optimizers.Adam()\n",
        "        model.compile(optimizer=optimiser, loss='categorical_crossentropy', metrics=['categorical_accuracy'])\n",
        "        return model"
      ]
    },
    {
      "cell_type": "code",
      "execution_count": null,
      "metadata": {
        "colab": {
          "base_uri": "https://localhost:8080/"
        },
        "id": "afK64eLo36uX",
        "outputId": "d850936d-5c16-4f83-f69c-de5e2b8657e4"
      },
      "outputs": [
        {
          "output_type": "stream",
          "name": "stdout",
          "text": [
            "Model: \"sequential_8\"\n",
            "_________________________________________________________________\n",
            " Layer (type)                Output Shape              Param #   \n",
            "=================================================================\n",
            " conv3d_32 (Conv3D)          (None, 16, 120, 120, 16)  1312      \n",
            "                                                                 \n",
            " activation_32 (Activation)  (None, 16, 120, 120, 16)  0         \n",
            "                                                                 \n",
            " batch_normalization_38 (Bat  (None, 16, 120, 120, 16)  64       \n",
            " chNormalization)                                                \n",
            "                                                                 \n",
            " max_pooling3d_32 (MaxPoolin  (None, 8, 60, 60, 16)    0         \n",
            " g3D)                                                            \n",
            "                                                                 \n",
            " conv3d_33 (Conv3D)          (None, 8, 60, 60, 32)     13856     \n",
            "                                                                 \n",
            " activation_33 (Activation)  (None, 8, 60, 60, 32)     0         \n",
            "                                                                 \n",
            " batch_normalization_39 (Bat  (None, 8, 60, 60, 32)    128       \n",
            " chNormalization)                                                \n",
            "                                                                 \n",
            " max_pooling3d_33 (MaxPoolin  (None, 4, 30, 30, 32)    0         \n",
            " g3D)                                                            \n",
            "                                                                 \n",
            " conv3d_34 (Conv3D)          (None, 4, 30, 30, 64)     55360     \n",
            "                                                                 \n",
            " activation_34 (Activation)  (None, 4, 30, 30, 64)     0         \n",
            "                                                                 \n",
            " batch_normalization_40 (Bat  (None, 4, 30, 30, 64)    256       \n",
            " chNormalization)                                                \n",
            "                                                                 \n",
            " max_pooling3d_34 (MaxPoolin  (None, 2, 15, 15, 64)    0         \n",
            " g3D)                                                            \n",
            "                                                                 \n",
            " conv3d_35 (Conv3D)          (None, 2, 15, 15, 128)    221312    \n",
            "                                                                 \n",
            " activation_35 (Activation)  (None, 2, 15, 15, 128)    0         \n",
            "                                                                 \n",
            " batch_normalization_41 (Bat  (None, 2, 15, 15, 128)   512       \n",
            " chNormalization)                                                \n",
            "                                                                 \n",
            " max_pooling3d_35 (MaxPoolin  (None, 1, 7, 7, 128)     0         \n",
            " g3D)                                                            \n",
            "                                                                 \n",
            " flatten_6 (Flatten)         (None, 6272)              0         \n",
            "                                                                 \n",
            " dense_12 (Dense)            (None, 512)               3211776   \n",
            "                                                                 \n",
            " batch_normalization_42 (Bat  (None, 512)              2048      \n",
            " chNormalization)                                                \n",
            "                                                                 \n",
            " dropout_6 (Dropout)         (None, 512)               0         \n",
            "                                                                 \n",
            " dense_13 (Dense)            (None, 5)                 2565      \n",
            "                                                                 \n",
            "=================================================================\n",
            "Total params: 3,509,189\n",
            "Trainable params: 3,507,685\n",
            "Non-trainable params: 1,504\n",
            "_________________________________________________________________\n"
          ]
        }
      ],
      "source": [
        "conv_3d1=ModelConv3D1()\n",
        "conv_3d1.initialize_path(project_folder)\n",
        "conv_3d1.initialize_image_properties(image_height=120,image_width=120)\n",
        "conv_3d1.initialize_hyperparams(frames_to_sample=16,batch_size=10,num_epochs=20)\n",
        "conv_3d1_model=conv_3d1.define_model()\n",
        "conv_3d1_model.summary()"
      ]
    },
    {
      "cell_type": "code",
      "execution_count": null,
      "metadata": {
        "colab": {
          "base_uri": "https://localhost:8080/"
        },
        "id": "H0ufu6CS36uX",
        "outputId": "9318d63d-0ece-4703-e839-4f5068c09ef3"
      },
      "outputs": [
        {
          "output_type": "stream",
          "name": "stderr",
          "text": [
            "WARNING:tensorflow:`period` argument is deprecated. Please use `save_freq` to specify the frequency in number of batches seen.\n"
          ]
        },
        {
          "output_type": "stream",
          "name": "stdout",
          "text": [
            "Total Params: 3509189\n",
            "Epoch 1/20\n",
            "67/67 [==============================] - ETA: 0s - loss: 1.4862 - categorical_accuracy: 0.4902\n",
            "Epoch 1: val_loss improved from inf to 4.89451, saving model to model_init_2023-03-2012_15_24.128195/model-00001-1.48619-0.49020-4.89451-0.21000.h5\n",
            "67/67 [==============================] - 110s 2s/step - loss: 1.4862 - categorical_accuracy: 0.4902 - val_loss: 4.8945 - val_categorical_accuracy: 0.2100 - lr: 0.0010\n",
            "Epoch 2/20\n",
            "67/67 [==============================] - ETA: 0s - loss: 0.8999 - categorical_accuracy: 0.6652\n",
            "Epoch 2: val_loss did not improve from 4.89451\n",
            "67/67 [==============================] - 96s 1s/step - loss: 0.8999 - categorical_accuracy: 0.6652 - val_loss: 5.0220 - val_categorical_accuracy: 0.2300 - lr: 0.0010\n",
            "Epoch 3/20\n",
            "67/67 [==============================] - ETA: 0s - loss: 0.6979 - categorical_accuracy: 0.7315\n",
            "Epoch 3: val_loss did not improve from 4.89451\n",
            "67/67 [==============================] - 101s 2s/step - loss: 0.6979 - categorical_accuracy: 0.7315 - val_loss: 8.4005 - val_categorical_accuracy: 0.2300 - lr: 0.0010\n",
            "Epoch 4/20\n",
            "67/67 [==============================] - ETA: 0s - loss: 0.6063 - categorical_accuracy: 0.7677\n",
            "Epoch 4: val_loss did not improve from 4.89451\n",
            "67/67 [==============================] - 101s 2s/step - loss: 0.6063 - categorical_accuracy: 0.7677 - val_loss: 7.3965 - val_categorical_accuracy: 0.1700 - lr: 0.0010\n",
            "Epoch 5/20\n",
            "67/67 [==============================] - ETA: 0s - loss: 0.4969 - categorical_accuracy: 0.8160\n",
            "Epoch 5: val_loss improved from 4.89451 to 2.82880, saving model to model_init_2023-03-2012_15_24.128195/model-00005-0.49687-0.81599-2.82880-0.32000.h5\n",
            "67/67 [==============================] - 102s 2s/step - loss: 0.4969 - categorical_accuracy: 0.8160 - val_loss: 2.8288 - val_categorical_accuracy: 0.3200 - lr: 0.0010\n",
            "Epoch 6/20\n",
            "67/67 [==============================] - ETA: 0s - loss: 0.4767 - categorical_accuracy: 0.8205\n",
            "Epoch 6: val_loss did not improve from 2.82880\n",
            "67/67 [==============================] - 102s 2s/step - loss: 0.4767 - categorical_accuracy: 0.8205 - val_loss: 3.3835 - val_categorical_accuracy: 0.3300 - lr: 0.0010\n",
            "Epoch 7/20\n",
            "67/67 [==============================] - ETA: 0s - loss: 0.3946 - categorical_accuracy: 0.8492\n",
            "Epoch 7: val_loss improved from 2.82880 to 1.42261, saving model to model_init_2023-03-2012_15_24.128195/model-00007-0.39456-0.84917-1.42261-0.47000.h5\n",
            "67/67 [==============================] - 102s 2s/step - loss: 0.3946 - categorical_accuracy: 0.8492 - val_loss: 1.4226 - val_categorical_accuracy: 0.4700 - lr: 0.0010\n",
            "Epoch 8/20\n",
            "67/67 [==============================] - ETA: 0s - loss: 0.2338 - categorical_accuracy: 0.9140\n",
            "Epoch 8: val_loss did not improve from 1.42261\n",
            "67/67 [==============================] - 101s 2s/step - loss: 0.2338 - categorical_accuracy: 0.9140 - val_loss: 1.5071 - val_categorical_accuracy: 0.5900 - lr: 0.0010\n",
            "Epoch 9/20\n",
            "67/67 [==============================] - ETA: 0s - loss: 0.2628 - categorical_accuracy: 0.9140\n",
            "Epoch 9: val_loss improved from 1.42261 to 1.14600, saving model to model_init_2023-03-2012_15_24.128195/model-00009-0.26279-0.91403-1.14600-0.64000.h5\n",
            "67/67 [==============================] - 102s 2s/step - loss: 0.2628 - categorical_accuracy: 0.9140 - val_loss: 1.1460 - val_categorical_accuracy: 0.6400 - lr: 0.0010\n",
            "Epoch 10/20\n",
            "67/67 [==============================] - ETA: 0s - loss: 0.1481 - categorical_accuracy: 0.9563\n",
            "Epoch 10: val_loss did not improve from 1.14600\n",
            "67/67 [==============================] - 95s 1s/step - loss: 0.1481 - categorical_accuracy: 0.9563 - val_loss: 2.8342 - val_categorical_accuracy: 0.4000 - lr: 0.0010\n",
            "Epoch 11/20\n",
            "67/67 [==============================] - ETA: 0s - loss: 0.1938 - categorical_accuracy: 0.9412\n",
            "Epoch 11: val_loss improved from 1.14600 to 0.80400, saving model to model_init_2023-03-2012_15_24.128195/model-00011-0.19381-0.94118-0.80400-0.76000.h5\n",
            "67/67 [==============================] - 102s 2s/step - loss: 0.1938 - categorical_accuracy: 0.9412 - val_loss: 0.8040 - val_categorical_accuracy: 0.7600 - lr: 0.0010\n",
            "Epoch 12/20\n",
            "67/67 [==============================] - ETA: 0s - loss: 0.1189 - categorical_accuracy: 0.9608\n",
            "Epoch 12: val_loss did not improve from 0.80400\n",
            "67/67 [==============================] - 103s 2s/step - loss: 0.1189 - categorical_accuracy: 0.9608 - val_loss: 1.4899 - val_categorical_accuracy: 0.5700 - lr: 0.0010\n",
            "Epoch 13/20\n",
            "67/67 [==============================] - ETA: 0s - loss: 0.1271 - categorical_accuracy: 0.9578\n",
            "Epoch 13: val_loss did not improve from 0.80400\n",
            "67/67 [==============================] - 102s 2s/step - loss: 0.1271 - categorical_accuracy: 0.9578 - val_loss: 1.2694 - val_categorical_accuracy: 0.6800 - lr: 0.0010\n",
            "Epoch 14/20\n",
            "67/67 [==============================] - ETA: 0s - loss: 0.1434 - categorical_accuracy: 0.9487\n",
            "Epoch 14: val_loss did not improve from 0.80400\n",
            "67/67 [==============================] - 103s 2s/step - loss: 0.1434 - categorical_accuracy: 0.9487 - val_loss: 4.7903 - val_categorical_accuracy: 0.3300 - lr: 0.0010\n",
            "Epoch 15/20\n",
            "67/67 [==============================] - ETA: 0s - loss: 0.2104 - categorical_accuracy: 0.9155\n",
            "Epoch 15: val_loss did not improve from 0.80400\n",
            "\n",
            "Epoch 15: ReduceLROnPlateau reducing learning rate to 0.00020000000949949026.\n",
            "67/67 [==============================] - 102s 2s/step - loss: 0.2104 - categorical_accuracy: 0.9155 - val_loss: 2.8016 - val_categorical_accuracy: 0.4500 - lr: 0.0010\n",
            "Epoch 16/20\n",
            "67/67 [==============================] - ETA: 0s - loss: 0.1519 - categorical_accuracy: 0.9593\n",
            "Epoch 16: val_loss improved from 0.80400 to 0.62607, saving model to model_init_2023-03-2012_15_24.128195/model-00016-0.15190-0.95928-0.62607-0.78000.h5\n",
            "67/67 [==============================] - 102s 2s/step - loss: 0.1519 - categorical_accuracy: 0.9593 - val_loss: 0.6261 - val_categorical_accuracy: 0.7800 - lr: 2.0000e-04\n",
            "Epoch 17/20\n",
            "67/67 [==============================] - ETA: 0s - loss: 0.0682 - categorical_accuracy: 0.9819\n",
            "Epoch 17: val_loss did not improve from 0.62607\n",
            "67/67 [==============================] - 104s 2s/step - loss: 0.0682 - categorical_accuracy: 0.9819 - val_loss: 0.7647 - val_categorical_accuracy: 0.6700 - lr: 2.0000e-04\n",
            "Epoch 18/20\n",
            "67/67 [==============================] - ETA: 0s - loss: 0.0528 - categorical_accuracy: 0.9849\n",
            "Epoch 18: val_loss did not improve from 0.62607\n",
            "67/67 [==============================] - 105s 2s/step - loss: 0.0528 - categorical_accuracy: 0.9849 - val_loss: 0.6506 - val_categorical_accuracy: 0.7800 - lr: 2.0000e-04\n",
            "Epoch 19/20\n",
            "67/67 [==============================] - ETA: 0s - loss: 0.0462 - categorical_accuracy: 0.9879\n",
            "Epoch 19: val_loss did not improve from 0.62607\n",
            "67/67 [==============================] - 100s 2s/step - loss: 0.0462 - categorical_accuracy: 0.9879 - val_loss: 0.6953 - val_categorical_accuracy: 0.7800 - lr: 2.0000e-04\n",
            "Epoch 20/20\n",
            "67/67 [==============================] - ETA: 0s - loss: 0.0580 - categorical_accuracy: 0.9804\n",
            "Epoch 20: val_loss did not improve from 0.62607\n",
            "\n",
            "Epoch 20: ReduceLROnPlateau reducing learning rate to 4.0000001899898055e-05.\n",
            "67/67 [==============================] - 100s 2s/step - loss: 0.0580 - categorical_accuracy: 0.9804 - val_loss: 0.7332 - val_categorical_accuracy: 0.7700 - lr: 2.0000e-04\n"
          ]
        }
      ],
      "source": [
        "#Total Params\n",
        "print(\"Total Params:\", conv_3d1_model.count_params())\n",
        "history_model1 = conv_3d1.train_model(conv_3d1_model)"
      ]
    },
    {
      "cell_type": "code",
      "execution_count": null,
      "metadata": {
        "id": "HN3FJw9Z36uY",
        "outputId": "b84a99c8-abcc-42ed-f69e-42206b7fb12b",
        "colab": {
          "base_uri": "https://localhost:8080/",
          "height": 265
        }
      },
      "outputs": [
        {
          "output_type": "display_data",
          "data": {
            "text/plain": [
              "<Figure size 1080x288 with 2 Axes>"
            ],
            "image/png": "[encoded data removed]"
          },
          "metadata": {
            "needs_background": "light"
          }
        }
      ],
      "source": [
        "plot(history_model1)"
      ]
    },
    {
      "cell_type": "markdown",
      "metadata": {
        "id": "JRy2z-zI36uY"
      },
      "source": [
        "##### This Model is overfitting as can be seen from the orange line (Val_categorical_accuracy)"
      ]
    },
    {
      "cell_type": "markdown",
      "metadata": {
        "id": "1knve78f36uY"
      },
      "source": [
        "## Model 2  \n",
        "### Using a dropout layer of 0.5 - Batch Size = 10 and No. of Epochs = 20"
      ]
    },
    {
      "cell_type": "code",
      "execution_count": null,
      "metadata": {
        "id": "T2tZ0Jn736uY",
        "outputId": "489b8708-405b-4001-9661-38f5a40e8823",
        "colab": {
          "base_uri": "https://localhost:8080/"
        }
      },
      "outputs": [
        {
          "output_type": "stream",
          "name": "stdout",
          "text": [
            "Model: \"sequential_9\"\n",
            "_________________________________________________________________\n",
            " Layer (type)                Output Shape              Param #   \n",
            "=================================================================\n",
            " conv3d_36 (Conv3D)          (None, 16, 120, 120, 16)  1312      \n",
            "                                                                 \n",
            " activation_36 (Activation)  (None, 16, 120, 120, 16)  0         \n",
            "                                                                 \n",
            " batch_normalization_43 (Bat  (None, 16, 120, 120, 16)  64       \n",
            " chNormalization)                                                \n",
            "                                                                 \n",
            " max_pooling3d_36 (MaxPoolin  (None, 8, 60, 60, 16)    0         \n",
            " g3D)                                                            \n",
            "                                                                 \n",
            " conv3d_37 (Conv3D)          (None, 8, 60, 60, 32)     13856     \n",
            "                                                                 \n",
            " activation_37 (Activation)  (None, 8, 60, 60, 32)     0         \n",
            "                                                                 \n",
            " batch_normalization_44 (Bat  (None, 8, 60, 60, 32)    128       \n",
            " chNormalization)                                                \n",
            "                                                                 \n",
            " max_pooling3d_37 (MaxPoolin  (None, 4, 30, 30, 32)    0         \n",
            " g3D)                                                            \n",
            "                                                                 \n",
            " conv3d_38 (Conv3D)          (None, 4, 30, 30, 64)     55360     \n",
            "                                                                 \n",
            " activation_38 (Activation)  (None, 4, 30, 30, 64)     0         \n",
            "                                                                 \n",
            " batch_normalization_45 (Bat  (None, 4, 30, 30, 64)    256       \n",
            " chNormalization)                                                \n",
            "                                                                 \n",
            " max_pooling3d_38 (MaxPoolin  (None, 2, 15, 15, 64)    0         \n",
            " g3D)                                                            \n",
            "                                                                 \n",
            " conv3d_39 (Conv3D)          (None, 2, 15, 15, 128)    221312    \n",
            "                                                                 \n",
            " activation_39 (Activation)  (None, 2, 15, 15, 128)    0         \n",
            "                                                                 \n",
            " batch_normalization_46 (Bat  (None, 2, 15, 15, 128)   512       \n",
            " chNormalization)                                                \n",
            "                                                                 \n",
            " max_pooling3d_39 (MaxPoolin  (None, 1, 7, 7, 128)     0         \n",
            " g3D)                                                            \n",
            "                                                                 \n",
            " flatten_7 (Flatten)         (None, 6272)              0         \n",
            "                                                                 \n",
            " dense_14 (Dense)            (None, 256)               1605888   \n",
            "                                                                 \n",
            " batch_normalization_47 (Bat  (None, 256)              1024      \n",
            " chNormalization)                                                \n",
            "                                                                 \n",
            " dropout_7 (Dropout)         (None, 256)               0         \n",
            "                                                                 \n",
            " dense_15 (Dense)            (None, 5)                 1285      \n",
            "                                                                 \n",
            "=================================================================\n",
            "Total params: 1,900,997\n",
            "Trainable params: 1,900,005\n",
            "Non-trainable params: 992\n",
            "_________________________________________________________________\n"
          ]
        }
      ],
      "source": [
        "#Adding dropout layers - Batch Size = 10 and No. of Epochs = 20\n",
        "conv_3d2=ModelConv3D1()\n",
        "conv_3d2.initialize_path(project_folder)\n",
        "conv_3d2.initialize_image_properties(image_height=120,image_width=120)\n",
        "conv_3d2.initialize_hyperparams(frames_to_sample=16,batch_size=10,num_epochs=20)\n",
        "conv_3d2_model=conv_3d2.define_model(dense_neurons=256,dropout=0.5)\n",
        "conv_3d2_model.summary()"
      ]
    },
    {
      "cell_type": "code",
      "execution_count": null,
      "metadata": {
        "id": "60llIpix36uZ",
        "outputId": "831296dd-7765-4c5c-fb19-8f9588236d99",
        "colab": {
          "base_uri": "https://localhost:8080/"
        }
      },
      "outputs": [
        {
          "output_type": "stream",
          "name": "stderr",
          "text": [
            "WARNING:tensorflow:`period` argument is deprecated. Please use `save_freq` to specify the frequency in number of batches seen.\n"
          ]
        },
        {
          "output_type": "stream",
          "name": "stdout",
          "text": [
            "Total Params: 1900997\n",
            "Epoch 1/20\n",
            "67/67 [==============================] - ETA: 0s - loss: 1.5500 - categorical_accuracy: 0.4623\n",
            "Epoch 1: val_loss improved from inf to 3.56029, saving model to model_init_2023-03-2013_15_18.823669/model-00001-1.55003-0.46229-3.56029-0.16000.h5\n",
            "67/67 [==============================] - 211s 3s/step - loss: 1.5500 - categorical_accuracy: 0.4623 - val_loss: 3.5603 - val_categorical_accuracy: 0.1600 - lr: 0.0010\n",
            "Epoch 2/20\n",
            "67/67 [==============================] - ETA: 0s - loss: 1.2417 - categorical_accuracy: 0.5490\n",
            "Epoch 2: val_loss did not improve from 3.56029\n",
            "67/67 [==============================] - 195s 3s/step - loss: 1.2417 - categorical_accuracy: 0.5490 - val_loss: 4.4313 - val_categorical_accuracy: 0.1800 - lr: 0.0010\n",
            "Epoch 3/20\n",
            "67/67 [==============================] - ETA: 0s - loss: 1.1133 - categorical_accuracy: 0.5882\n",
            "Epoch 3: val_loss did not improve from 3.56029\n",
            "67/67 [==============================] - 218s 3s/step - loss: 1.1133 - categorical_accuracy: 0.5882 - val_loss: 4.5032 - val_categorical_accuracy: 0.2300 - lr: 0.0010\n",
            "Epoch 4/20\n",
            "67/67 [==============================] - ETA: 0s - loss: 0.8873 - categorical_accuracy: 0.6546\n",
            "Epoch 4: val_loss did not improve from 3.56029\n",
            "67/67 [==============================] - 202s 3s/step - loss: 0.8873 - categorical_accuracy: 0.6546 - val_loss: 5.8515 - val_categorical_accuracy: 0.2400 - lr: 0.0010\n",
            "Epoch 5/20\n",
            "67/67 [==============================] - ETA: 0s - loss: 0.7698 - categorical_accuracy: 0.6840\n",
            "Epoch 5: val_loss improved from 3.56029 to 3.07110, saving model to model_init_2023-03-2013_15_18.823669/model-00005-0.76977-0.68401-3.07110-0.26000.h5\n",
            "67/67 [==============================] - 193s 3s/step - loss: 0.7698 - categorical_accuracy: 0.6840 - val_loss: 3.0711 - val_categorical_accuracy: 0.2600 - lr: 0.0010\n",
            "Epoch 6/20\n",
            "67/67 [==============================] - ETA: 0s - loss: 0.6482 - categorical_accuracy: 0.7511\n",
            "Epoch 6: val_loss did not improve from 3.07110\n",
            "67/67 [==============================] - 192s 3s/step - loss: 0.6482 - categorical_accuracy: 0.7511 - val_loss: 3.4367 - val_categorical_accuracy: 0.3200 - lr: 0.0010\n",
            "Epoch 7/20\n",
            "67/67 [==============================] - ETA: 0s - loss: 0.5834 - categorical_accuracy: 0.7843\n",
            "Epoch 7: val_loss improved from 3.07110 to 2.52339, saving model to model_init_2023-03-2013_15_18.823669/model-00007-0.58343-0.78431-2.52339-0.33000.h5\n",
            "67/67 [==============================] - 187s 3s/step - loss: 0.5834 - categorical_accuracy: 0.7843 - val_loss: 2.5234 - val_categorical_accuracy: 0.3300 - lr: 0.0010\n",
            "Epoch 8/20\n",
            "67/67 [==============================] - ETA: 0s - loss: 0.5022 - categorical_accuracy: 0.8100\n",
            "Epoch 8: val_loss did not improve from 2.52339\n",
            "67/67 [==============================] - 190s 3s/step - loss: 0.5022 - categorical_accuracy: 0.8100 - val_loss: 2.7295 - val_categorical_accuracy: 0.4500 - lr: 0.0010\n",
            "Epoch 9/20\n",
            "67/67 [==============================] - ETA: 0s - loss: 0.4381 - categorical_accuracy: 0.8439\n",
            "Epoch 9: val_loss improved from 2.52339 to 1.41123, saving model to model_init_2023-03-2013_15_18.823669/model-00009-0.43811-0.84389-1.41123-0.60000.h5\n",
            "67/67 [==============================] - 189s 3s/step - loss: 0.4381 - categorical_accuracy: 0.8439 - val_loss: 1.4112 - val_categorical_accuracy: 0.6000 - lr: 0.0010\n",
            "Epoch 10/20\n",
            "67/67 [==============================] - ETA: 0s - loss: 0.3712 - categorical_accuracy: 0.8567\n",
            "Epoch 10: val_loss did not improve from 1.41123\n",
            "67/67 [==============================] - 190s 3s/step - loss: 0.3712 - categorical_accuracy: 0.8567 - val_loss: 3.3349 - val_categorical_accuracy: 0.4900 - lr: 0.0010\n",
            "Epoch 11/20\n",
            "67/67 [==============================] - ETA: 0s - loss: 0.3275 - categorical_accuracy: 0.8778\n",
            "Epoch 11: val_loss improved from 1.41123 to 0.67495, saving model to model_init_2023-03-2013_15_18.823669/model-00011-0.32755-0.87783-0.67495-0.74000.h5\n",
            "67/67 [==============================] - 186s 3s/step - loss: 0.3275 - categorical_accuracy: 0.8778 - val_loss: 0.6749 - val_categorical_accuracy: 0.7400 - lr: 0.0010\n",
            "Epoch 12/20\n",
            "67/67 [==============================] - ETA: 0s - loss: 0.3541 - categorical_accuracy: 0.8756\n",
            "Epoch 12: val_loss did not improve from 0.67495\n",
            "67/67 [==============================] - 189s 3s/step - loss: 0.3541 - categorical_accuracy: 0.8756 - val_loss: 0.8924 - val_categorical_accuracy: 0.6800 - lr: 0.0010\n",
            "Epoch 13/20\n",
            "67/67 [==============================] - ETA: 0s - loss: 0.3138 - categorical_accuracy: 0.8824\n",
            "Epoch 13: val_loss did not improve from 0.67495\n",
            "67/67 [==============================] - 188s 3s/step - loss: 0.3138 - categorical_accuracy: 0.8824 - val_loss: 1.3634 - val_categorical_accuracy: 0.5900 - lr: 0.0010\n",
            "Epoch 14/20\n",
            "67/67 [==============================] - ETA: 0s - loss: 0.3181 - categorical_accuracy: 0.8982\n",
            "Epoch 14: val_loss did not improve from 0.67495\n",
            "67/67 [==============================] - 185s 3s/step - loss: 0.3181 - categorical_accuracy: 0.8982 - val_loss: 2.9649 - val_categorical_accuracy: 0.4200 - lr: 0.0010\n",
            "Epoch 15/20\n",
            "67/67 [==============================] - ETA: 0s - loss: 0.3168 - categorical_accuracy: 0.8906\n",
            "Epoch 15: val_loss did not improve from 0.67495\n",
            "\n",
            "Epoch 15: ReduceLROnPlateau reducing learning rate to 0.00020000000949949026.\n",
            "67/67 [==============================] - 184s 3s/step - loss: 0.3168 - categorical_accuracy: 0.8906 - val_loss: 0.7717 - val_categorical_accuracy: 0.7200 - lr: 0.0010\n",
            "Epoch 16/20\n",
            "67/67 [==============================] - ETA: 0s - loss: 0.1844 - categorical_accuracy: 0.9457\n",
            "Epoch 16: val_loss improved from 0.67495 to 0.66274, saving model to model_init_2023-03-2013_15_18.823669/model-00016-0.18440-0.94570-0.66274-0.74000.h5\n",
            "67/67 [==============================] - 181s 3s/step - loss: 0.1844 - categorical_accuracy: 0.9457 - val_loss: 0.6627 - val_categorical_accuracy: 0.7400 - lr: 2.0000e-04\n",
            "Epoch 17/20\n",
            "67/67 [==============================] - ETA: 0s - loss: 0.1797 - categorical_accuracy: 0.9404\n",
            "Epoch 17: val_loss did not improve from 0.66274\n",
            "67/67 [==============================] - 180s 3s/step - loss: 0.1797 - categorical_accuracy: 0.9404 - val_loss: 0.7755 - val_categorical_accuracy: 0.7400 - lr: 2.0000e-04\n",
            "Epoch 18/20\n",
            "67/67 [==============================] - ETA: 0s - loss: 0.1503 - categorical_accuracy: 0.9517\n",
            "Epoch 18: val_loss improved from 0.66274 to 0.53865, saving model to model_init_2023-03-2013_15_18.823669/model-00018-0.15026-0.95173-0.53865-0.76000.h5\n",
            "67/67 [==============================] - 180s 3s/step - loss: 0.1503 - categorical_accuracy: 0.9517 - val_loss: 0.5386 - val_categorical_accuracy: 0.7600 - lr: 2.0000e-04\n",
            "Epoch 19/20\n",
            "67/67 [==============================] - ETA: 0s - loss: 0.1537 - categorical_accuracy: 0.9525\n",
            "Epoch 19: val_loss did not improve from 0.53865\n",
            "67/67 [==============================] - 186s 3s/step - loss: 0.1537 - categorical_accuracy: 0.9525 - val_loss: 0.6151 - val_categorical_accuracy: 0.8200 - lr: 2.0000e-04\n",
            "Epoch 20/20\n",
            "67/67 [==============================] - ETA: 0s - loss: 0.1277 - categorical_accuracy: 0.9608\n",
            "Epoch 20: val_loss did not improve from 0.53865\n",
            "67/67 [==============================] - 186s 3s/step - loss: 0.1277 - categorical_accuracy: 0.9608 - val_loss: 0.6784 - val_categorical_accuracy: 0.7500 - lr: 2.0000e-04\n"
          ]
        }
      ],
      "source": [
        "print(\"Total Params:\", conv_3d2_model.count_params())\n",
        "history_model2=conv_3d2.train_model(conv_3d2_model,augment_data=True)"
      ]
    },
    {
      "cell_type": "code",
      "execution_count": null,
      "metadata": {
        "id": "n_HwczqG36uZ",
        "outputId": "8c87a073-1971-49ec-f66c-48b6df2230fa",
        "colab": {
          "base_uri": "https://localhost:8080/",
          "height": 269
        }
      },
      "outputs": [
        {
          "output_type": "display_data",
          "data": {
            "text/plain": [
              "<Figure size 1080x288 with 2 Axes>"
            ],
            "image/png": "[encoded data removed]"
          },
          "metadata": {
            "needs_background": "light"
          }
        }
      ],
      "source": [
        "#Plotting history model\n",
        "plot(history_model2)"
      ]
    },
    {
      "cell_type": "markdown",
      "metadata": {
        "id": "33bUatD-36uZ"
      },
      "source": [
        "##### There is less overfitting but its still present.\n"
      ]
    },
    {
      "cell_type": "markdown",
      "metadata": {
        "id": "hliLTx5_36uZ"
      },
      "source": [
        "## Model 3 \n",
        "### Reducing the filter size from (3,3,3) to (2,2,2). Image resolution - 120 x  120, Batch Size = 10 and No. of Epochs = 20"
      ]
    },
    {
      "cell_type": "code",
      "execution_count": null,
      "metadata": {
        "id": "nifISqIz36ua"
      },
      "outputs": [],
      "source": [
        "#Reducing the filter size to (2,2,2), Batch Size = 10 and No. of Epochs = 20\n",
        "\n",
        "class ModelConv3D3(ModelBuilder):\n",
        "    \n",
        "    def define_model(self,filtersize=(2,2,2),dense_neurons=256,dropout=0.50):\n",
        "\n",
        "        model = Sequential()\n",
        "        model.add(Conv3D(16, filtersize, padding='same',\n",
        "                 input_shape=(self.frames_to_sample,self.image_height,self.image_width,self.channels)))\n",
        "        model.add(Activation('relu'))\n",
        "        model.add(BatchNormalization())\n",
        "        model.add(MaxPooling3D(pool_size=(2, 2, 2)))\n",
        "\n",
        "        model.add(Conv3D(32, filtersize, padding='same'))\n",
        "        model.add(Activation('relu'))\n",
        "        model.add(BatchNormalization())\n",
        "        model.add(MaxPooling3D(pool_size=(2, 2, 2)))\n",
        "\n",
        "        model.add(Conv3D(64, filtersize, padding='same'))\n",
        "        model.add(Activation('relu'))\n",
        "        model.add(BatchNormalization())\n",
        "        model.add(MaxPooling3D(pool_size=(2, 2, 2)))\n",
        "\n",
        "        model.add(Conv3D(128, filtersize, padding='same'))\n",
        "        model.add(Activation('relu'))\n",
        "        model.add(BatchNormalization())\n",
        "        model.add(MaxPooling3D(pool_size=(2, 2, 2)))\n",
        "\n",
        "        model.add(Flatten())\n",
        "        model.add(Dense(dense_neurons,activation='relu'))\n",
        "        model.add(BatchNormalization())\n",
        "        model.add(Dropout(dropout))\n",
        "        model.add(Dense(self.num_classes,activation='softmax'))\n",
        "        \n",
        "        optimiser = optimizers.Adam(lr=0.0002)\n",
        "        model.compile(optimizer=optimiser, loss='categorical_crossentropy', metrics=['categorical_accuracy'])\n",
        "        return model"
      ]
    },
    {
      "cell_type": "code",
      "execution_count": null,
      "metadata": {
        "id": "67gp9Dob36ua",
        "outputId": "1386b631-d4a3-427b-e1cc-e017b7b001cf",
        "colab": {
          "base_uri": "https://localhost:8080/"
        }
      },
      "outputs": [
        {
          "output_type": "stream",
          "name": "stdout",
          "text": [
            "Model: \"sequential_10\"\n",
            "_________________________________________________________________\n",
            " Layer (type)                Output Shape              Param #   \n",
            "=================================================================\n",
            " conv3d_40 (Conv3D)          (None, 16, 120, 120, 16)  400       \n",
            "                                                                 \n",
            " activation_40 (Activation)  (None, 16, 120, 120, 16)  0         \n",
            "                                                                 \n",
            " batch_normalization_48 (Bat  (None, 16, 120, 120, 16)  64       \n",
            " chNormalization)                                                \n",
            "                                                                 \n",
            " max_pooling3d_40 (MaxPoolin  (None, 8, 60, 60, 16)    0         \n",
            " g3D)                                                            \n",
            "                                                                 \n",
            " conv3d_41 (Conv3D)          (None, 8, 60, 60, 32)     4128      \n",
            "                                                                 \n",
            " activation_41 (Activation)  (None, 8, 60, 60, 32)     0         \n",
            "                                                                 \n",
            " batch_normalization_49 (Bat  (None, 8, 60, 60, 32)    128       \n",
            " chNormalization)                                                \n",
            "                                                                 \n",
            " max_pooling3d_41 (MaxPoolin  (None, 4, 30, 30, 32)    0         \n",
            " g3D)                                                            \n",
            "                                                                 \n",
            " conv3d_42 (Conv3D)          (None, 4, 30, 30, 64)     16448     \n",
            "                                                                 \n",
            " activation_42 (Activation)  (None, 4, 30, 30, 64)     0         \n",
            "                                                                 \n",
            " batch_normalization_50 (Bat  (None, 4, 30, 30, 64)    256       \n",
            " chNormalization)                                                \n",
            "                                                                 \n",
            " max_pooling3d_42 (MaxPoolin  (None, 2, 15, 15, 64)    0         \n",
            " g3D)                                                            \n",
            "                                                                 \n",
            " conv3d_43 (Conv3D)          (None, 2, 15, 15, 128)    65664     \n",
            "                                                                 \n",
            " activation_43 (Activation)  (None, 2, 15, 15, 128)    0         \n",
            "                                                                 \n",
            " batch_normalization_51 (Bat  (None, 2, 15, 15, 128)   512       \n",
            " chNormalization)                                                \n",
            "                                                                 \n",
            " max_pooling3d_43 (MaxPoolin  (None, 1, 7, 7, 128)     0         \n",
            " g3D)                                                            \n",
            "                                                                 \n",
            " flatten_8 (Flatten)         (None, 6272)              0         \n",
            "                                                                 \n",
            " dense_16 (Dense)            (None, 256)               1605888   \n",
            "                                                                 \n",
            " batch_normalization_52 (Bat  (None, 256)              1024      \n",
            " chNormalization)                                                \n",
            "                                                                 \n",
            " dropout_8 (Dropout)         (None, 256)               0         \n",
            "                                                                 \n",
            " dense_17 (Dense)            (None, 5)                 1285      \n",
            "                                                                 \n",
            "=================================================================\n",
            "Total params: 1,695,797\n",
            "Trainable params: 1,694,805\n",
            "Non-trainable params: 992\n",
            "_________________________________________________________________\n"
          ]
        }
      ],
      "source": [
        "conv_3d3=ModelConv3D3()\n",
        "conv_3d3.initialize_path(project_folder)\n",
        "conv_3d3.initialize_image_properties(image_height=120,image_width=120)\n",
        "conv_3d3.initialize_hyperparams(frames_to_sample=16,batch_size=10,num_epochs=20)\n",
        "conv_3d3_model=conv_3d3.define_model(filtersize=(2,2,2),dense_neurons=256,dropout=0.5)\n",
        "conv_3d3_model.summary()"
      ]
    },
    {
      "cell_type": "code",
      "execution_count": null,
      "metadata": {
        "id": "IeRF5ML236ua",
        "outputId": "1f5b4afd-3139-4941-a4a2-e5cefdd8b24f",
        "colab": {
          "base_uri": "https://localhost:8080/"
        }
      },
      "outputs": [
        {
          "output_type": "stream",
          "name": "stderr",
          "text": [
            "WARNING:tensorflow:`period` argument is deprecated. Please use `save_freq` to specify the frequency in number of batches seen.\n"
          ]
        },
        {
          "output_type": "stream",
          "name": "stdout",
          "text": [
            "Total Params: 1695797\n",
            "Epoch 1/20\n",
            "67/67 [==============================] - ETA: 0s - loss: 1.7365 - categorical_accuracy: 0.4359\n",
            "Epoch 1: val_loss improved from inf to 4.11919, saving model to model_init_2023-03-2014_23_15.016313/model-00001-1.73650-0.43590-4.11919-0.21000.h5\n",
            "67/67 [==============================] - 188s 3s/step - loss: 1.7365 - categorical_accuracy: 0.4359 - val_loss: 4.1192 - val_categorical_accuracy: 0.2100 - lr: 2.0000e-04\n",
            "Epoch 2/20\n",
            "67/67 [==============================] - ETA: 0s - loss: 0.9352 - categorical_accuracy: 0.6591\n",
            "Epoch 2: val_loss did not improve from 4.11919\n",
            "67/67 [==============================] - 183s 3s/step - loss: 0.9352 - categorical_accuracy: 0.6591 - val_loss: 6.5085 - val_categorical_accuracy: 0.1800 - lr: 2.0000e-04\n",
            "Epoch 3/20\n",
            "67/67 [==============================] - ETA: 0s - loss: 0.8597 - categorical_accuracy: 0.6923\n",
            "Epoch 3: val_loss did not improve from 4.11919\n",
            "67/67 [==============================] - 179s 3s/step - loss: 0.8597 - categorical_accuracy: 0.6923 - val_loss: 5.6445 - val_categorical_accuracy: 0.2600 - lr: 2.0000e-04\n",
            "Epoch 4/20\n",
            "67/67 [==============================] - ETA: 0s - loss: 0.7342 - categorical_accuracy: 0.7202\n",
            "Epoch 4: val_loss did not improve from 4.11919\n",
            "67/67 [==============================] - 184s 3s/step - loss: 0.7342 - categorical_accuracy: 0.7202 - val_loss: 4.3756 - val_categorical_accuracy: 0.2700 - lr: 2.0000e-04\n",
            "Epoch 5/20\n",
            "67/67 [==============================] - ETA: 0s - loss: 0.5852 - categorical_accuracy: 0.7964\n",
            "Epoch 5: val_loss did not improve from 4.11919\n",
            "\n",
            "Epoch 5: ReduceLROnPlateau reducing learning rate to 3.9999998989515007e-05.\n",
            "67/67 [==============================] - 181s 3s/step - loss: 0.5852 - categorical_accuracy: 0.7964 - val_loss: 4.2604 - val_categorical_accuracy: 0.2600 - lr: 2.0000e-04\n",
            "Epoch 6/20\n",
            "67/67 [==============================] - ETA: 0s - loss: 0.4428 - categorical_accuracy: 0.8454\n",
            "Epoch 6: val_loss improved from 4.11919 to 3.26115, saving model to model_init_2023-03-2014_23_15.016313/model-00006-0.44278-0.84540-3.26115-0.30000.h5\n",
            "67/67 [==============================] - 185s 3s/step - loss: 0.4428 - categorical_accuracy: 0.8454 - val_loss: 3.2612 - val_categorical_accuracy: 0.3000 - lr: 4.0000e-05\n",
            "Epoch 7/20\n",
            "67/67 [==============================] - ETA: 0s - loss: 0.4798 - categorical_accuracy: 0.8175\n",
            "Epoch 7: val_loss improved from 3.26115 to 2.31785, saving model to model_init_2023-03-2014_23_15.016313/model-00007-0.47976-0.81750-2.31785-0.39000.h5\n",
            "67/67 [==============================] - 180s 3s/step - loss: 0.4798 - categorical_accuracy: 0.8175 - val_loss: 2.3178 - val_categorical_accuracy: 0.3900 - lr: 4.0000e-05\n",
            "Epoch 8/20\n",
            "67/67 [==============================] - ETA: 0s - loss: 0.4318 - categorical_accuracy: 0.8522\n",
            "Epoch 8: val_loss improved from 2.31785 to 1.71361, saving model to model_init_2023-03-2014_23_15.016313/model-00008-0.43183-0.85219-1.71361-0.52000.h5\n",
            "67/67 [==============================] - 215s 3s/step - loss: 0.4318 - categorical_accuracy: 0.8522 - val_loss: 1.7136 - val_categorical_accuracy: 0.5200 - lr: 4.0000e-05\n",
            "Epoch 9/20\n",
            "67/67 [==============================] - ETA: 0s - loss: 0.3817 - categorical_accuracy: 0.8575\n",
            "Epoch 9: val_loss improved from 1.71361 to 1.22401, saving model to model_init_2023-03-2014_23_15.016313/model-00009-0.38170-0.85747-1.22401-0.64000.h5\n",
            "67/67 [==============================] - 182s 3s/step - loss: 0.3817 - categorical_accuracy: 0.8575 - val_loss: 1.2240 - val_categorical_accuracy: 0.6400 - lr: 4.0000e-05\n",
            "Epoch 10/20\n",
            "67/67 [==============================] - ETA: 0s - loss: 0.3906 - categorical_accuracy: 0.8582\n",
            "Epoch 10: val_loss improved from 1.22401 to 0.89742, saving model to model_init_2023-03-2014_23_15.016313/model-00010-0.39064-0.85822-0.89742-0.75000.h5\n",
            "67/67 [==============================] - 182s 3s/step - loss: 0.3906 - categorical_accuracy: 0.8582 - val_loss: 0.8974 - val_categorical_accuracy: 0.7500 - lr: 4.0000e-05\n",
            "Epoch 11/20\n",
            "67/67 [==============================] - ETA: 0s - loss: 0.3502 - categorical_accuracy: 0.8756\n",
            "Epoch 11: val_loss improved from 0.89742 to 0.87843, saving model to model_init_2023-03-2014_23_15.016313/model-00011-0.35015-0.87557-0.87843-0.76000.h5\n",
            "67/67 [==============================] - 181s 3s/step - loss: 0.3502 - categorical_accuracy: 0.8756 - val_loss: 0.8784 - val_categorical_accuracy: 0.7600 - lr: 4.0000e-05\n",
            "Epoch 12/20\n",
            "67/67 [==============================] - ETA: 0s - loss: 0.3450 - categorical_accuracy: 0.8778\n",
            "Epoch 12: val_loss improved from 0.87843 to 0.81573, saving model to model_init_2023-03-2014_23_15.016313/model-00012-0.34503-0.87783-0.81573-0.76000.h5\n",
            "67/67 [==============================] - 181s 3s/step - loss: 0.3450 - categorical_accuracy: 0.8778 - val_loss: 0.8157 - val_categorical_accuracy: 0.7600 - lr: 4.0000e-05\n",
            "Epoch 13/20\n",
            "67/67 [==============================] - ETA: 0s - loss: 0.3691 - categorical_accuracy: 0.8612\n",
            "Epoch 13: val_loss improved from 0.81573 to 0.78802, saving model to model_init_2023-03-2014_23_15.016313/model-00013-0.36907-0.86124-0.78802-0.80000.h5\n",
            "67/67 [==============================] - 180s 3s/step - loss: 0.3691 - categorical_accuracy: 0.8612 - val_loss: 0.7880 - val_categorical_accuracy: 0.8000 - lr: 4.0000e-05\n",
            "Epoch 14/20\n",
            "67/67 [==============================] - ETA: 0s - loss: 0.3290 - categorical_accuracy: 0.8793\n",
            "Epoch 14: val_loss improved from 0.78802 to 0.71028, saving model to model_init_2023-03-2014_23_15.016313/model-00014-0.32903-0.87934-0.71028-0.80000.h5\n",
            "67/67 [==============================] - 180s 3s/step - loss: 0.3290 - categorical_accuracy: 0.8793 - val_loss: 0.7103 - val_categorical_accuracy: 0.8000 - lr: 4.0000e-05\n",
            "Epoch 15/20\n",
            "67/67 [==============================] - ETA: 0s - loss: 0.3525 - categorical_accuracy: 0.8816\n",
            "Epoch 15: val_loss did not improve from 0.71028\n",
            "67/67 [==============================] - 181s 3s/step - loss: 0.3525 - categorical_accuracy: 0.8816 - val_loss: 0.8536 - val_categorical_accuracy: 0.8100 - lr: 4.0000e-05\n",
            "Epoch 16/20\n",
            "67/67 [==============================] - ETA: 0s - loss: 0.3248 - categorical_accuracy: 0.8778\n",
            "Epoch 16: val_loss did not improve from 0.71028\n",
            "67/67 [==============================] - 182s 3s/step - loss: 0.3248 - categorical_accuracy: 0.8778 - val_loss: 0.8097 - val_categorical_accuracy: 0.8200 - lr: 4.0000e-05\n",
            "Epoch 17/20\n",
            "67/67 [==============================] - ETA: 0s - loss: 0.3091 - categorical_accuracy: 0.8861\n",
            "Epoch 17: val_loss improved from 0.71028 to 0.62806, saving model to model_init_2023-03-2014_23_15.016313/model-00017-0.30907-0.88612-0.62806-0.82000.h5\n",
            "67/67 [==============================] - 184s 3s/step - loss: 0.3091 - categorical_accuracy: 0.8861 - val_loss: 0.6281 - val_categorical_accuracy: 0.8200 - lr: 4.0000e-05\n",
            "Epoch 18/20\n",
            "67/67 [==============================] - ETA: 0s - loss: 0.2513 - categorical_accuracy: 0.9110\n",
            "Epoch 18: val_loss did not improve from 0.62806\n",
            "67/67 [==============================] - 183s 3s/step - loss: 0.2513 - categorical_accuracy: 0.9110 - val_loss: 0.7334 - val_categorical_accuracy: 0.8000 - lr: 4.0000e-05\n",
            "Epoch 19/20\n",
            "67/67 [==============================] - ETA: 0s - loss: 0.2793 - categorical_accuracy: 0.8974\n",
            "Epoch 19: val_loss did not improve from 0.62806\n",
            "67/67 [==============================] - 186s 3s/step - loss: 0.2793 - categorical_accuracy: 0.8974 - val_loss: 0.8502 - val_categorical_accuracy: 0.7700 - lr: 4.0000e-05\n",
            "Epoch 20/20\n",
            "67/67 [==============================] - ETA: 0s - loss: 0.2946 - categorical_accuracy: 0.8989\n",
            "Epoch 20: val_loss did not improve from 0.62806\n",
            "67/67 [==============================] - 185s 3s/step - loss: 0.2946 - categorical_accuracy: 0.8989 - val_loss: 0.7047 - val_categorical_accuracy: 0.8000 - lr: 4.0000e-05\n"
          ]
        }
      ],
      "source": [
        "print(\"Total Params:\", conv_3d3_model.count_params())\n",
        "history_model3=conv_3d3.train_model(conv_3d3_model,augment_data=True)"
      ]
    },
    {
      "cell_type": "code",
      "execution_count": null,
      "metadata": {
        "id": "hy95k4Ho36ub",
        "outputId": "da3e8bad-496b-4f41-aaea-aefd6d3cdcad",
        "colab": {
          "base_uri": "https://localhost:8080/",
          "height": 265
        }
      },
      "outputs": [
        {
          "output_type": "display_data",
          "data": {
            "text/plain": [
              "<Figure size 1080x288 with 2 Axes>"
            ],
            "image/png": "[encoded data removed]"
          },
          "metadata": {
            "needs_background": "light"
          }
        }
      ],
      "source": [
        "#plot\n",
        "plot(history_model3)"
      ]
    },
    {
      "cell_type": "markdown",
      "metadata": {
        "id": "t_A-7QQf36ub"
      },
      "source": [
        "##### This Model has dreastically reduced overfitting and  has best validation accuracy of 82% and training accuracy of 91% . "
      ]
    },
    {
      "cell_type": "markdown",
      "metadata": {
        "id": "-mGdHjVm36ub"
      },
      "source": [
        "## Model 4 - \n",
        "### Increasing the dense layer to 512"
      ]
    },
    {
      "cell_type": "code",
      "execution_count": 23,
      "metadata": {
        "id": "KSkWc5H036ub"
      },
      "outputs": [],
      "source": [
        "# Batch Size = 10 and No. of Epochs = 20\n",
        "class ModelConv3D4(ModelBuilder):\n",
        "    \n",
        "    def define_model(self,filtersize=(2,2,2),dense_neurons=512,dropout=0.50):\n",
        "\n",
        "        model = Sequential()\n",
        "        model.add(Conv3D(16, filtersize, padding='same',\n",
        "                 input_shape=(self.frames_to_sample,self.image_height,self.image_width,self.channels)))\n",
        "        model.add(Activation('relu'))\n",
        "        model.add(BatchNormalization())\n",
        "        model.add(MaxPooling3D(pool_size=(2, 2, 2)))\n",
        "\n",
        "        model.add(Conv3D(32, filtersize, padding='same'))\n",
        "        model.add(Activation('relu'))\n",
        "        model.add(BatchNormalization())\n",
        "        model.add(MaxPooling3D(pool_size=(2, 2, 2)))\n",
        "\n",
        "        model.add(Conv3D(64, filtersize, padding='same'))\n",
        "        model.add(Activation('relu'))\n",
        "        model.add(BatchNormalization())\n",
        "        model.add(MaxPooling3D(pool_size=(2, 2, 2)))\n",
        "\n",
        "        model.add(Conv3D(128, filtersize, padding='same'))\n",
        "        model.add(Activation('relu'))\n",
        "        model.add(BatchNormalization())\n",
        "        model.add(MaxPooling3D(pool_size=(2, 2, 2)))\n",
        "        \n",
        "\n",
        "        model.add(Flatten())\n",
        "        model.add(Dense(dense_neurons,activation='relu'))\n",
        "        model.add(BatchNormalization())\n",
        "        model.add(Dropout(dropout))\n",
        "        model.add(Dense(self.num_classes,activation='softmax'))\n",
        "\n",
        "        optimiser = optimizers.Adam()\n",
        "        model.compile(optimizer=optimiser, loss='categorical_crossentropy', metrics=['categorical_accuracy'])\n",
        "        return model"
      ]
    },
    {
      "cell_type": "code",
      "execution_count": 24,
      "metadata": {
        "id": "FzyBPfVy36uc",
        "outputId": "f785943a-a52c-4d4d-f33f-27de3847fe7e",
        "colab": {
          "base_uri": "https://localhost:8080/"
        }
      },
      "outputs": [
        {
          "output_type": "stream",
          "name": "stdout",
          "text": [
            "Model: \"sequential\"\n",
            "_________________________________________________________________\n",
            " Layer (type)                Output Shape              Param #   \n",
            "=================================================================\n",
            " conv3d (Conv3D)             (None, 16, 120, 120, 16)  400       \n",
            "                                                                 \n",
            " activation (Activation)     (None, 16, 120, 120, 16)  0         \n",
            "                                                                 \n",
            " batch_normalization (BatchN  (None, 16, 120, 120, 16)  64       \n",
            " ormalization)                                                   \n",
            "                                                                 \n",
            " max_pooling3d (MaxPooling3D  (None, 8, 60, 60, 16)    0         \n",
            " )                                                               \n",
            "                                                                 \n",
            " conv3d_1 (Conv3D)           (None, 8, 60, 60, 32)     4128      \n",
            "                                                                 \n",
            " activation_1 (Activation)   (None, 8, 60, 60, 32)     0         \n",
            "                                                                 \n",
            " batch_normalization_1 (Batc  (None, 8, 60, 60, 32)    128       \n",
            " hNormalization)                                                 \n",
            "                                                                 \n",
            " max_pooling3d_1 (MaxPooling  (None, 4, 30, 30, 32)    0         \n",
            " 3D)                                                             \n",
            "                                                                 \n",
            " conv3d_2 (Conv3D)           (None, 4, 30, 30, 64)     16448     \n",
            "                                                                 \n",
            " activation_2 (Activation)   (None, 4, 30, 30, 64)     0         \n",
            "                                                                 \n",
            " batch_normalization_2 (Batc  (None, 4, 30, 30, 64)    256       \n",
            " hNormalization)                                                 \n",
            "                                                                 \n",
            " max_pooling3d_2 (MaxPooling  (None, 2, 15, 15, 64)    0         \n",
            " 3D)                                                             \n",
            "                                                                 \n",
            " conv3d_3 (Conv3D)           (None, 2, 15, 15, 128)    65664     \n",
            "                                                                 \n",
            " activation_3 (Activation)   (None, 2, 15, 15, 128)    0         \n",
            "                                                                 \n",
            " batch_normalization_3 (Batc  (None, 2, 15, 15, 128)   512       \n",
            " hNormalization)                                                 \n",
            "                                                                 \n",
            " max_pooling3d_3 (MaxPooling  (None, 1, 7, 7, 128)     0         \n",
            " 3D)                                                             \n",
            "                                                                 \n",
            " flatten (Flatten)           (None, 6272)              0         \n",
            "                                                                 \n",
            " dense (Dense)               (None, 512)               3211776   \n",
            "                                                                 \n",
            " batch_normalization_4 (Batc  (None, 512)              2048      \n",
            " hNormalization)                                                 \n",
            "                                                                 \n",
            " dropout (Dropout)           (None, 512)               0         \n",
            "                                                                 \n",
            " dense_1 (Dense)             (None, 5)                 2565      \n",
            "                                                                 \n",
            "=================================================================\n",
            "Total params: 3,303,989\n",
            "Trainable params: 3,302,485\n",
            "Non-trainable params: 1,504\n",
            "_________________________________________________________________\n"
          ]
        }
      ],
      "source": [
        "conv_3d4=ModelConv3D4()\n",
        "conv_3d4.initialize_path(project_folder)\n",
        "conv_3d4.initialize_image_properties(image_height=120,image_width=120)\n",
        "conv_3d4.initialize_hyperparams(frames_to_sample=16,batch_size=10,num_epochs=20)\n",
        "conv_3d4_model=conv_3d4.define_model(filtersize=(2,2,2),dense_neurons=512,dropout=0.5)\n",
        "conv_3d4_model.summary()"
      ]
    },
    {
      "cell_type": "code",
      "execution_count": 25,
      "metadata": {
        "id": "_neVkdz836uc",
        "outputId": "543bfbaa-d4a6-4e49-cef2-90fe19418cde",
        "colab": {
          "base_uri": "https://localhost:8080/"
        }
      },
      "outputs": [
        {
          "output_type": "stream",
          "name": "stderr",
          "text": [
            "WARNING:tensorflow:`period` argument is deprecated. Please use `save_freq` to specify the frequency in number of batches seen.\n"
          ]
        },
        {
          "output_type": "stream",
          "name": "stdout",
          "text": [
            "Total Params: 3303989\n",
            "Epoch 1/20\n",
            "67/67 [==============================] - ETA: 0s - loss: 1.5906 - categorical_accuracy: 0.4842\n",
            "Epoch 1: val_loss improved from inf to 10.25024, saving model to model_init_2023-03-2114_02_10.345408/model-00001-1.59063-0.48416-10.25024-0.21000.h5\n",
            "67/67 [==============================] - 238s 3s/step - loss: 1.5906 - categorical_accuracy: 0.4842 - val_loss: 10.2502 - val_categorical_accuracy: 0.2100 - lr: 0.0010\n",
            "Epoch 2/20\n",
            "67/67 [==============================] - ETA: 0s - loss: 0.9475 - categorical_accuracy: 0.6493\n",
            "Epoch 2: val_loss did not improve from 10.25024\n",
            "67/67 [==============================] - 223s 3s/step - loss: 0.9475 - categorical_accuracy: 0.6493 - val_loss: 12.3421 - val_categorical_accuracy: 0.2200 - lr: 0.0010\n",
            "Epoch 3/20\n",
            "67/67 [==============================] - ETA: 0s - loss: 0.7282 - categorical_accuracy: 0.7217\n",
            "Epoch 3: val_loss did not improve from 10.25024\n",
            "67/67 [==============================] - 223s 3s/step - loss: 0.7282 - categorical_accuracy: 0.7217 - val_loss: 10.6867 - val_categorical_accuracy: 0.2200 - lr: 0.0010\n",
            "Epoch 4/20\n",
            "67/67 [==============================] - ETA: 0s - loss: 0.5749 - categorical_accuracy: 0.7775\n",
            "Epoch 4: val_loss did not improve from 10.25024\n",
            "67/67 [==============================] - 223s 3s/step - loss: 0.5749 - categorical_accuracy: 0.7775 - val_loss: 10.8935 - val_categorical_accuracy: 0.2400 - lr: 0.0010\n",
            "Epoch 5/20\n",
            "67/67 [==============================] - ETA: 0s - loss: 0.5625 - categorical_accuracy: 0.7964\n",
            "Epoch 5: val_loss improved from 10.25024 to 5.48131, saving model to model_init_2023-03-2114_02_10.345408/model-00005-0.56248-0.79638-5.48131-0.30000.h5\n",
            "67/67 [==============================] - 225s 3s/step - loss: 0.5625 - categorical_accuracy: 0.7964 - val_loss: 5.4813 - val_categorical_accuracy: 0.3000 - lr: 0.0010\n",
            "Epoch 6/20\n",
            "67/67 [==============================] - ETA: 0s - loss: 0.4525 - categorical_accuracy: 0.8341\n",
            "Epoch 6: val_loss improved from 5.48131 to 4.82413, saving model to model_init_2023-03-2114_02_10.345408/model-00006-0.45255-0.83409-4.82413-0.28000.h5\n",
            "67/67 [==============================] - 224s 3s/step - loss: 0.4525 - categorical_accuracy: 0.8341 - val_loss: 4.8241 - val_categorical_accuracy: 0.2800 - lr: 0.0010\n",
            "Epoch 7/20\n",
            "67/67 [==============================] - ETA: 0s - loss: 0.4510 - categorical_accuracy: 0.8288\n",
            "Epoch 7: val_loss improved from 4.82413 to 3.11709, saving model to model_init_2023-03-2114_02_10.345408/model-00007-0.45102-0.82881-3.11709-0.31000.h5\n",
            "67/67 [==============================] - 223s 3s/step - loss: 0.4510 - categorical_accuracy: 0.8288 - val_loss: 3.1171 - val_categorical_accuracy: 0.3100 - lr: 0.0010\n",
            "Epoch 8/20\n",
            "67/67 [==============================] - ETA: 0s - loss: 0.3793 - categorical_accuracy: 0.8680\n",
            "Epoch 8: val_loss improved from 3.11709 to 1.70429, saving model to model_init_2023-03-2114_02_10.345408/model-00008-0.37926-0.86802-1.70429-0.56000.h5\n",
            "67/67 [==============================] - 222s 3s/step - loss: 0.3793 - categorical_accuracy: 0.8680 - val_loss: 1.7043 - val_categorical_accuracy: 0.5600 - lr: 0.0010\n",
            "Epoch 9/20\n",
            "67/67 [==============================] - ETA: 0s - loss: 0.4497 - categorical_accuracy: 0.8243\n",
            "Epoch 9: val_loss improved from 1.70429 to 1.65203, saving model to model_init_2023-03-2114_02_10.345408/model-00009-0.44972-0.82428-1.65203-0.53000.h5\n",
            "67/67 [==============================] - 223s 3s/step - loss: 0.4497 - categorical_accuracy: 0.8243 - val_loss: 1.6520 - val_categorical_accuracy: 0.5300 - lr: 0.0010\n",
            "Epoch 10/20\n",
            "67/67 [==============================] - ETA: 0s - loss: 0.3169 - categorical_accuracy: 0.8808\n",
            "Epoch 10: val_loss improved from 1.65203 to 1.03235, saving model to model_init_2023-03-2114_02_10.345408/model-00010-0.31694-0.88084-1.03235-0.65000.h5\n",
            "67/67 [==============================] - 224s 3s/step - loss: 0.3169 - categorical_accuracy: 0.8808 - val_loss: 1.0324 - val_categorical_accuracy: 0.6500 - lr: 0.0010\n",
            "Epoch 11/20\n",
            "67/67 [==============================] - ETA: 0s - loss: 0.2916 - categorical_accuracy: 0.8914\n",
            "Epoch 11: val_loss improved from 1.03235 to 0.86765, saving model to model_init_2023-03-2114_02_10.345408/model-00011-0.29160-0.89140-0.86765-0.74000.h5\n",
            "67/67 [==============================] - 221s 3s/step - loss: 0.2916 - categorical_accuracy: 0.8914 - val_loss: 0.8677 - val_categorical_accuracy: 0.7400 - lr: 0.0010\n",
            "Epoch 12/20\n",
            "67/67 [==============================] - ETA: 0s - loss: 0.2673 - categorical_accuracy: 0.9050\n",
            "Epoch 12: val_loss did not improve from 0.86765\n",
            "67/67 [==============================] - 223s 3s/step - loss: 0.2673 - categorical_accuracy: 0.9050 - val_loss: 1.0965 - val_categorical_accuracy: 0.6800 - lr: 0.0010\n",
            "Epoch 13/20\n",
            "67/67 [==============================] - ETA: 0s - loss: 0.2189 - categorical_accuracy: 0.9276\n",
            "Epoch 13: val_loss improved from 0.86765 to 0.83746, saving model to model_init_2023-03-2114_02_10.345408/model-00013-0.21887-0.92760-0.83746-0.69000.h5\n",
            "67/67 [==============================] - 223s 3s/step - loss: 0.2189 - categorical_accuracy: 0.9276 - val_loss: 0.8375 - val_categorical_accuracy: 0.6900 - lr: 0.0010\n",
            "Epoch 14/20\n",
            "67/67 [==============================] - ETA: 0s - loss: 0.3506 - categorical_accuracy: 0.8801\n",
            "Epoch 14: val_loss improved from 0.83746 to 0.63037, saving model to model_init_2023-03-2114_02_10.345408/model-00014-0.35056-0.88009-0.63037-0.82000.h5\n",
            "67/67 [==============================] - 223s 3s/step - loss: 0.3506 - categorical_accuracy: 0.8801 - val_loss: 0.6304 - val_categorical_accuracy: 0.8200 - lr: 0.0010\n",
            "Epoch 15/20\n",
            "67/67 [==============================] - ETA: 0s - loss: 0.2588 - categorical_accuracy: 0.9080\n",
            "Epoch 15: val_loss did not improve from 0.63037\n",
            "67/67 [==============================] - 222s 3s/step - loss: 0.2588 - categorical_accuracy: 0.9080 - val_loss: 0.8651 - val_categorical_accuracy: 0.7000 - lr: 0.0010\n",
            "Epoch 16/20\n",
            "67/67 [==============================] - ETA: 0s - loss: 0.2620 - categorical_accuracy: 0.9027\n",
            "Epoch 16: val_loss did not improve from 0.63037\n",
            "67/67 [==============================] - 223s 3s/step - loss: 0.2620 - categorical_accuracy: 0.9027 - val_loss: 0.6629 - val_categorical_accuracy: 0.7900 - lr: 0.0010\n",
            "Epoch 17/20\n",
            "67/67 [==============================] - ETA: 0s - loss: 0.2177 - categorical_accuracy: 0.9246\n",
            "Epoch 17: val_loss did not improve from 0.63037\n",
            "67/67 [==============================] - 223s 3s/step - loss: 0.2177 - categorical_accuracy: 0.9246 - val_loss: 0.8818 - val_categorical_accuracy: 0.7600 - lr: 0.0010\n",
            "Epoch 18/20\n",
            "67/67 [==============================] - ETA: 0s - loss: 0.1937 - categorical_accuracy: 0.9351\n",
            "Epoch 18: val_loss did not improve from 0.63037\n",
            "\n",
            "Epoch 18: ReduceLROnPlateau reducing learning rate to 0.00020000000949949026.\n",
            "67/67 [==============================] - 243s 4s/step - loss: 0.1937 - categorical_accuracy: 0.9351 - val_loss: 1.3124 - val_categorical_accuracy: 0.6700 - lr: 0.0010\n",
            "Epoch 19/20\n",
            "67/67 [==============================] - ETA: 0s - loss: 0.1365 - categorical_accuracy: 0.9487\n",
            "Epoch 19: val_loss improved from 0.63037 to 0.56568, saving model to model_init_2023-03-2114_02_10.345408/model-00019-0.13647-0.94872-0.56568-0.84000.h5\n",
            "67/67 [==============================] - 221s 3s/step - loss: 0.1365 - categorical_accuracy: 0.9487 - val_loss: 0.5657 - val_categorical_accuracy: 0.8400 - lr: 2.0000e-04\n",
            "Epoch 20/20\n",
            "67/67 [==============================] - ETA: 0s - loss: 0.0923 - categorical_accuracy: 0.9638\n",
            "Epoch 20: val_loss improved from 0.56568 to 0.43654, saving model to model_init_2023-03-2114_02_10.345408/model-00020-0.09231-0.96380-0.43654-0.82000.h5\n",
            "67/67 [==============================] - 220s 3s/step - loss: 0.0923 - categorical_accuracy: 0.9638 - val_loss: 0.4365 - val_categorical_accuracy: 0.8200 - lr: 2.0000e-04\n"
          ]
        }
      ],
      "source": [
        "print(\"Total Params:\", conv_3d4_model.count_params())\n",
        "history_model4=conv_3d4.train_model(conv_3d4_model,augment_data=True)"
      ]
    },
    {
      "cell_type": "code",
      "execution_count": 26,
      "metadata": {
        "id": "J5sRv0lo36uc",
        "outputId": "b4beafe6-a5a9-4c91-a8c5-ba6ddf60acf4",
        "colab": {
          "base_uri": "https://localhost:8080/",
          "height": 265
        }
      },
      "outputs": [
        {
          "output_type": "display_data",
          "data": {
            "text/plain": [
              "<Figure size 1080x288 with 2 Axes>"
            ],
            "image/png": "[encoded data removed]"
          },
          "metadata": {
            "needs_background": "light"
          }
        }
      ],
      "source": [
        "plot(history_model4)"
      ]
    },
    {
      "cell_type": "markdown",
      "metadata": {
        "id": "ISVasYMH36uc"
      },
      "source": [
        "##### The dense layer of 512 has improved the model."
      ]
    },
    {
      "cell_type": "markdown",
      "source": [
        "### Removing individual Con3D layer to check if it is redundant."
      ],
      "metadata": {
        "id": "zPIqqlRzCr04"
      }
    },
    {
      "cell_type": "markdown",
      "metadata": {
        "id": "sGFzgsu_36uc"
      },
      "source": [
        "## Model 5 \n",
        "### Removed Con3D 32 layer. Frames_ to_sample = 10, batch_size = 8, Image resolution is 100 * 100 \n",
        "\n"
      ]
    },
    {
      "cell_type": "code",
      "execution_count": null,
      "metadata": {
        "id": "KP9poWdI36uc"
      },
      "outputs": [],
      "source": [
        "#Adding dropout at convolution layers\n",
        "class ModelConv3D5(ModelBuilder):\n",
        "    \n",
        "    def define_model(self,filtersize=(2,2,2),dense_neurons=512,dropout=0.50):\n",
        "\n",
        "        model = Sequential()\n",
        "        model.add(Conv3D(16, filtersize, padding='same',\n",
        "                 input_shape=(self.frames_to_sample,self.image_height,self.image_width,self.channels)))\n",
        "        model.add(Activation('relu'))\n",
        "        model.add(BatchNormalization())\n",
        "        model.add(MaxPooling3D(pool_size=(2, 2, 2)))\n",
        "\n",
        "        model.add(Conv3D(64, filtersize, padding='same'))\n",
        "        model.add(Activation('relu'))\n",
        "        model.add(BatchNormalization())\n",
        "        model.add(MaxPooling3D(pool_size=(2, 2, 2)))\n",
        "\n",
        "        model.add(Conv3D(128, filtersize, padding='same'))\n",
        "        model.add(Activation('relu'))\n",
        "        model.add(BatchNormalization())\n",
        "        model.add(MaxPooling3D(pool_size=(2, 2, 2)))\n",
        "\n",
        "        model.add(Flatten())\n",
        "        model.add(Dense(dense_neurons,activation='relu'))\n",
        "        model.add(BatchNormalization())\n",
        "        model.add(Dropout(dropout))\n",
        "        model.add(Dense(self.num_classes,activation='softmax'))\n",
        "\n",
        "        optimiser = optimizers.Adam()\n",
        "        model.compile(optimizer=optimiser, loss='categorical_crossentropy', metrics=['categorical_accuracy'])\n",
        "        return model"
      ]
    },
    {
      "cell_type": "code",
      "execution_count": null,
      "metadata": {
        "id": "nOQEhFXJ36ue",
        "outputId": "5bc37bec-cb19-4eda-a4c8-4972b8cded37",
        "colab": {
          "base_uri": "https://localhost:8080/"
        }
      },
      "outputs": [
        {
          "output_type": "stream",
          "name": "stdout",
          "text": [
            "Model: \"sequential_12\"\n",
            "_________________________________________________________________\n",
            " Layer (type)                Output Shape              Param #   \n",
            "=================================================================\n",
            " conv3d_48 (Conv3D)          (None, 10, 100, 100, 16)  400       \n",
            "                                                                 \n",
            " activation_48 (Activation)  (None, 10, 100, 100, 16)  0         \n",
            "                                                                 \n",
            " batch_normalization_58 (Bat  (None, 10, 100, 100, 16)  64       \n",
            " chNormalization)                                                \n",
            "                                                                 \n",
            " max_pooling3d_48 (MaxPoolin  (None, 5, 50, 50, 16)    0         \n",
            " g3D)                                                            \n",
            "                                                                 \n",
            " conv3d_49 (Conv3D)          (None, 5, 50, 50, 64)     8256      \n",
            "                                                                 \n",
            " activation_49 (Activation)  (None, 5, 50, 50, 64)     0         \n",
            "                                                                 \n",
            " batch_normalization_59 (Bat  (None, 5, 50, 50, 64)    256       \n",
            " chNormalization)                                                \n",
            "                                                                 \n",
            " max_pooling3d_49 (MaxPoolin  (None, 2, 25, 25, 64)    0         \n",
            " g3D)                                                            \n",
            "                                                                 \n",
            " conv3d_50 (Conv3D)          (None, 2, 25, 25, 128)    65664     \n",
            "                                                                 \n",
            " activation_50 (Activation)  (None, 2, 25, 25, 128)    0         \n",
            "                                                                 \n",
            " batch_normalization_60 (Bat  (None, 2, 25, 25, 128)   512       \n",
            " chNormalization)                                                \n",
            "                                                                 \n",
            " max_pooling3d_50 (MaxPoolin  (None, 1, 12, 12, 128)   0         \n",
            " g3D)                                                            \n",
            "                                                                 \n",
            " flatten_10 (Flatten)        (None, 18432)             0         \n",
            "                                                                 \n",
            " dense_20 (Dense)            (None, 512)               9437696   \n",
            "                                                                 \n",
            " batch_normalization_61 (Bat  (None, 512)              2048      \n",
            " chNormalization)                                                \n",
            "                                                                 \n",
            " dropout_10 (Dropout)        (None, 512)               0         \n",
            "                                                                 \n",
            " dense_21 (Dense)            (None, 5)                 2565      \n",
            "                                                                 \n",
            "=================================================================\n",
            "Total params: 9,517,461\n",
            "Trainable params: 9,516,021\n",
            "Non-trainable params: 1,440\n",
            "_________________________________________________________________\n"
          ]
        }
      ],
      "source": [
        "conv_3d5=ModelConv3D5()\n",
        "conv_3d5.initialize_path(project_folder)\n",
        "conv_3d5.initialize_image_properties(image_height=100,image_width=100)\n",
        "conv_3d5.initialize_hyperparams(frames_to_sample=10,batch_size=8,num_epochs=20)\n",
        "conv_3d5_model=conv_3d5.define_model(filtersize=(2,2,2),dense_neurons=512,dropout=0.50)\n",
        "conv_3d5_model.summary()"
      ]
    },
    {
      "cell_type": "code",
      "execution_count": null,
      "metadata": {
        "id": "7fyAQSi236ue",
        "outputId": "624af0fd-7d77-4206-eea8-6308e38efccc",
        "colab": {
          "base_uri": "https://localhost:8080/"
        }
      },
      "outputs": [
        {
          "output_type": "stream",
          "name": "stderr",
          "text": [
            "WARNING:tensorflow:`period` argument is deprecated. Please use `save_freq` to specify the frequency in number of batches seen.\n"
          ]
        },
        {
          "output_type": "stream",
          "name": "stdout",
          "text": [
            "Total Params: 9517461\n",
            "Epoch 1/20\n",
            "83/83 [==============================] - ETA: 0s - loss: 1.6520 - categorical_accuracy: 0.4781\n",
            "Epoch 1: val_loss improved from inf to 24.25595, saving model to model_init_2023-03-2016_45_39.453201/model-00001-1.65197-0.47813-24.25595-0.21000.h5\n",
            "83/83 [==============================] - 111s 1s/step - loss: 1.6520 - categorical_accuracy: 0.4781 - val_loss: 24.2560 - val_categorical_accuracy: 0.2100 - lr: 0.0010\n",
            "Epoch 2/20\n",
            "83/83 [==============================] - ETA: 0s - loss: 1.0446 - categorical_accuracy: 0.6237\n",
            "Epoch 2: val_loss did not improve from 24.25595\n",
            "83/83 [==============================] - 102s 1s/step - loss: 1.0446 - categorical_accuracy: 0.6237 - val_loss: 35.7137 - val_categorical_accuracy: 0.2100 - lr: 0.0010\n",
            "Epoch 3/20\n",
            "83/83 [==============================] - ETA: 0s - loss: 0.7403 - categorical_accuracy: 0.7179\n",
            "Epoch 3: val_loss improved from 24.25595 to 14.43791, saving model to model_init_2023-03-2016_45_39.453201/model-00003-0.74027-0.71795-14.43791-0.24000.h5\n",
            "83/83 [==============================] - 102s 1s/step - loss: 0.7403 - categorical_accuracy: 0.7179 - val_loss: 14.4379 - val_categorical_accuracy: 0.2400 - lr: 0.0010\n",
            "Epoch 4/20\n",
            "83/83 [==============================] - ETA: 0s - loss: 0.6571 - categorical_accuracy: 0.7541\n",
            "Epoch 4: val_loss improved from 14.43791 to 5.81388, saving model to model_init_2023-03-2016_45_39.453201/model-00004-0.65710-0.75415-5.81388-0.28000.h5\n",
            "83/83 [==============================] - 103s 1s/step - loss: 0.6571 - categorical_accuracy: 0.7541 - val_loss: 5.8139 - val_categorical_accuracy: 0.2800 - lr: 0.0010\n",
            "Epoch 5/20\n",
            "83/83 [==============================] - ETA: 0s - loss: 0.5748 - categorical_accuracy: 0.7858\n",
            "Epoch 5: val_loss improved from 5.81388 to 3.47319, saving model to model_init_2023-03-2016_45_39.453201/model-00005-0.57482-0.78582-3.47319-0.29000.h5\n",
            "83/83 [==============================] - 99s 1s/step - loss: 0.5748 - categorical_accuracy: 0.7858 - val_loss: 3.4732 - val_categorical_accuracy: 0.2900 - lr: 0.0010\n",
            "Epoch 6/20\n",
            "83/83 [==============================] - ETA: 0s - loss: 0.5303 - categorical_accuracy: 0.7971\n",
            "Epoch 6: val_loss improved from 3.47319 to 1.22299, saving model to model_init_2023-03-2016_45_39.453201/model-00006-0.53029-0.79713-1.22299-0.53000.h5\n",
            "83/83 [==============================] - 99s 1s/step - loss: 0.5303 - categorical_accuracy: 0.7971 - val_loss: 1.2230 - val_categorical_accuracy: 0.5300 - lr: 0.0010\n",
            "Epoch 7/20\n",
            "83/83 [==============================] - ETA: 0s - loss: 0.4415 - categorical_accuracy: 0.8379\n",
            "Epoch 7: val_loss did not improve from 1.22299\n",
            "83/83 [==============================] - 101s 1s/step - loss: 0.4415 - categorical_accuracy: 0.8379 - val_loss: 1.5319 - val_categorical_accuracy: 0.5200 - lr: 0.0010\n",
            "Epoch 8/20\n",
            "83/83 [==============================] - ETA: 0s - loss: 0.4441 - categorical_accuracy: 0.8394\n",
            "Epoch 8: val_loss did not improve from 1.22299\n",
            "83/83 [==============================] - 101s 1s/step - loss: 0.4441 - categorical_accuracy: 0.8394 - val_loss: 1.3750 - val_categorical_accuracy: 0.5900 - lr: 0.0010\n",
            "Epoch 9/20\n",
            "83/83 [==============================] - ETA: 0s - loss: 0.4175 - categorical_accuracy: 0.8492\n",
            "Epoch 9: val_loss improved from 1.22299 to 0.82159, saving model to model_init_2023-03-2016_45_39.453201/model-00009-0.41752-0.84917-0.82159-0.75000.h5\n",
            "83/83 [==============================] - 99s 1s/step - loss: 0.4175 - categorical_accuracy: 0.8492 - val_loss: 0.8216 - val_categorical_accuracy: 0.7500 - lr: 0.0010\n",
            "Epoch 10/20\n",
            "83/83 [==============================] - ETA: 0s - loss: 0.3978 - categorical_accuracy: 0.8567\n",
            "Epoch 10: val_loss did not improve from 0.82159\n",
            "83/83 [==============================] - 99s 1s/step - loss: 0.3978 - categorical_accuracy: 0.8567 - val_loss: 2.0049 - val_categorical_accuracy: 0.5600 - lr: 0.0010\n",
            "Epoch 11/20\n",
            "83/83 [==============================] - ETA: 0s - loss: 0.3249 - categorical_accuracy: 0.8816\n",
            "Epoch 11: val_loss did not improve from 0.82159\n",
            "83/83 [==============================] - 101s 1s/step - loss: 0.3249 - categorical_accuracy: 0.8816 - val_loss: 1.4491 - val_categorical_accuracy: 0.6400 - lr: 0.0010\n",
            "Epoch 12/20\n",
            "83/83 [==============================] - ETA: 0s - loss: 0.2741 - categorical_accuracy: 0.8982\n",
            "Epoch 12: val_loss did not improve from 0.82159\n",
            "83/83 [==============================] - 97s 1s/step - loss: 0.2741 - categorical_accuracy: 0.8982 - val_loss: 1.4349 - val_categorical_accuracy: 0.6000 - lr: 0.0010\n",
            "Epoch 13/20\n",
            "83/83 [==============================] - ETA: 0s - loss: 0.3253 - categorical_accuracy: 0.8771\n",
            "Epoch 13: val_loss did not improve from 0.82159\n",
            "\n",
            "Epoch 13: ReduceLROnPlateau reducing learning rate to 0.00020000000949949026.\n",
            "83/83 [==============================] - 100s 1s/step - loss: 0.3253 - categorical_accuracy: 0.8771 - val_loss: 0.9149 - val_categorical_accuracy: 0.7400 - lr: 0.0010\n",
            "Epoch 14/20\n",
            "83/83 [==============================] - ETA: 0s - loss: 0.1769 - categorical_accuracy: 0.9434\n",
            "Epoch 14: val_loss improved from 0.82159 to 0.65245, saving model to model_init_2023-03-2016_45_39.453201/model-00014-0.17695-0.94344-0.65245-0.76000.h5\n",
            "83/83 [==============================] - 98s 1s/step - loss: 0.1769 - categorical_accuracy: 0.9434 - val_loss: 0.6525 - val_categorical_accuracy: 0.7600 - lr: 2.0000e-04\n",
            "Epoch 15/20\n",
            "83/83 [==============================] - ETA: 0s - loss: 0.1845 - categorical_accuracy: 0.9427\n",
            "Epoch 15: val_loss improved from 0.65245 to 0.49378, saving model to model_init_2023-03-2016_45_39.453201/model-00015-0.18455-0.94268-0.49378-0.84000.h5\n",
            "83/83 [==============================] - 98s 1s/step - loss: 0.1845 - categorical_accuracy: 0.9427 - val_loss: 0.4938 - val_categorical_accuracy: 0.8400 - lr: 2.0000e-04\n",
            "Epoch 16/20\n",
            "83/83 [==============================] - ETA: 0s - loss: 0.1910 - categorical_accuracy: 0.9389\n",
            "Epoch 16: val_loss did not improve from 0.49378\n",
            "83/83 [==============================] - 99s 1s/step - loss: 0.1910 - categorical_accuracy: 0.9389 - val_loss: 0.6204 - val_categorical_accuracy: 0.8200 - lr: 2.0000e-04\n",
            "Epoch 17/20\n",
            "83/83 [==============================] - ETA: 0s - loss: 0.1692 - categorical_accuracy: 0.9442\n",
            "Epoch 17: val_loss did not improve from 0.49378\n",
            "83/83 [==============================] - 98s 1s/step - loss: 0.1692 - categorical_accuracy: 0.9442 - val_loss: 0.5203 - val_categorical_accuracy: 0.8100 - lr: 2.0000e-04\n",
            "Epoch 18/20\n",
            "83/83 [==============================] - ETA: 0s - loss: 0.1280 - categorical_accuracy: 0.9585\n",
            "Epoch 18: val_loss did not improve from 0.49378\n",
            "83/83 [==============================] - 98s 1s/step - loss: 0.1280 - categorical_accuracy: 0.9585 - val_loss: 0.8342 - val_categorical_accuracy: 0.7200 - lr: 2.0000e-04\n",
            "Epoch 19/20\n",
            "83/83 [==============================] - ETA: 0s - loss: 0.1367 - categorical_accuracy: 0.9615\n",
            "Epoch 19: val_loss did not improve from 0.49378\n",
            "\n",
            "Epoch 19: ReduceLROnPlateau reducing learning rate to 4.0000001899898055e-05.\n",
            "83/83 [==============================] - 98s 1s/step - loss: 0.1367 - categorical_accuracy: 0.9615 - val_loss: 0.6136 - val_categorical_accuracy: 0.8000 - lr: 2.0000e-04\n",
            "Epoch 20/20\n",
            "83/83 [==============================] - ETA: 0s - loss: 0.1438 - categorical_accuracy: 0.9525\n",
            "Epoch 20: val_loss did not improve from 0.49378\n",
            "83/83 [==============================] - 100s 1s/step - loss: 0.1438 - categorical_accuracy: 0.9525 - val_loss: 0.5034 - val_categorical_accuracy: 0.8300 - lr: 4.0000e-05\n"
          ]
        }
      ],
      "source": [
        "print(\"Total Params:\", conv_3d5_model.count_params())\n",
        "history_model5=conv_3d5.train_model(conv_3d5_model,augment_data=True)"
      ]
    },
    {
      "cell_type": "markdown",
      "source": [],
      "metadata": {
        "id": "Ttvv1DuT9G2I"
      }
    },
    {
      "cell_type": "code",
      "execution_count": null,
      "metadata": {
        "id": "PiFEip_X36ue",
        "outputId": "7044db33-0e8c-4047-e660-4f733cd32008",
        "colab": {
          "base_uri": "https://localhost:8080/",
          "height": 265
        }
      },
      "outputs": [
        {
          "output_type": "display_data",
          "data": {
            "text/plain": [
              "<Figure size 1080x288 with 2 Axes>"
            ],
            "image/png": "[encoded data removed]"
          },
          "metadata": {
            "needs_background": "light"
          }
        }
      ],
      "source": [
        "plot(history_model5)"
      ]
    },
    {
      "cell_type": "markdown",
      "metadata": {
        "collapsed": true,
        "id": "trujFU7-36ue"
      },
      "source": [
        "The model is clearly not going a bad job. The highest training accuracy is 96% and the highest val accuracy is 84%. "
      ]
    },
    {
      "cell_type": "markdown",
      "metadata": {
        "id": "0K5bwhAJ36uf"
      },
      "source": [
        "##### All the experimental models above have more than 1 million parameters. Let's try to reduce the model size and see the performance"
      ]
    },
    {
      "cell_type": "markdown",
      "metadata": {
        "id": "Pu3apJra36uf"
      },
      "source": [
        "## Model 6 \n",
        "### Reducing batch size to 8, frame_to_sample to 10 and removed Con3D 128 layer."
      ]
    },
    {
      "cell_type": "code",
      "execution_count": null,
      "metadata": {
        "id": "zl3Ay-Zw36uf"
      },
      "outputs": [],
      "source": [
        "class ModelConv3D6(ModelBuilder):\n",
        "    \n",
        "    def define_model(self,dense_neurons=512,dropout=0.50):\n",
        "\n",
        "        model = Sequential()\n",
        "        model.add(Conv3D(16, (2, 2, 2), padding='same',\n",
        "                 input_shape=(self.frames_to_sample,self.image_height,self.image_width,self.channels)))\n",
        "        model.add(Activation('relu'))\n",
        "        model.add(BatchNormalization())\n",
        "        model.add(MaxPooling3D(pool_size=(2, 2, 2)))\n",
        "\n",
        "        model.add(Conv3D(32, (2, 2, 2), padding='same'))\n",
        "        model.add(Activation('relu'))\n",
        "        model.add(BatchNormalization())\n",
        "        model.add(MaxPooling3D(pool_size=(2, 2, 2)))\n",
        "\n",
        "        model.add(Conv3D(64, (2, 2, 2), padding='same'))\n",
        "        model.add(Activation('relu'))\n",
        "        model.add(BatchNormalization())\n",
        "        model.add(MaxPooling3D(pool_size=(2, 2, 2)))\n",
        "        \n",
        "        model.add(Flatten())\n",
        "        model.add(Dense(dense_neurons,activation='relu'))\n",
        "        model.add(BatchNormalization())\n",
        "        model.add(Dropout(dropout))\n",
        "        model.add(Dense(self.num_classes,activation='softmax'))\n",
        "\n",
        "        optimiser = optimizers.Adam(lr=0.0002)\n",
        "        model.compile(optimizer=optimiser, loss='categorical_crossentropy', metrics=['categorical_accuracy'])\n",
        "        return model"
      ]
    },
    {
      "cell_type": "code",
      "execution_count": null,
      "metadata": {
        "id": "j6ZZb4Hg36uf",
        "outputId": "4ded2478-d471-4d96-8460-168844b76d1d",
        "colab": {
          "base_uri": "https://localhost:8080/"
        }
      },
      "outputs": [
        {
          "output_type": "stream",
          "name": "stdout",
          "text": [
            "Model: \"sequential_13\"\n",
            "_________________________________________________________________\n",
            " Layer (type)                Output Shape              Param #   \n",
            "=================================================================\n",
            " conv3d_51 (Conv3D)          (None, 10, 120, 120, 16)  400       \n",
            "                                                                 \n",
            " activation_51 (Activation)  (None, 10, 120, 120, 16)  0         \n",
            "                                                                 \n",
            " batch_normalization_62 (Bat  (None, 10, 120, 120, 16)  64       \n",
            " chNormalization)                                                \n",
            "                                                                 \n",
            " max_pooling3d_51 (MaxPoolin  (None, 5, 60, 60, 16)    0         \n",
            " g3D)                                                            \n",
            "                                                                 \n",
            " conv3d_52 (Conv3D)          (None, 5, 60, 60, 32)     4128      \n",
            "                                                                 \n",
            " activation_52 (Activation)  (None, 5, 60, 60, 32)     0         \n",
            "                                                                 \n",
            " batch_normalization_63 (Bat  (None, 5, 60, 60, 32)    128       \n",
            " chNormalization)                                                \n",
            "                                                                 \n",
            " max_pooling3d_52 (MaxPoolin  (None, 2, 30, 30, 32)    0         \n",
            " g3D)                                                            \n",
            "                                                                 \n",
            " conv3d_53 (Conv3D)          (None, 2, 30, 30, 64)     16448     \n",
            "                                                                 \n",
            " activation_53 (Activation)  (None, 2, 30, 30, 64)     0         \n",
            "                                                                 \n",
            " batch_normalization_64 (Bat  (None, 2, 30, 30, 64)    256       \n",
            " chNormalization)                                                \n",
            "                                                                 \n",
            " max_pooling3d_53 (MaxPoolin  (None, 1, 15, 15, 64)    0         \n",
            " g3D)                                                            \n",
            "                                                                 \n",
            " flatten_11 (Flatten)        (None, 14400)             0         \n",
            "                                                                 \n",
            " dense_22 (Dense)            (None, 512)               7373312   \n",
            "                                                                 \n",
            " batch_normalization_65 (Bat  (None, 512)              2048      \n",
            " chNormalization)                                                \n",
            "                                                                 \n",
            " dropout_11 (Dropout)        (None, 512)               0         \n",
            "                                                                 \n",
            " dense_23 (Dense)            (None, 5)                 2565      \n",
            "                                                                 \n",
            "=================================================================\n",
            "Total params: 7,399,349\n",
            "Trainable params: 7,398,101\n",
            "Non-trainable params: 1,248\n",
            "_________________________________________________________________\n"
          ]
        }
      ],
      "source": [
        "conv_3d6=ModelConv3D6()\n",
        "conv_3d6.initialize_path(project_folder)\n",
        "conv_3d6.initialize_image_properties(image_height=120,image_width=120)\n",
        "conv_3d6.initialize_hyperparams(frames_to_sample=10,batch_size=8,num_epochs=20)\n",
        "conv_3d6_model=conv_3d6.define_model(dense_neurons=512,dropout=0.50)\n",
        "conv_3d6_model.summary()"
      ]
    },
    {
      "cell_type": "code",
      "execution_count": null,
      "metadata": {
        "id": "62qOfWsa36uf",
        "outputId": "d4db2a4c-6bcb-4c84-a1fb-b5e6f81f21e0",
        "colab": {
          "base_uri": "https://localhost:8080/"
        }
      },
      "outputs": [
        {
          "output_type": "stream",
          "name": "stderr",
          "text": [
            "WARNING:tensorflow:`period` argument is deprecated. Please use `save_freq` to specify the frequency in number of batches seen.\n"
          ]
        },
        {
          "output_type": "stream",
          "name": "stdout",
          "text": [
            "Total Params: 7399349\n",
            "Epoch 1/20\n",
            "83/83 [==============================] - ETA: 0s - loss: 1.7285 - categorical_accuracy: 0.4615\n",
            "Epoch 1: val_loss improved from inf to 8.99080, saving model to model_init_2023-03-2017_23_34.776398/model-00001-1.72854-0.46154-8.99080-0.21000.h5\n",
            "83/83 [==============================] - 115s 1s/step - loss: 1.7285 - categorical_accuracy: 0.4615 - val_loss: 8.9908 - val_categorical_accuracy: 0.2100 - lr: 2.0000e-04\n",
            "Epoch 2/20\n",
            "83/83 [==============================] - ETA: 0s - loss: 0.9689 - categorical_accuracy: 0.6546\n",
            "Epoch 2: val_loss did not improve from 8.99080\n",
            "83/83 [==============================] - 110s 1s/step - loss: 0.9689 - categorical_accuracy: 0.6546 - val_loss: 16.5332 - val_categorical_accuracy: 0.2200 - lr: 2.0000e-04\n",
            "Epoch 3/20\n",
            "83/83 [==============================] - ETA: 0s - loss: 0.7704 - categorical_accuracy: 0.7051\n",
            "Epoch 3: val_loss did not improve from 8.99080\n",
            "83/83 [==============================] - 112s 1s/step - loss: 0.7704 - categorical_accuracy: 0.7051 - val_loss: 13.9556 - val_categorical_accuracy: 0.1900 - lr: 2.0000e-04\n",
            "Epoch 4/20\n",
            "83/83 [==============================] - ETA: 0s - loss: 0.6953 - categorical_accuracy: 0.7526\n",
            "Epoch 4: val_loss improved from 8.99080 to 7.43843, saving model to model_init_2023-03-2017_23_34.776398/model-00004-0.69528-0.75264-7.43843-0.22000.h5\n",
            "83/83 [==============================] - 111s 1s/step - loss: 0.6953 - categorical_accuracy: 0.7526 - val_loss: 7.4384 - val_categorical_accuracy: 0.2200 - lr: 2.0000e-04\n",
            "Epoch 5/20\n",
            "83/83 [==============================] - ETA: 0s - loss: 0.5688 - categorical_accuracy: 0.8032\n",
            "Epoch 5: val_loss improved from 7.43843 to 4.15609, saving model to model_init_2023-03-2017_23_34.776398/model-00005-0.56878-0.80317-4.15609-0.31000.h5\n",
            "83/83 [==============================] - 112s 1s/step - loss: 0.5688 - categorical_accuracy: 0.8032 - val_loss: 4.1561 - val_categorical_accuracy: 0.3100 - lr: 2.0000e-04\n",
            "Epoch 6/20\n",
            "83/83 [==============================] - ETA: 0s - loss: 0.5298 - categorical_accuracy: 0.7994\n",
            "Epoch 6: val_loss improved from 4.15609 to 2.89339, saving model to model_init_2023-03-2017_23_34.776398/model-00006-0.52983-0.79940-2.89339-0.33000.h5\n",
            "83/83 [==============================] - 113s 1s/step - loss: 0.5298 - categorical_accuracy: 0.7994 - val_loss: 2.8934 - val_categorical_accuracy: 0.3300 - lr: 2.0000e-04\n",
            "Epoch 7/20\n",
            "83/83 [==============================] - ETA: 0s - loss: 0.4357 - categorical_accuracy: 0.8446\n",
            "Epoch 7: val_loss improved from 2.89339 to 2.26786, saving model to model_init_2023-03-2017_23_34.776398/model-00007-0.43567-0.84465-2.26786-0.44000.h5\n",
            "83/83 [==============================] - 113s 1s/step - loss: 0.4357 - categorical_accuracy: 0.8446 - val_loss: 2.2679 - val_categorical_accuracy: 0.4400 - lr: 2.0000e-04\n",
            "Epoch 8/20\n",
            "83/83 [==============================] - ETA: 0s - loss: 0.4426 - categorical_accuracy: 0.8409\n",
            "Epoch 8: val_loss improved from 2.26786 to 1.34728, saving model to model_init_2023-03-2017_23_34.776398/model-00008-0.44259-0.84087-1.34728-0.62000.h5\n",
            "83/83 [==============================] - 113s 1s/step - loss: 0.4426 - categorical_accuracy: 0.8409 - val_loss: 1.3473 - val_categorical_accuracy: 0.6200 - lr: 2.0000e-04\n",
            "Epoch 9/20\n",
            "83/83 [==============================] - ETA: 0s - loss: 0.4433 - categorical_accuracy: 0.8431\n",
            "Epoch 9: val_loss did not improve from 1.34728\n",
            "83/83 [==============================] - 110s 1s/step - loss: 0.4433 - categorical_accuracy: 0.8431 - val_loss: 1.4529 - val_categorical_accuracy: 0.6100 - lr: 2.0000e-04\n",
            "Epoch 10/20\n",
            "83/83 [==============================] - ETA: 0s - loss: 0.4349 - categorical_accuracy: 0.8484\n",
            "Epoch 10: val_loss improved from 1.34728 to 0.98038, saving model to model_init_2023-03-2017_23_34.776398/model-00010-0.43488-0.84842-0.98038-0.73000.h5\n",
            "83/83 [==============================] - 109s 1s/step - loss: 0.4349 - categorical_accuracy: 0.8484 - val_loss: 0.9804 - val_categorical_accuracy: 0.7300 - lr: 2.0000e-04\n",
            "Epoch 11/20\n",
            "83/83 [==============================] - ETA: 0s - loss: 0.3284 - categorical_accuracy: 0.8869\n",
            "Epoch 11: val_loss did not improve from 0.98038\n",
            "83/83 [==============================] - 112s 1s/step - loss: 0.3284 - categorical_accuracy: 0.8869 - val_loss: 1.2393 - val_categorical_accuracy: 0.6500 - lr: 2.0000e-04\n",
            "Epoch 12/20\n",
            "83/83 [==============================] - ETA: 0s - loss: 0.2788 - categorical_accuracy: 0.8974\n",
            "Epoch 12: val_loss did not improve from 0.98038\n",
            "83/83 [==============================] - 116s 1s/step - loss: 0.2788 - categorical_accuracy: 0.8974 - val_loss: 1.1821 - val_categorical_accuracy: 0.6800 - lr: 2.0000e-04\n",
            "Epoch 13/20\n",
            "83/83 [==============================] - ETA: 0s - loss: 0.2778 - categorical_accuracy: 0.8974\n",
            "Epoch 13: val_loss did not improve from 0.98038\n",
            "83/83 [==============================] - 137s 2s/step - loss: 0.2778 - categorical_accuracy: 0.8974 - val_loss: 1.2454 - val_categorical_accuracy: 0.6800 - lr: 2.0000e-04\n",
            "Epoch 14/20\n",
            "83/83 [==============================] - ETA: 0s - loss: 0.2975 - categorical_accuracy: 0.9005\n",
            "Epoch 14: val_loss did not improve from 0.98038\n",
            "\n",
            "Epoch 14: ReduceLROnPlateau reducing learning rate to 3.9999998989515007e-05.\n",
            "83/83 [==============================] - 117s 1s/step - loss: 0.2975 - categorical_accuracy: 0.9005 - val_loss: 1.0278 - val_categorical_accuracy: 0.7100 - lr: 2.0000e-04\n",
            "Epoch 15/20\n",
            "83/83 [==============================] - ETA: 0s - loss: 0.2328 - categorical_accuracy: 0.9208\n",
            "Epoch 15: val_loss improved from 0.98038 to 0.94853, saving model to model_init_2023-03-2017_23_34.776398/model-00015-0.23280-0.92081-0.94853-0.74000.h5\n",
            "83/83 [==============================] - 113s 1s/step - loss: 0.2328 - categorical_accuracy: 0.9208 - val_loss: 0.9485 - val_categorical_accuracy: 0.7400 - lr: 4.0000e-05\n",
            "Epoch 16/20\n",
            "83/83 [==============================] - ETA: 0s - loss: 0.1950 - categorical_accuracy: 0.9329\n",
            "Epoch 16: val_loss improved from 0.94853 to 0.73674, saving model to model_init_2023-03-2017_23_34.776398/model-00016-0.19504-0.93288-0.73674-0.75000.h5\n",
            "83/83 [==============================] - 115s 1s/step - loss: 0.1950 - categorical_accuracy: 0.9329 - val_loss: 0.7367 - val_categorical_accuracy: 0.7500 - lr: 4.0000e-05\n",
            "Epoch 17/20\n",
            "83/83 [==============================] - ETA: 0s - loss: 0.2300 - categorical_accuracy: 0.9178\n",
            "Epoch 17: val_loss improved from 0.73674 to 0.71684, saving model to model_init_2023-03-2017_23_34.776398/model-00017-0.23004-0.91780-0.71684-0.80000.h5\n",
            "83/83 [==============================] - 113s 1s/step - loss: 0.2300 - categorical_accuracy: 0.9178 - val_loss: 0.7168 - val_categorical_accuracy: 0.8000 - lr: 4.0000e-05\n",
            "Epoch 18/20\n",
            "83/83 [==============================] - ETA: 0s - loss: 0.2199 - categorical_accuracy: 0.9246\n",
            "Epoch 18: val_loss did not improve from 0.71684\n",
            "83/83 [==============================] - 112s 1s/step - loss: 0.2199 - categorical_accuracy: 0.9246 - val_loss: 0.9531 - val_categorical_accuracy: 0.7400 - lr: 4.0000e-05\n",
            "Epoch 19/20\n",
            "83/83 [==============================] - ETA: 0s - loss: 0.1745 - categorical_accuracy: 0.9404\n",
            "Epoch 19: val_loss did not improve from 0.71684\n",
            "83/83 [==============================] - 112s 1s/step - loss: 0.1745 - categorical_accuracy: 0.9404 - val_loss: 0.7264 - val_categorical_accuracy: 0.7600 - lr: 4.0000e-05\n",
            "Epoch 20/20\n",
            "83/83 [==============================] - ETA: 0s - loss: 0.2056 - categorical_accuracy: 0.9306\n",
            "Epoch 20: val_loss did not improve from 0.71684\n",
            "83/83 [==============================] - 111s 1s/step - loss: 0.2056 - categorical_accuracy: 0.9306 - val_loss: 0.8107 - val_categorical_accuracy: 0.7200 - lr: 4.0000e-05\n"
          ]
        }
      ],
      "source": [
        "print(\"Total Params:\", conv_3d6_model.count_params())\n",
        "history_model6=conv_3d6.train_model(conv_3d6_model,augment_data=True)"
      ]
    },
    {
      "cell_type": "code",
      "execution_count": null,
      "metadata": {
        "id": "sjx0FBrI36ug",
        "outputId": "6931075c-edde-406f-cb78-e8c9e007e131",
        "colab": {
          "base_uri": "https://localhost:8080/",
          "height": 265
        }
      },
      "outputs": [
        {
          "output_type": "display_data",
          "data": {
            "text/plain": [
              "<Figure size 1080x288 with 2 Axes>"
            ],
            "image/png": "[encoded data removed]"
          },
          "metadata": {
            "needs_background": "light"
          }
        }
      ],
      "source": [
        "plot(history_model6)"
      ]
    },
    {
      "cell_type": "markdown",
      "metadata": {
        "collapsed": true,
        "id": "1Nf6DqwA36ug"
      },
      "source": [
        "###### The highest training categorical accuracy 94% and the val_categorical accuracy is 80%"
      ]
    },
    {
      "cell_type": "markdown",
      "metadata": {
        "id": "R6wuDqsM36ug"
      },
      "source": [
        "## Model 7 - Removed Con3D 64 layer"
      ]
    },
    {
      "cell_type": "code",
      "execution_count": 18,
      "metadata": {
        "id": "6ZoojUPx36ug"
      },
      "outputs": [],
      "source": [
        "class ModelConv3D7(ModelBuilder):\n",
        "    \n",
        "    def define_model(self,dense_neurons=512,dropout=0.25):\n",
        "\n",
        "        model = Sequential()\n",
        "        model.add(Conv3D(16, (2, 2, 2), padding='same',\n",
        "                 input_shape=(self.frames_to_sample,self.image_height,self.image_width,self.channels)))\n",
        "        model.add(Activation('relu'))\n",
        "        model.add(BatchNormalization())\n",
        "        model.add(MaxPooling3D(pool_size=(2, 2, 2)))\n",
        "\n",
        "        model.add(Conv3D(32, (3, 3, 3), padding='same'))\n",
        "        model.add(Activation('relu'))\n",
        "        model.add(BatchNormalization())\n",
        "        model.add(MaxPooling3D(pool_size=(2, 2, 2)))\n",
        "\n",
        "        model.add(Conv3D(128, (2, 2, 2), padding='same'))\n",
        "        model.add(Activation('relu'))\n",
        "        model.add(BatchNormalization())\n",
        "        model.add(MaxPooling3D(pool_size=(2, 2, 2)))\n",
        "        \n",
        "        model.add(Flatten())\n",
        "        model.add(Dense(dense_neurons,activation='relu'))\n",
        "        model.add(BatchNormalization())\n",
        "        model.add(Dropout(dropout))\n",
        "\n",
        "        model.add(Dense(self.num_classes,activation='softmax'))\n",
        "\n",
        "        optimiser = optimizers.Adam(lr=0.0002)\n",
        "        model.compile(optimizer=optimiser, loss='categorical_crossentropy', metrics=['categorical_accuracy'])\n",
        "        return model"
      ]
    },
    {
      "cell_type": "code",
      "execution_count": 19,
      "metadata": {
        "id": "ey3EygGb36ug",
        "outputId": "1997cb40-43e3-44aa-89a9-641056bce552",
        "colab": {
          "base_uri": "https://localhost:8080/"
        }
      },
      "outputs": [
        {
          "output_type": "stream",
          "name": "stdout",
          "text": [
            "Model: \"sequential\"\n",
            "_________________________________________________________________\n",
            " Layer (type)                Output Shape              Param #   \n",
            "=================================================================\n",
            " conv3d (Conv3D)             (None, 10, 120, 120, 16)  400       \n",
            "                                                                 \n",
            " activation (Activation)     (None, 10, 120, 120, 16)  0         \n",
            "                                                                 \n",
            " batch_normalization (BatchN  (None, 10, 120, 120, 16)  64       \n",
            " ormalization)                                                   \n",
            "                                                                 \n",
            " max_pooling3d (MaxPooling3D  (None, 5, 60, 60, 16)    0         \n",
            " )                                                               \n",
            "                                                                 \n",
            " conv3d_1 (Conv3D)           (None, 5, 60, 60, 32)     13856     \n",
            "                                                                 \n",
            " activation_1 (Activation)   (None, 5, 60, 60, 32)     0         \n",
            "                                                                 \n",
            " batch_normalization_1 (Batc  (None, 5, 60, 60, 32)    128       \n",
            " hNormalization)                                                 \n",
            "                                                                 \n",
            " max_pooling3d_1 (MaxPooling  (None, 2, 30, 30, 32)    0         \n",
            " 3D)                                                             \n",
            "                                                                 \n",
            " conv3d_2 (Conv3D)           (None, 2, 30, 30, 128)    32896     \n",
            "                                                                 \n",
            " activation_2 (Activation)   (None, 2, 30, 30, 128)    0         \n",
            "                                                                 \n",
            " batch_normalization_2 (Batc  (None, 2, 30, 30, 128)   512       \n",
            " hNormalization)                                                 \n",
            "                                                                 \n",
            " max_pooling3d_2 (MaxPooling  (None, 1, 15, 15, 128)   0         \n",
            " 3D)                                                             \n",
            "                                                                 \n",
            " flatten (Flatten)           (None, 28800)             0         \n",
            "                                                                 \n",
            " dense (Dense)               (None, 512)               14746112  \n",
            "                                                                 \n",
            " batch_normalization_3 (Batc  (None, 512)              2048      \n",
            " hNormalization)                                                 \n",
            "                                                                 \n",
            " dropout (Dropout)           (None, 512)               0         \n",
            "                                                                 \n",
            " dense_1 (Dense)             (None, 5)                 2565      \n",
            "                                                                 \n",
            "=================================================================\n",
            "Total params: 14,798,581\n",
            "Trainable params: 14,797,205\n",
            "Non-trainable params: 1,376\n",
            "_________________________________________________________________\n"
          ]
        }
      ],
      "source": [
        "conv_3d7=ModelConv3D7()\n",
        "conv_3d7.initialize_path(project_folder)\n",
        "conv_3d7.initialize_image_properties(image_height=120,image_width=120)\n",
        "conv_3d7.initialize_hyperparams(frames_to_sample=10,batch_size=8,num_epochs=20)\n",
        "conv_3d7_model=conv_3d7.define_model(dense_neurons=512,dropout=0.50)\n",
        "conv_3d7_model.summary()"
      ]
    },
    {
      "cell_type": "code",
      "execution_count": 20,
      "metadata": {
        "id": "Fd3hTiPZ36ug",
        "outputId": "c74dfab2-4d67-44c7-e1d1-1510aae4c653",
        "colab": {
          "base_uri": "https://localhost:8080/"
        }
      },
      "outputs": [
        {
          "metadata": {
            "tags": null
          },
          "name": "stderr",
          "output_type": "stream",
          "text": [
            "WARNING:tensorflow:`period` argument is deprecated. Please use `save_freq` to specify the frequency in number of batches seen.\n"
          ]
        },
        {
          "output_type": "stream",
          "name": "stdout",
          "text": [
            "Total Params: 14798581\n",
            "Epoch 1/20\n",
            "83/83 [==============================] - ETA: 0s - loss: 1.6947 - categorical_accuracy: 0.4827\n",
            "Epoch 1: val_loss improved from inf to 11.23153, saving model to model_init_2023-03-2108_04_51.186203/model-00001-1.69474-0.48265-11.23153-0.21000.h5\n",
            "83/83 [==============================] - 131s 1s/step - loss: 1.6947 - categorical_accuracy: 0.4827 - val_loss: 11.2315 - val_categorical_accuracy: 0.2100 - lr: 2.0000e-04\n",
            "Epoch 2/20\n",
            "83/83 [==============================] - ETA: 0s - loss: 0.8125 - categorical_accuracy: 0.7066\n",
            "Epoch 2: val_loss did not improve from 11.23153\n",
            "83/83 [==============================] - 116s 1s/step - loss: 0.8125 - categorical_accuracy: 0.7066 - val_loss: 21.1274 - val_categorical_accuracy: 0.2100 - lr: 2.0000e-04\n",
            "Epoch 3/20\n",
            "83/83 [==============================] - ETA: 0s - loss: 0.7208 - categorical_accuracy: 0.7534\n",
            "Epoch 3: val_loss did not improve from 11.23153\n",
            "83/83 [==============================] - 118s 1s/step - loss: 0.7208 - categorical_accuracy: 0.7534 - val_loss: 15.9345 - val_categorical_accuracy: 0.1700 - lr: 2.0000e-04\n",
            "Epoch 4/20\n",
            "83/83 [==============================] - ETA: 0s - loss: 0.5820 - categorical_accuracy: 0.7911\n",
            "Epoch 4: val_loss improved from 11.23153 to 6.55148, saving model to model_init_2023-03-2108_04_51.186203/model-00004-0.58199-0.79110-6.55148-0.23000.h5\n",
            "83/83 [==============================] - 113s 1s/step - loss: 0.5820 - categorical_accuracy: 0.7911 - val_loss: 6.5515 - val_categorical_accuracy: 0.2300 - lr: 2.0000e-04\n",
            "Epoch 5/20\n",
            "83/83 [==============================] - ETA: 0s - loss: 0.4546 - categorical_accuracy: 0.8439\n",
            "Epoch 5: val_loss improved from 6.55148 to 4.77661, saving model to model_init_2023-03-2108_04_51.186203/model-00005-0.45463-0.84389-4.77661-0.28000.h5\n",
            "83/83 [==============================] - 115s 1s/step - loss: 0.4546 - categorical_accuracy: 0.8439 - val_loss: 4.7766 - val_categorical_accuracy: 0.2800 - lr: 2.0000e-04\n",
            "Epoch 6/20\n",
            "83/83 [==============================] - ETA: 0s - loss: 0.4670 - categorical_accuracy: 0.8311\n",
            "Epoch 6: val_loss improved from 4.77661 to 2.98164, saving model to model_init_2023-03-2108_04_51.186203/model-00006-0.46696-0.83107-2.98164-0.45000.h5\n",
            "83/83 [==============================] - 113s 1s/step - loss: 0.4670 - categorical_accuracy: 0.8311 - val_loss: 2.9816 - val_categorical_accuracy: 0.4500 - lr: 2.0000e-04\n",
            "Epoch 7/20\n",
            "83/83 [==============================] - ETA: 0s - loss: 0.3747 - categorical_accuracy: 0.8643\n",
            "Epoch 7: val_loss improved from 2.98164 to 2.13456, saving model to model_init_2023-03-2108_04_51.186203/model-00007-0.37472-0.86425-2.13456-0.42000.h5\n",
            "83/83 [==============================] - 115s 1s/step - loss: 0.3747 - categorical_accuracy: 0.8643 - val_loss: 2.1346 - val_categorical_accuracy: 0.4200 - lr: 2.0000e-04\n",
            "Epoch 8/20\n",
            "83/83 [==============================] - ETA: 0s - loss: 0.3354 - categorical_accuracy: 0.8891\n",
            "Epoch 8: val_loss improved from 2.13456 to 1.03832, saving model to model_init_2023-03-2108_04_51.186203/model-00008-0.33540-0.88914-1.03832-0.74000.h5\n",
            "83/83 [==============================] - 114s 1s/step - loss: 0.3354 - categorical_accuracy: 0.8891 - val_loss: 1.0383 - val_categorical_accuracy: 0.7400 - lr: 2.0000e-04\n",
            "Epoch 9/20\n",
            "83/83 [==============================] - ETA: 0s - loss: 0.3661 - categorical_accuracy: 0.8839\n",
            "Epoch 9: val_loss improved from 1.03832 to 0.74113, saving model to model_init_2023-03-2108_04_51.186203/model-00009-0.36611-0.88386-0.74113-0.77000.h5\n",
            "83/83 [==============================] - 113s 1s/step - loss: 0.3661 - categorical_accuracy: 0.8839 - val_loss: 0.7411 - val_categorical_accuracy: 0.7700 - lr: 2.0000e-04\n",
            "Epoch 10/20\n",
            "83/83 [==============================] - ETA: 0s - loss: 0.3004 - categorical_accuracy: 0.8884\n",
            "Epoch 10: val_loss did not improve from 0.74113\n",
            "83/83 [==============================] - 114s 1s/step - loss: 0.3004 - categorical_accuracy: 0.8884 - val_loss: 1.0980 - val_categorical_accuracy: 0.7000 - lr: 2.0000e-04\n",
            "Epoch 11/20\n",
            "83/83 [==============================] - ETA: 0s - loss: 0.3227 - categorical_accuracy: 0.8974\n",
            "Epoch 11: val_loss did not improve from 0.74113\n",
            "83/83 [==============================] - 113s 1s/step - loss: 0.3227 - categorical_accuracy: 0.8974 - val_loss: 1.3388 - val_categorical_accuracy: 0.6800 - lr: 2.0000e-04\n",
            "Epoch 12/20\n",
            "83/83 [==============================] - ETA: 0s - loss: 0.3011 - categorical_accuracy: 0.8937\n",
            "Epoch 12: val_loss did not improve from 0.74113\n",
            "83/83 [==============================] - 115s 1s/step - loss: 0.3011 - categorical_accuracy: 0.8937 - val_loss: 0.9606 - val_categorical_accuracy: 0.7600 - lr: 2.0000e-04\n",
            "Epoch 13/20\n",
            "83/83 [==============================] - ETA: 0s - loss: 0.2919 - categorical_accuracy: 0.9035\n",
            "Epoch 13: val_loss did not improve from 0.74113\n",
            "\n",
            "Epoch 13: ReduceLROnPlateau reducing learning rate to 3.9999998989515007e-05.\n",
            "83/83 [==============================] - 114s 1s/step - loss: 0.2919 - categorical_accuracy: 0.9035 - val_loss: 0.8241 - val_categorical_accuracy: 0.7700 - lr: 2.0000e-04\n",
            "Epoch 14/20\n",
            "83/83 [==============================] - ETA: 0s - loss: 0.2380 - categorical_accuracy: 0.9201\n",
            "Epoch 14: val_loss improved from 0.74113 to 0.71714, saving model to model_init_2023-03-2108_04_51.186203/model-00014-0.23797-0.92006-0.71714-0.80000.h5\n",
            "83/83 [==============================] - 114s 1s/step - loss: 0.2380 - categorical_accuracy: 0.9201 - val_loss: 0.7171 - val_categorical_accuracy: 0.8000 - lr: 4.0000e-05\n",
            "Epoch 15/20\n",
            "83/83 [==============================] - ETA: 0s - loss: 0.1648 - categorical_accuracy: 0.9419\n",
            "Epoch 15: val_loss did not improve from 0.71714\n",
            "83/83 [==============================] - 114s 1s/step - loss: 0.1648 - categorical_accuracy: 0.9419 - val_loss: 0.7678 - val_categorical_accuracy: 0.8000 - lr: 4.0000e-05\n",
            "Epoch 16/20\n",
            "83/83 [==============================] - ETA: 0s - loss: 0.1614 - categorical_accuracy: 0.9480\n",
            "Epoch 16: val_loss did not improve from 0.71714\n",
            "83/83 [==============================] - 112s 1s/step - loss: 0.1614 - categorical_accuracy: 0.9480 - val_loss: 0.7976 - val_categorical_accuracy: 0.7900 - lr: 4.0000e-05\n",
            "Epoch 17/20\n",
            "83/83 [==============================] - ETA: 0s - loss: 0.1787 - categorical_accuracy: 0.9419\n",
            "Epoch 17: val_loss did not improve from 0.71714\n",
            "83/83 [==============================] - 113s 1s/step - loss: 0.1787 - categorical_accuracy: 0.9419 - val_loss: 0.7757 - val_categorical_accuracy: 0.8100 - lr: 4.0000e-05\n",
            "Epoch 18/20\n",
            "83/83 [==============================] - ETA: 0s - loss: 0.1872 - categorical_accuracy: 0.9434\n",
            "Epoch 18: val_loss improved from 0.71714 to 0.64842, saving model to model_init_2023-03-2108_04_51.186203/model-00018-0.18720-0.94344-0.64842-0.80000.h5\n",
            "83/83 [==============================] - 114s 1s/step - loss: 0.1872 - categorical_accuracy: 0.9434 - val_loss: 0.6484 - val_categorical_accuracy: 0.8000 - lr: 4.0000e-05\n",
            "Epoch 19/20\n",
            "83/83 [==============================] - ETA: 0s - loss: 0.1426 - categorical_accuracy: 0.9540\n",
            "Epoch 19: val_loss did not improve from 0.64842\n",
            "83/83 [==============================] - 123s 1s/step - loss: 0.1426 - categorical_accuracy: 0.9540 - val_loss: 0.8209 - val_categorical_accuracy: 0.7700 - lr: 4.0000e-05\n",
            "Epoch 20/20\n",
            "83/83 [==============================] - ETA: 0s - loss: 0.1497 - categorical_accuracy: 0.9540\n",
            "Epoch 20: val_loss did not improve from 0.64842\n",
            "83/83 [==============================] - 113s 1s/step - loss: 0.1497 - categorical_accuracy: 0.9540 - val_loss: 0.7565 - val_categorical_accuracy: 0.8000 - lr: 4.0000e-05\n"
          ]
        }
      ],
      "source": [
        "print(\"Total Params:\", conv_3d7_model.count_params())\n",
        "history_model7=conv_3d7.train_model(conv_3d7_model,augment_data=True)"
      ]
    },
    {
      "cell_type": "code",
      "execution_count": 21,
      "metadata": {
        "id": "y7JDbXwi36uh",
        "outputId": "6729a082-ff1a-4c86-d0fa-352e19b9d4a2",
        "colab": {
          "base_uri": "https://localhost:8080/",
          "height": 285
        }
      },
      "outputs": [
        {
          "output_type": "display_data",
          "data": {
            "text/plain": [
              "<Figure size 1080x288 with 2 Axes>"
            ],
            "image/png": "[encoded data removed]"
          },
          "metadata": {
            "needs_background": "light"
          }
        }
      ],
      "source": [
        "plot(history_model7)"
      ]
    },
    {
      "cell_type": "markdown",
      "metadata": {
        "id": "CqmOGjr836uh"
      },
      "source": [
        "###### All the layers in the model are vital and do help increase the performance"
      ]
    },
    {
      "cell_type": "markdown",
      "metadata": {
        "id": "BA8-UYBE36uh"
      },
      "source": [
        "## Model 8 - CNN- LSTM Model"
      ]
    },
    {
      "cell_type": "markdown",
      "source": [
        "#### Using LSTM cells of 128 and dense_nerons of 256"
      ],
      "metadata": {
        "id": "WwNGhH_qYQqO"
      }
    },
    {
      "cell_type": "code",
      "execution_count": null,
      "metadata": {
        "id": "B-aLrcbd36uh"
      },
      "outputs": [],
      "source": [
        "class RNNCNN1(ModelBuilder):\n",
        "    \n",
        "    def define_model(self,lstm_cells=128,dense_neurons=256,dropout=0.50):\n",
        "\n",
        "        model = Sequential()\n",
        "\n",
        "        model.add(TimeDistributed(Conv2D(16, (2, 2) , padding='same', activation='relu'),\n",
        "                                  input_shape=(self.frames_to_sample,self.image_height,self.image_width,self.channels)))\n",
        "        model.add(TimeDistributed(BatchNormalization()))\n",
        "        model.add(TimeDistributed(MaxPooling2D((2, 2))))\n",
        "        \n",
        "        model.add(TimeDistributed(Conv2D(32, (2, 2) , padding='same', activation='relu')))\n",
        "        model.add(TimeDistributed(BatchNormalization()))\n",
        "        model.add(TimeDistributed(MaxPooling2D((2, 2))))\n",
        "        \n",
        "        model.add(TimeDistributed(Conv2D(64, (2, 2) , padding='same', activation='relu')))\n",
        "        model.add(TimeDistributed(BatchNormalization()))\n",
        "        model.add(TimeDistributed(MaxPooling2D((2, 2))))\n",
        "        \n",
        "        model.add(TimeDistributed(Conv2D(128, (2, 2) , padding='same', activation='relu')))\n",
        "        model.add(TimeDistributed(BatchNormalization()))\n",
        "        model.add(TimeDistributed(MaxPooling2D((2, 2))))\n",
        "\n",
        "        model.add(TimeDistributed(Flatten()))\n",
        "\n",
        "\n",
        "        model.add(LSTM(lstm_cells))\n",
        "        model.add(Dropout(dropout))\n",
        "        \n",
        "        model.add(Dense(dense_neurons,activation='relu'))\n",
        "        model.add(Dropout(dropout))\n",
        "        \n",
        "        model.add(Dense(self.num_classes, activation='softmax'))\n",
        "        optimiser = optimizers.Adam()\n",
        "        model.compile(optimizer=optimiser, loss='categorical_crossentropy', metrics=['categorical_accuracy'])\n",
        "        return model"
      ]
    },
    {
      "cell_type": "code",
      "execution_count": null,
      "metadata": {
        "id": "j23sYt5n36uh",
        "outputId": "98919cba-3134-4c76-e458-36d9459bfe66",
        "colab": {
          "base_uri": "https://localhost:8080/"
        }
      },
      "outputs": [
        {
          "output_type": "stream",
          "name": "stdout",
          "text": [
            "Model: \"sequential_14\"\n",
            "_________________________________________________________________\n",
            " Layer (type)                Output Shape              Param #   \n",
            "=================================================================\n",
            " time_distributed (TimeDistr  (None, 16, 120, 120, 16)  208      \n",
            " ibuted)                                                         \n",
            "                                                                 \n",
            " time_distributed_1 (TimeDis  (None, 16, 120, 120, 16)  64       \n",
            " tributed)                                                       \n",
            "                                                                 \n",
            " time_distributed_2 (TimeDis  (None, 16, 60, 60, 16)   0         \n",
            " tributed)                                                       \n",
            "                                                                 \n",
            " time_distributed_3 (TimeDis  (None, 16, 60, 60, 32)   2080      \n",
            " tributed)                                                       \n",
            "                                                                 \n",
            " time_distributed_4 (TimeDis  (None, 16, 60, 60, 32)   128       \n",
            " tributed)                                                       \n",
            "                                                                 \n",
            " time_distributed_5 (TimeDis  (None, 16, 30, 30, 32)   0         \n",
            " tributed)                                                       \n",
            "                                                                 \n",
            " time_distributed_6 (TimeDis  (None, 16, 30, 30, 64)   8256      \n",
            " tributed)                                                       \n",
            "                                                                 \n",
            " time_distributed_7 (TimeDis  (None, 16, 30, 30, 64)   256       \n",
            " tributed)                                                       \n",
            "                                                                 \n",
            " time_distributed_8 (TimeDis  (None, 16, 15, 15, 64)   0         \n",
            " tributed)                                                       \n",
            "                                                                 \n",
            " time_distributed_9 (TimeDis  (None, 16, 15, 15, 128)  32896     \n",
            " tributed)                                                       \n",
            "                                                                 \n",
            " time_distributed_10 (TimeDi  (None, 16, 15, 15, 128)  512       \n",
            " stributed)                                                      \n",
            "                                                                 \n",
            " time_distributed_11 (TimeDi  (None, 16, 7, 7, 128)    0         \n",
            " stributed)                                                      \n",
            "                                                                 \n",
            " time_distributed_12 (TimeDi  (None, 16, 6272)         0         \n",
            " stributed)                                                      \n",
            "                                                                 \n",
            " lstm (LSTM)                 (None, 128)               3277312   \n",
            "                                                                 \n",
            " dropout_12 (Dropout)        (None, 128)               0         \n",
            "                                                                 \n",
            " dense_24 (Dense)            (None, 128)               16512     \n",
            "                                                                 \n",
            " dropout_13 (Dropout)        (None, 128)               0         \n",
            "                                                                 \n",
            " dense_25 (Dense)            (None, 5)                 645       \n",
            "                                                                 \n",
            "=================================================================\n",
            "Total params: 3,338,869\n",
            "Trainable params: 3,338,389\n",
            "Non-trainable params: 480\n",
            "_________________________________________________________________\n"
          ]
        }
      ],
      "source": [
        "rnn_cnn1=RNNCNN1()\n",
        "rnn_cnn1.initialize_path(project_folder)\n",
        "rnn_cnn1.initialize_image_properties(image_height=120,image_width=120)\n",
        "rnn_cnn1.initialize_hyperparams(frames_to_sample=16,batch_size=10,num_epochs=20)\n",
        "rnn_cnn1_model=rnn_cnn1.define_model(lstm_cells=128,dense_neurons=128,dropout=0.50)\n",
        "rnn_cnn1_model.summary()"
      ]
    },
    {
      "cell_type": "code",
      "execution_count": null,
      "metadata": {
        "id": "-fUkry3w36ui",
        "outputId": "afcc71db-cbd6-42bc-c04d-6c50df1eabd1",
        "colab": {
          "base_uri": "https://localhost:8080/"
        }
      },
      "outputs": [
        {
          "output_type": "stream",
          "name": "stderr",
          "text": [
            "WARNING:tensorflow:`period` argument is deprecated. Please use `save_freq` to specify the frequency in number of batches seen.\n"
          ]
        },
        {
          "output_type": "stream",
          "name": "stdout",
          "text": [
            "Total Params: 3338869\n",
            "Epoch 1/20\n",
            "67/67 [==============================] - ETA: 0s - loss: 1.6090 - categorical_accuracy: 0.2783\n",
            "Epoch 1: val_loss improved from inf to 1.73917, saving model to model_init_2023-03-2018_07_51.399378/model-00001-1.60897-0.27828-1.73917-0.23000.h5\n",
            "67/67 [==============================] - 203s 3s/step - loss: 1.6090 - categorical_accuracy: 0.2783 - val_loss: 1.7392 - val_categorical_accuracy: 0.2300 - lr: 0.0010\n",
            "Epoch 2/20\n",
            "67/67 [==============================] - ETA: 0s - loss: 1.4169 - categorical_accuracy: 0.3816\n",
            "Epoch 2: val_loss did not improve from 1.73917\n",
            "67/67 [==============================] - 188s 3s/step - loss: 1.4169 - categorical_accuracy: 0.3816 - val_loss: 1.7945 - val_categorical_accuracy: 0.2400 - lr: 0.0010\n",
            "Epoch 3/20\n",
            "67/67 [==============================] - ETA: 0s - loss: 1.2524 - categorical_accuracy: 0.4593\n",
            "Epoch 3: val_loss improved from 1.73917 to 1.62848, saving model to model_init_2023-03-2018_07_51.399378/model-00003-1.25243-0.45928-1.62848-0.22000.h5\n",
            "67/67 [==============================] - 183s 3s/step - loss: 1.2524 - categorical_accuracy: 0.4593 - val_loss: 1.6285 - val_categorical_accuracy: 0.2200 - lr: 0.0010\n",
            "Epoch 4/20\n",
            "67/67 [==============================] - ETA: 0s - loss: 1.1654 - categorical_accuracy: 0.5136\n",
            "Epoch 4: val_loss did not improve from 1.62848\n",
            "67/67 [==============================] - 187s 3s/step - loss: 1.1654 - categorical_accuracy: 0.5136 - val_loss: 1.7903 - val_categorical_accuracy: 0.1900 - lr: 0.0010\n",
            "Epoch 5/20\n",
            "67/67 [==============================] - ETA: 0s - loss: 1.1086 - categorical_accuracy: 0.5415\n",
            "Epoch 5: val_loss did not improve from 1.62848\n",
            "67/67 [==============================] - 189s 3s/step - loss: 1.1086 - categorical_accuracy: 0.5415 - val_loss: 2.8656 - val_categorical_accuracy: 0.2300 - lr: 0.0010\n",
            "Epoch 6/20\n",
            "67/67 [==============================] - ETA: 0s - loss: 0.9962 - categorical_accuracy: 0.5882\n",
            "Epoch 6: val_loss did not improve from 1.62848\n",
            "67/67 [==============================] - 203s 3s/step - loss: 0.9962 - categorical_accuracy: 0.5882 - val_loss: 2.6299 - val_categorical_accuracy: 0.2800 - lr: 0.0010\n",
            "Epoch 7/20\n",
            "67/67 [==============================] - ETA: 0s - loss: 0.9518 - categorical_accuracy: 0.6184\n",
            "Epoch 7: val_loss did not improve from 1.62848\n",
            "\n",
            "Epoch 7: ReduceLROnPlateau reducing learning rate to 0.00020000000949949026.\n",
            "67/67 [==============================] - 211s 3s/step - loss: 0.9518 - categorical_accuracy: 0.6184 - val_loss: 2.2346 - val_categorical_accuracy: 0.3100 - lr: 0.0010\n",
            "Epoch 8/20\n",
            "67/67 [==============================] - ETA: 0s - loss: 0.8254 - categorical_accuracy: 0.6704\n",
            "Epoch 8: val_loss improved from 1.62848 to 1.34471, saving model to model_init_2023-03-2018_07_51.399378/model-00008-0.82544-0.67044-1.34471-0.45000.h5\n",
            "67/67 [==============================] - 212s 3s/step - loss: 0.8254 - categorical_accuracy: 0.6704 - val_loss: 1.3447 - val_categorical_accuracy: 0.4500 - lr: 2.0000e-04\n",
            "Epoch 9/20\n",
            "67/67 [==============================] - ETA: 0s - loss: 0.7602 - categorical_accuracy: 0.6976\n",
            "Epoch 9: val_loss improved from 1.34471 to 1.06856, saving model to model_init_2023-03-2018_07_51.399378/model-00009-0.76019-0.69759-1.06856-0.58000.h5\n",
            "67/67 [==============================] - 203s 3s/step - loss: 0.7602 - categorical_accuracy: 0.6976 - val_loss: 1.0686 - val_categorical_accuracy: 0.5800 - lr: 2.0000e-04\n",
            "Epoch 10/20\n",
            "67/67 [==============================] - ETA: 0s - loss: 0.6879 - categorical_accuracy: 0.7293\n",
            "Epoch 10: val_loss improved from 1.06856 to 0.82408, saving model to model_init_2023-03-2018_07_51.399378/model-00010-0.68785-0.72926-0.82408-0.70000.h5\n",
            "67/67 [==============================] - 185s 3s/step - loss: 0.6879 - categorical_accuracy: 0.7293 - val_loss: 0.8241 - val_categorical_accuracy: 0.7000 - lr: 2.0000e-04\n",
            "Epoch 11/20\n",
            "67/67 [==============================] - ETA: 0s - loss: 0.7124 - categorical_accuracy: 0.7232\n",
            "Epoch 11: val_loss improved from 0.82408 to 0.67047, saving model to model_init_2023-03-2018_07_51.399378/model-00011-0.71240-0.72323-0.67047-0.75000.h5\n",
            "67/67 [==============================] - 211s 3s/step - loss: 0.7124 - categorical_accuracy: 0.7232 - val_loss: 0.6705 - val_categorical_accuracy: 0.7500 - lr: 2.0000e-04\n",
            "Epoch 12/20\n",
            "67/67 [==============================] - ETA: 0s - loss: 0.6259 - categorical_accuracy: 0.7602\n",
            "Epoch 12: val_loss did not improve from 0.67047\n",
            "67/67 [==============================] - 194s 3s/step - loss: 0.6259 - categorical_accuracy: 0.7602 - val_loss: 0.7735 - val_categorical_accuracy: 0.6700 - lr: 2.0000e-04\n",
            "Epoch 13/20\n",
            "67/67 [==============================] - ETA: 0s - loss: 0.6171 - categorical_accuracy: 0.7670\n",
            "Epoch 13: val_loss improved from 0.67047 to 0.66534, saving model to model_init_2023-03-2018_07_51.399378/model-00013-0.61713-0.76697-0.66534-0.71000.h5\n",
            "67/67 [==============================] - 198s 3s/step - loss: 0.6171 - categorical_accuracy: 0.7670 - val_loss: 0.6653 - val_categorical_accuracy: 0.7100 - lr: 2.0000e-04\n",
            "Epoch 14/20\n",
            "67/67 [==============================] - ETA: 0s - loss: 0.5805 - categorical_accuracy: 0.7775\n",
            "Epoch 14: val_loss improved from 0.66534 to 0.57366, saving model to model_init_2023-03-2018_07_51.399378/model-00014-0.58053-0.77753-0.57366-0.79000.h5\n",
            "67/67 [==============================] - 187s 3s/step - loss: 0.5805 - categorical_accuracy: 0.7775 - val_loss: 0.5737 - val_categorical_accuracy: 0.7900 - lr: 2.0000e-04\n",
            "Epoch 15/20\n",
            "67/67 [==============================] - ETA: 0s - loss: 0.5315 - categorical_accuracy: 0.7903\n",
            "Epoch 15: val_loss did not improve from 0.57366\n",
            "67/67 [==============================] - 196s 3s/step - loss: 0.5315 - categorical_accuracy: 0.7903 - val_loss: 0.6216 - val_categorical_accuracy: 0.7400 - lr: 2.0000e-04\n",
            "Epoch 16/20\n",
            "67/67 [==============================] - ETA: 0s - loss: 0.5478 - categorical_accuracy: 0.8047\n",
            "Epoch 16: val_loss improved from 0.57366 to 0.51084, saving model to model_init_2023-03-2018_07_51.399378/model-00016-0.54776-0.80468-0.51084-0.81000.h5\n",
            "67/67 [==============================] - 198s 3s/step - loss: 0.5478 - categorical_accuracy: 0.8047 - val_loss: 0.5108 - val_categorical_accuracy: 0.8100 - lr: 2.0000e-04\n",
            "Epoch 17/20\n",
            "67/67 [==============================] - ETA: 0s - loss: 0.4812 - categorical_accuracy: 0.8160\n",
            "Epoch 17: val_loss did not improve from 0.51084\n",
            "67/67 [==============================] - 189s 3s/step - loss: 0.4812 - categorical_accuracy: 0.8160 - val_loss: 0.6141 - val_categorical_accuracy: 0.7300 - lr: 2.0000e-04\n",
            "Epoch 18/20\n",
            "67/67 [==============================] - ETA: 0s - loss: 0.4908 - categorical_accuracy: 0.8092\n",
            "Epoch 18: val_loss improved from 0.51084 to 0.45715, saving model to model_init_2023-03-2018_07_51.399378/model-00018-0.49082-0.80920-0.45715-0.86000.h5\n",
            "67/67 [==============================] - 185s 3s/step - loss: 0.4908 - categorical_accuracy: 0.8092 - val_loss: 0.4572 - val_categorical_accuracy: 0.8600 - lr: 2.0000e-04\n",
            "Epoch 19/20\n",
            "67/67 [==============================] - ETA: 0s - loss: 0.4139 - categorical_accuracy: 0.8462\n",
            "Epoch 19: val_loss did not improve from 0.45715\n",
            "67/67 [==============================] - 184s 3s/step - loss: 0.4139 - categorical_accuracy: 0.8462 - val_loss: 0.5037 - val_categorical_accuracy: 0.8000 - lr: 2.0000e-04\n",
            "Epoch 20/20\n",
            "67/67 [==============================] - ETA: 0s - loss: 0.4153 - categorical_accuracy: 0.8446\n",
            "Epoch 20: val_loss did not improve from 0.45715\n",
            "67/67 [==============================] - 189s 3s/step - loss: 0.4153 - categorical_accuracy: 0.8446 - val_loss: 0.4928 - val_categorical_accuracy: 0.8500 - lr: 2.0000e-04\n"
          ]
        }
      ],
      "source": [
        "print(\"Total Params:\", rnn_cnn1_model.count_params())\n",
        "history_model8=rnn_cnn1.train_model(rnn_cnn1_model,augment_data=True)"
      ]
    },
    {
      "cell_type": "code",
      "execution_count": null,
      "metadata": {
        "id": "PFbRJFMW36ui",
        "outputId": "ac3391d7-9220-46e3-f39a-bc2ee41bedb0",
        "colab": {
          "base_uri": "https://localhost:8080/",
          "height": 265
        }
      },
      "outputs": [
        {
          "output_type": "display_data",
          "data": {
            "text/plain": [
              "<Figure size 1080x288 with 2 Axes>"
            ],
            "image/png": "[encoded data removed]"
          },
          "metadata": {
            "needs_background": "light"
          }
        }
      ],
      "source": [
        "plot(history_model8)"
      ]
    },
    {
      "cell_type": "markdown",
      "metadata": {
        "collapsed": true,
        "id": "bxa8O1Qf36ui"
      },
      "source": [
        "##### For CNN - LSTM model we get a best validation accuracy of 86%"
      ]
    },
    {
      "cell_type": "markdown",
      "metadata": {
        "id": "YBXJbFDG36ui"
      },
      "source": [
        "Augmenting the data with ***slight rotation*** and running it on the similar set of models."
      ]
    },
    {
      "cell_type": "markdown",
      "metadata": {
        "id": "N2knrp7936ui"
      },
      "source": [
        "## Testing out the data augmentation on the model performance."
      ]
    },
    {
      "cell_type": "code",
      "execution_count": null,
      "metadata": {
        "id": "afdA2fHJ36ui"
      },
      "outputs": [],
      "source": [
        "# Code to build Model Builder with Augmentation\n",
        "class ModelBuilderMoreAugmentation(metaclass= abc.ABCMeta):\n",
        "    \n",
        "    def initialize_path(self,project_folder):\n",
        "        self.train_doc = np.random.permutation(open(project_folder + '/' + 'train.csv').readlines())\n",
        "        self.val_doc = np.random.permutation(open(project_folder + '/' + 'val.csv').readlines())\n",
        "        self.train_path = project_folder + '/' + 'train'\n",
        "        self.val_path =  project_folder + '/' + 'val'\n",
        "        self.num_train_sequences = len(self.train_doc)\n",
        "        self.num_val_sequences = len(self.val_doc)\n",
        "        \n",
        "    def initialize_image_properties(self,image_height=100,image_width=100):\n",
        "        self.image_height=image_height\n",
        "        self.image_width=image_width\n",
        "        self.channels=3\n",
        "        self.num_classes=5\n",
        "        self.total_frames=30\n",
        "          \n",
        "    def initialize_hyperparams(self,frames_to_sample=30,batch_size=10,num_epochs=20):\n",
        "        self.frames_to_sample=frames_to_sample\n",
        "        self.batch_size=batch_size\n",
        "        self.num_epochs=num_epochs\n",
        "        \n",
        "        \n",
        "    def generator(self,source_path, folder_list, augment=False):\n",
        "        img_idx = np.round(np.linspace(0,self.total_frames-1,self.frames_to_sample)).astype(int)\n",
        "        batch_size=self.batch_size\n",
        "        while True:\n",
        "            t = np.random.permutation(folder_list)\n",
        "            num_batches = len(t)//batch_size\n",
        "        \n",
        "            for batch in range(num_batches): \n",
        "                batch_data, batch_labels= self.one_batch_data(source_path,t,batch,batch_size,img_idx,augment)\n",
        "                yield batch_data, batch_labels \n",
        "\n",
        "            remaining_seq=len(t)%batch_size\n",
        "        \n",
        "            if (remaining_seq != 0):\n",
        "                batch_data, batch_labels= self.one_batch_data(source_path,t,num_batches,batch_size,img_idx,augment,remaining_seq)\n",
        "                yield batch_data, batch_labels \n",
        "    \n",
        "    \n",
        "    def one_batch_data(self,source_path,t,batch,batch_size,img_idx,augment,remaining_seq=0):\n",
        "    \n",
        "        seq_len = remaining_seq if remaining_seq else batch_size\n",
        "    \n",
        "        batch_data = np.zeros((seq_len,len(img_idx),self.image_height,self.image_width,self.channels)) \n",
        "        batch_labels = np.zeros((seq_len,self.num_classes)) \n",
        "    \n",
        "        if (augment): batch_data_aug = np.zeros((seq_len,len(img_idx),self.image_height,self.image_width,self.channels))\n",
        "\n",
        "        \n",
        "        for folder in range(seq_len): \n",
        "            imgs = os.listdir(source_path+'/'+ t[folder + (batch*batch_size)].split(';')[0]) \n",
        "            for idx,item in enumerate(img_idx): \n",
        "                image = imread(source_path+'/'+ t[folder + (batch*batch_size)].strip().split(';')[0]+'/'+imgs[item]).astype(np.float32)\n",
        "                image_resized=resize(image,(self.image_height,self.image_width,3))\n",
        "            \n",
        "\n",
        "                batch_data[folder,idx,:,:,0] = (image_resized[:,:,0])/255\n",
        "                batch_data[folder,idx,:,:,1] = (image_resized[:,:,1])/255\n",
        "                batch_data[folder,idx,:,:,2] = (image_resized[:,:,2])/255\n",
        "            \n",
        "                if (augment):\n",
        "                    shifted = cv2.warpAffine(image, \n",
        "                                             np.float32([[1, 0, np.random.randint(-30,30)],[0, 1, np.random.randint(-30,30)]]), \n",
        "                                            (image.shape[1], image.shape[0]))\n",
        "                    \n",
        "                    gray = cv2.cvtColor(shifted,cv2.COLOR_BGR2GRAY)\n",
        "\n",
        "                    x0, y0 = np.argwhere(gray > 0).min(axis=0)\n",
        "                    x1, y1 = np.argwhere(gray > 0).max(axis=0) \n",
        "                    \n",
        "                    cropped=shifted[x0:x1,y0:y1,:]\n",
        "                    \n",
        "                    image_resized=resize(cropped,(self.image_height,self.image_width,3))\n",
        "                    \n",
        "                    M = cv2.getRotationMatrix2D((self.image_width//2,self.image_height//2),\n",
        "                                                np.random.randint(-10,10), 1.0)\n",
        "                    rotated = cv2.warpAffine(image_resized, M, (self.image_width, self.image_height))\n",
        "                    \n",
        "                    #shifted = cv2.warpAffine(image_resized, \n",
        "                    #                        np.float32([[1, 0, np.random.randint(-3,3)],[0, 1, np.random.randint(-3,3)]]), \n",
        "                    #                        (image_resized.shape[1], image_resized.shape[0]))\n",
        "            \n",
        "                    batch_data_aug[folder,idx,:,:,0] = (rotated[:,:,0])/255\n",
        "                    batch_data_aug[folder,idx,:,:,1] = (rotated[:,:,1])/255\n",
        "                    batch_data_aug[folder,idx,:,:,2] = (rotated[:,:,2])/255\n",
        "                \n",
        "            \n",
        "            batch_labels[folder, int(t[folder + (batch*batch_size)].strip().split(';')[2])] = 1\n",
        "            \n",
        "    \n",
        "        if (augment):\n",
        "            batch_data=np.concatenate([batch_data,batch_data_aug])\n",
        "            batch_labels=np.concatenate([batch_labels,batch_labels])\n",
        "\n",
        "        \n",
        "        return(batch_data,batch_labels)\n",
        "    \n",
        "    \n",
        "    def train_model(self, model, augment_data=False):\n",
        "        train_generator = self.generator(self.train_path, self.train_doc,augment=augment_data)\n",
        "        val_generator = self.generator(self.val_path, self.val_doc)\n",
        "\n",
        "        model_name = 'model_init' + '_' + str(datetime.datetime.now()).replace(' ','').replace(':','_') + '/'\n",
        "    \n",
        "        if not os.path.exists(model_name):\n",
        "            os.mkdir(model_name)\n",
        "        \n",
        "        filepath = model_name + 'model-{epoch:05d}-{loss:.5f}-{categorical_accuracy:.5f}-{val_loss:.5f}-{val_categorical_accuracy:.5f}.h5'\n",
        "\n",
        "        checkpoint = ModelCheckpoint(filepath, monitor='val_loss', verbose=1, save_best_only=False, save_weights_only=False, mode='auto', period=1)\n",
        "        LR = ReduceLROnPlateau(monitor='val_loss', factor=0.2, verbose=1, patience=4)\n",
        "        callbacks_list = [checkpoint, LR]\n",
        "\n",
        "        if (self.num_train_sequences%self.batch_size) == 0:\n",
        "            steps_per_epoch = int(self.num_train_sequences/self.batch_size)\n",
        "        else:\n",
        "            steps_per_epoch = (self.num_train_sequences//self.batch_size) + 1\n",
        "\n",
        "        if (self.num_val_sequences%self.batch_size) == 0:\n",
        "            validation_steps = int(self.num_val_sequences/self.batch_size)\n",
        "        else:\n",
        "            validation_steps = (self.num_val_sequences//self.batch_size) + 1\n",
        "    \n",
        "        history=model.fit_generator(train_generator, steps_per_epoch=steps_per_epoch, epochs=self.num_epochs, verbose=1, \n",
        "                            callbacks=callbacks_list, validation_data=val_generator, \n",
        "                            validation_steps=validation_steps, class_weight=None, workers=1, initial_epoch=0)\n",
        "        return history\n",
        "\n",
        "        \n",
        "    @abc.abstractmethod\n",
        "    def define_model(self):\n",
        "        pass\n",
        "    \n",
        "    "
      ]
    },
    {
      "cell_type": "code",
      "execution_count": null,
      "metadata": {
        "id": "q6XHEOGs36uj",
        "outputId": "42d9b52d-bbe5-41ee-b3da-3e4c3a86eced",
        "colab": {
          "base_uri": "https://localhost:8080/",
          "height": 221
        }
      },
      "outputs": [
        {
          "output_type": "execute_result",
          "data": {
            "text/plain": [
              "<matplotlib.image.AxesImage at 0x7fcc386e5760>"
            ]
          },
          "metadata": {},
          "execution_count": 69
        },
        {
          "output_type": "display_data",
          "data": {
            "text/plain": [
              "<Figure size 432x288 with 2 Axes>"
            ],
            "image/png": "[encoded data removed]"
          },
          "metadata": {
            "needs_background": "light"
          }
        }
      ],
      "source": [
        "# Testing out the Model Builder\n",
        "class Test(ModelBuilderMoreAugmentation):\n",
        "    def define_model(self):\n",
        "        pass\n",
        "\n",
        "test_generator=Test()\n",
        "test_generator.initialize_path(project_folder)\n",
        "test_generator.initialize_image_properties(image_height=160,image_width=160)\n",
        "test_generator.initialize_hyperparams(frames_to_sample=30,batch_size=3,num_epochs=1)\n",
        "\n",
        "g=test_generator.generator(test_generator.val_path,test_generator.val_doc,augment=True)\n",
        "batch_data, batch_labels=next(g)\n",
        "fig, axes = plt.subplots(nrows=1, ncols=2)\n",
        "axes[0].imshow(batch_data[0,29,:,:,:])   \n",
        "axes[1].imshow(batch_data[3,29,:,:,:])   "
      ]
    },
    {
      "cell_type": "markdown",
      "metadata": {
        "id": "t-odlAo636uj"
      },
      "source": [
        "## Model 9 with Augmentation\n",
        "### Dense layer 128, filter size (3,3,3), Frame_to_sample = 16, batch_size = 8"
      ]
    },
    {
      "cell_type": "code",
      "execution_count": null,
      "metadata": {
        "id": "9vcfM68R36uj"
      },
      "outputs": [],
      "source": [
        "class ModelConv3D9(ModelBuilderMoreAugmentation):\n",
        "    \n",
        "    def define_model(self,filtersize=(3,3,3),dense_neurons=128,dropout=0.50):\n",
        "\n",
        "        model = Sequential()\n",
        "        model.add(Conv3D(16, filtersize, padding='same',\n",
        "                 input_shape=(self.frames_to_sample,self.image_height,self.image_width,self.channels)))\n",
        "        model.add(Activation('relu'))\n",
        "        model.add(BatchNormalization())\n",
        "        model.add(MaxPooling3D(pool_size=(2, 2, 2)))\n",
        "\n",
        "        model.add(Conv3D(32, filtersize, padding='same'))\n",
        "        model.add(Activation('relu'))\n",
        "        model.add(BatchNormalization())\n",
        "        model.add(MaxPooling3D(pool_size=(2, 2, 2)))\n",
        "\n",
        "        model.add(Conv3D(64, filtersize, padding='same'))\n",
        "        model.add(Activation('relu'))\n",
        "        model.add(BatchNormalization())\n",
        "        model.add(MaxPooling3D(pool_size=(2, 2, 2)))\n",
        "\n",
        "        model.add(Conv3D(128, filtersize, padding='same'))\n",
        "        model.add(Activation('relu'))\n",
        "        model.add(BatchNormalization())\n",
        "        model.add(MaxPooling3D(pool_size=(2, 2, 2)))\n",
        "\n",
        "        model.add(Flatten())\n",
        "        model.add(Dense(dense_neurons,activation='relu'))\n",
        "        model.add(BatchNormalization())\n",
        "        model.add(Dropout(dropout))\n",
        "\n",
        "        model.add(Dense(self.num_classes,activation='softmax'))\n",
        "\n",
        "        optimiser = optimizers.Adam(lr=0.0002)\n",
        "        model.compile(optimizer=optimiser, loss='categorical_crossentropy', metrics=['categorical_accuracy'])\n",
        "        return model"
      ]
    },
    {
      "cell_type": "code",
      "execution_count": null,
      "metadata": {
        "id": "M11eHdWs36uj",
        "outputId": "b1abdea7-a118-4375-9e81-7cb8a3561e9e",
        "colab": {
          "base_uri": "https://localhost:8080/"
        }
      },
      "outputs": [
        {
          "output_type": "stream",
          "name": "stdout",
          "text": [
            "Model: \"sequential_17\"\n",
            "_________________________________________________________________\n",
            " Layer (type)                Output Shape              Param #   \n",
            "=================================================================\n",
            " conv3d_62 (Conv3D)          (None, 16, 120, 120, 16)  1312      \n",
            "                                                                 \n",
            " activation_62 (Activation)  (None, 16, 120, 120, 16)  0         \n",
            "                                                                 \n",
            " batch_normalization_78 (Bat  (None, 16, 120, 120, 16)  64       \n",
            " chNormalization)                                                \n",
            "                                                                 \n",
            " max_pooling3d_62 (MaxPoolin  (None, 8, 60, 60, 16)    0         \n",
            " g3D)                                                            \n",
            "                                                                 \n",
            " conv3d_63 (Conv3D)          (None, 8, 60, 60, 32)     13856     \n",
            "                                                                 \n",
            " activation_63 (Activation)  (None, 8, 60, 60, 32)     0         \n",
            "                                                                 \n",
            " batch_normalization_79 (Bat  (None, 8, 60, 60, 32)    128       \n",
            " chNormalization)                                                \n",
            "                                                                 \n",
            " max_pooling3d_63 (MaxPoolin  (None, 4, 30, 30, 32)    0         \n",
            " g3D)                                                            \n",
            "                                                                 \n",
            " conv3d_64 (Conv3D)          (None, 4, 30, 30, 64)     55360     \n",
            "                                                                 \n",
            " activation_64 (Activation)  (None, 4, 30, 30, 64)     0         \n",
            "                                                                 \n",
            " batch_normalization_80 (Bat  (None, 4, 30, 30, 64)    256       \n",
            " chNormalization)                                                \n",
            "                                                                 \n",
            " max_pooling3d_64 (MaxPoolin  (None, 2, 15, 15, 64)    0         \n",
            " g3D)                                                            \n",
            "                                                                 \n",
            " conv3d_65 (Conv3D)          (None, 2, 15, 15, 128)    221312    \n",
            "                                                                 \n",
            " activation_65 (Activation)  (None, 2, 15, 15, 128)    0         \n",
            "                                                                 \n",
            " batch_normalization_81 (Bat  (None, 2, 15, 15, 128)   512       \n",
            " chNormalization)                                                \n",
            "                                                                 \n",
            " max_pooling3d_65 (MaxPoolin  (None, 1, 7, 7, 128)     0         \n",
            " g3D)                                                            \n",
            "                                                                 \n",
            " flatten_13 (Flatten)        (None, 6272)              0         \n",
            "                                                                 \n",
            " dense_26 (Dense)            (None, 128)               802944    \n",
            "                                                                 \n",
            " batch_normalization_82 (Bat  (None, 128)              512       \n",
            " chNormalization)                                                \n",
            "                                                                 \n",
            " dropout_14 (Dropout)        (None, 128)               0         \n",
            "                                                                 \n",
            " dense_27 (Dense)            (None, 5)                 645       \n",
            "                                                                 \n",
            "=================================================================\n",
            "Total params: 1,096,901\n",
            "Trainable params: 1,096,165\n",
            "Non-trainable params: 736\n",
            "_________________________________________________________________\n"
          ]
        }
      ],
      "source": [
        "conv_3d9=ModelConv3D9()\n",
        "conv_3d9.initialize_path(project_folder)\n",
        "conv_3d9.initialize_image_properties(image_height=120,image_width=120)\n",
        "conv_3d9.initialize_hyperparams(frames_to_sample=16,batch_size=8,num_epochs=20)\n",
        "conv_3d9_model=conv_3d9.define_model(dense_neurons=128,dropout=0.5)\n",
        "conv_3d9_model.summary()\n"
      ]
    },
    {
      "cell_type": "code",
      "execution_count": null,
      "metadata": {
        "id": "iFbovd8z36uk",
        "outputId": "c9820940-ba74-4ce6-a26a-bb625c75ffb6",
        "colab": {
          "base_uri": "https://localhost:8080/"
        }
      },
      "outputs": [
        {
          "output_type": "stream",
          "name": "stderr",
          "text": [
            "WARNING:tensorflow:`period` argument is deprecated. Please use `save_freq` to specify the frequency in number of batches seen.\n"
          ]
        },
        {
          "output_type": "stream",
          "name": "stdout",
          "text": [
            "Total Params: 1096901\n",
            "Epoch 1/20\n",
            "83/83 [==============================] - ETA: 0s - loss: 1.7417 - categorical_accuracy: 0.4231\n",
            "Epoch 1: saving model to model_init_2023-03-2019_23_22.069340/model-00001-1.74166-0.42308-4.38867-0.21000.h5\n",
            "83/83 [==============================] - 216s 3s/step - loss: 1.7417 - categorical_accuracy: 0.4231 - val_loss: 4.3887 - val_categorical_accuracy: 0.2100 - lr: 2.0000e-04\n",
            "Epoch 2/20\n",
            "83/83 [==============================] - ETA: 0s - loss: 1.1230 - categorical_accuracy: 0.5701\n",
            "Epoch 2: saving model to model_init_2023-03-2019_23_22.069340/model-00002-1.12302-0.57014-5.44952-0.24000.h5\n",
            "83/83 [==============================] - 185s 2s/step - loss: 1.1230 - categorical_accuracy: 0.5701 - val_loss: 5.4495 - val_categorical_accuracy: 0.2400 - lr: 2.0000e-04\n",
            "Epoch 3/20\n",
            "83/83 [==============================] - ETA: 0s - loss: 1.0216 - categorical_accuracy: 0.6109\n",
            "Epoch 3: saving model to model_init_2023-03-2019_23_22.069340/model-00003-1.02161-0.61086-6.38249-0.19000.h5\n",
            "83/83 [==============================] - 185s 2s/step - loss: 1.0216 - categorical_accuracy: 0.6109 - val_loss: 6.3825 - val_categorical_accuracy: 0.1900 - lr: 2.0000e-04\n",
            "Epoch 4/20\n",
            "83/83 [==============================] - ETA: 0s - loss: 0.9214 - categorical_accuracy: 0.6320\n",
            "Epoch 4: saving model to model_init_2023-03-2019_23_22.069340/model-00004-0.92144-0.63198-4.06851-0.28000.h5\n",
            "83/83 [==============================] - 244s 3s/step - loss: 0.9214 - categorical_accuracy: 0.6320 - val_loss: 4.0685 - val_categorical_accuracy: 0.2800 - lr: 2.0000e-04\n",
            "Epoch 5/20\n",
            "83/83 [==============================] - ETA: 0s - loss: 0.7856 - categorical_accuracy: 0.6961\n",
            "Epoch 5: saving model to model_init_2023-03-2019_23_22.069340/model-00005-0.78562-0.69608-4.30879-0.24000.h5\n",
            "83/83 [==============================] - 188s 2s/step - loss: 0.7856 - categorical_accuracy: 0.6961 - val_loss: 4.3088 - val_categorical_accuracy: 0.2400 - lr: 2.0000e-04\n",
            "Epoch 6/20\n",
            "83/83 [==============================] - ETA: 0s - loss: 0.7356 - categorical_accuracy: 0.7285\n",
            "Epoch 6: saving model to model_init_2023-03-2019_23_22.069340/model-00006-0.73560-0.72851-2.28852-0.39000.h5\n",
            "83/83 [==============================] - 189s 2s/step - loss: 0.7356 - categorical_accuracy: 0.7285 - val_loss: 2.2885 - val_categorical_accuracy: 0.3900 - lr: 2.0000e-04\n",
            "Epoch 7/20\n",
            "83/83 [==============================] - ETA: 0s - loss: 0.6931 - categorical_accuracy: 0.7353\n",
            "Epoch 7: saving model to model_init_2023-03-2019_23_22.069340/model-00007-0.69311-0.73529-1.57371-0.49000.h5\n",
            "83/83 [==============================] - 188s 2s/step - loss: 0.6931 - categorical_accuracy: 0.7353 - val_loss: 1.5737 - val_categorical_accuracy: 0.4900 - lr: 2.0000e-04\n",
            "Epoch 8/20\n",
            "83/83 [==============================] - ETA: 0s - loss: 0.6322 - categorical_accuracy: 0.7579\n",
            "Epoch 8: saving model to model_init_2023-03-2019_23_22.069340/model-00008-0.63223-0.75792-0.93288-0.65000.h5\n",
            "83/83 [==============================] - 189s 2s/step - loss: 0.6322 - categorical_accuracy: 0.7579 - val_loss: 0.9329 - val_categorical_accuracy: 0.6500 - lr: 2.0000e-04\n",
            "Epoch 9/20\n",
            "83/83 [==============================] - ETA: 0s - loss: 0.5534 - categorical_accuracy: 0.7941\n",
            "Epoch 9: saving model to model_init_2023-03-2019_23_22.069340/model-00009-0.55341-0.79412-1.29807-0.67000.h5\n",
            "83/83 [==============================] - 184s 2s/step - loss: 0.5534 - categorical_accuracy: 0.7941 - val_loss: 1.2981 - val_categorical_accuracy: 0.6700 - lr: 2.0000e-04\n",
            "Epoch 10/20\n",
            "83/83 [==============================] - ETA: 0s - loss: 0.5067 - categorical_accuracy: 0.8107\n",
            "Epoch 10: saving model to model_init_2023-03-2019_23_22.069340/model-00010-0.50674-0.81071-1.02088-0.61000.h5\n",
            "83/83 [==============================] - 188s 2s/step - loss: 0.5067 - categorical_accuracy: 0.8107 - val_loss: 1.0209 - val_categorical_accuracy: 0.6100 - lr: 2.0000e-04\n",
            "Epoch 11/20\n",
            "83/83 [==============================] - ETA: 0s - loss: 0.5250 - categorical_accuracy: 0.8077\n",
            "Epoch 11: saving model to model_init_2023-03-2019_23_22.069340/model-00011-0.52502-0.80769-0.80445-0.71000.h5\n",
            "83/83 [==============================] - 188s 2s/step - loss: 0.5250 - categorical_accuracy: 0.8077 - val_loss: 0.8044 - val_categorical_accuracy: 0.7100 - lr: 2.0000e-04\n",
            "Epoch 12/20\n",
            "83/83 [==============================] - ETA: 0s - loss: 0.4555 - categorical_accuracy: 0.8326\n",
            "Epoch 12: saving model to model_init_2023-03-2019_23_22.069340/model-00012-0.45550-0.83258-0.76634-0.74000.h5\n",
            "83/83 [==============================] - 186s 2s/step - loss: 0.4555 - categorical_accuracy: 0.8326 - val_loss: 0.7663 - val_categorical_accuracy: 0.7400 - lr: 2.0000e-04\n",
            "Epoch 13/20\n",
            "83/83 [==============================] - ETA: 0s - loss: 0.4591 - categorical_accuracy: 0.8348\n",
            "Epoch 13: saving model to model_init_2023-03-2019_23_22.069340/model-00013-0.45907-0.83484-1.08260-0.67000.h5\n",
            "83/83 [==============================] - 186s 2s/step - loss: 0.4591 - categorical_accuracy: 0.8348 - val_loss: 1.0826 - val_categorical_accuracy: 0.6700 - lr: 2.0000e-04\n",
            "Epoch 14/20\n",
            "83/83 [==============================] - ETA: 0s - loss: 0.4036 - categorical_accuracy: 0.8484\n",
            "Epoch 14: saving model to model_init_2023-03-2019_23_22.069340/model-00014-0.40361-0.84842-1.06318-0.67000.h5\n",
            "83/83 [==============================] - 190s 2s/step - loss: 0.4036 - categorical_accuracy: 0.8484 - val_loss: 1.0632 - val_categorical_accuracy: 0.6700 - lr: 2.0000e-04\n",
            "Epoch 15/20\n",
            "83/83 [==============================] - ETA: 0s - loss: 0.3762 - categorical_accuracy: 0.8733\n",
            "Epoch 15: saving model to model_init_2023-03-2019_23_22.069340/model-00015-0.37622-0.87330-1.06625-0.69000.h5\n",
            "83/83 [==============================] - 192s 2s/step - loss: 0.3762 - categorical_accuracy: 0.8733 - val_loss: 1.0663 - val_categorical_accuracy: 0.6900 - lr: 2.0000e-04\n",
            "Epoch 16/20\n",
            "83/83 [==============================] - ETA: 0s - loss: 0.3867 - categorical_accuracy: 0.8627\n",
            "Epoch 16: saving model to model_init_2023-03-2019_23_22.069340/model-00016-0.38672-0.86275-0.73075-0.72000.h5\n",
            "83/83 [==============================] - 186s 2s/step - loss: 0.3867 - categorical_accuracy: 0.8627 - val_loss: 0.7307 - val_categorical_accuracy: 0.7200 - lr: 2.0000e-04\n",
            "Epoch 17/20\n",
            "83/83 [==============================] - ETA: 0s - loss: 0.4122 - categorical_accuracy: 0.8544\n",
            "Epoch 17: saving model to model_init_2023-03-2019_23_22.069340/model-00017-0.41220-0.85445-1.19954-0.62000.h5\n",
            "83/83 [==============================] - 189s 2s/step - loss: 0.4122 - categorical_accuracy: 0.8544 - val_loss: 1.1995 - val_categorical_accuracy: 0.6200 - lr: 2.0000e-04\n",
            "Epoch 18/20\n",
            "83/83 [==============================] - ETA: 0s - loss: 0.3670 - categorical_accuracy: 0.8725\n",
            "Epoch 18: saving model to model_init_2023-03-2019_23_22.069340/model-00018-0.36702-0.87255-0.72123-0.75000.h5\n",
            "83/83 [==============================] - 188s 2s/step - loss: 0.3670 - categorical_accuracy: 0.8725 - val_loss: 0.7212 - val_categorical_accuracy: 0.7500 - lr: 2.0000e-04\n",
            "Epoch 19/20\n",
            "83/83 [==============================] - ETA: 0s - loss: 0.2686 - categorical_accuracy: 0.9080\n",
            "Epoch 19: saving model to model_init_2023-03-2019_23_22.069340/model-00019-0.26856-0.90799-0.92748-0.72000.h5\n",
            "83/83 [==============================] - 189s 2s/step - loss: 0.2686 - categorical_accuracy: 0.9080 - val_loss: 0.9275 - val_categorical_accuracy: 0.7200 - lr: 2.0000e-04\n",
            "Epoch 20/20\n",
            "83/83 [==============================] - ETA: 0s - loss: 0.3379 - categorical_accuracy: 0.8771\n",
            "Epoch 20: saving model to model_init_2023-03-2019_23_22.069340/model-00020-0.33787-0.87707-0.75585-0.70000.h5\n",
            "83/83 [==============================] - 188s 2s/step - loss: 0.3379 - categorical_accuracy: 0.8771 - val_loss: 0.7558 - val_categorical_accuracy: 0.7000 - lr: 2.0000e-04\n"
          ]
        }
      ],
      "source": [
        "print(\"Total Params:\", conv_3d9_model.count_params())\n",
        "history_model9=conv_3d9.train_model(conv_3d9_model,augment_data=True)"
      ]
    },
    {
      "cell_type": "code",
      "execution_count": null,
      "metadata": {
        "id": "QsLkVjFA36uk",
        "outputId": "e042551c-18c3-4854-f169-423f8b4f550e",
        "scrolled": true,
        "colab": {
          "base_uri": "https://localhost:8080/",
          "height": 265
        }
      },
      "outputs": [
        {
          "output_type": "display_data",
          "data": {
            "text/plain": [
              "<Figure size 1080x288 with 2 Axes>"
            ],
            "image/png": "[encoded data removed]"
          },
          "metadata": {
            "needs_background": "light"
          }
        }
      ],
      "source": [
        "plot(history_model9)"
      ]
    },
    {
      "cell_type": "markdown",
      "source": [
        "### The highest training accuracy is 90% wheras the highest val accuracy is 75%"
      ],
      "metadata": {
        "id": "PIX31ifsuAtW"
      }
    },
    {
      "cell_type": "markdown",
      "metadata": {
        "id": "v4p80lBd36uk"
      },
      "source": [
        "## Data Augmentation makes the model overfit. Hence it is not useful in our case."
      ]
    },
    {
      "cell_type": "markdown",
      "metadata": {
        "collapsed": true,
        "id": "-3J6fnU-36us"
      },
      "source": [
        "## Model 10 Using Transfer Learning Models\n"
      ]
    },
    {
      "cell_type": "code",
      "execution_count": null,
      "metadata": {
        "id": "oaaOkB9k36us"
      },
      "outputs": [],
      "source": [
        "# importing the MobileNet model due to it's lightweight architecture and high speed performance as compared  \n",
        "# in the nimblebox.ai platform. \n",
        "\n",
        "from keras.applications import mobilenet"
      ]
    },
    {
      "cell_type": "code",
      "execution_count": null,
      "metadata": {
        "id": "gEwlYTsP36ut",
        "outputId": "2f4e13a8-da7d-4da4-e25a-593b7a7c7b89",
        "colab": {
          "base_uri": "https://localhost:8080/"
        }
      },
      "outputs": [
        {
          "output_type": "stream",
          "name": "stderr",
          "text": [
            "WARNING:tensorflow:`input_shape` is undefined or non-square, or `rows` is not in [128, 160, 192, 224]. Weights for input shape (224, 224) will be loaded as the default.\n"
          ]
        },
        {
          "output_type": "stream",
          "name": "stdout",
          "text": [
            "Downloading data from https://storage.googleapis.com/tensorflow/keras-applications/mobilenet/mobilenet_1_0_224_tf_no_top.h5\n",
            "17225924/17225924 [==============================] - 2s 0us/step\n"
          ]
        }
      ],
      "source": [
        "mobilenet_transfer = mobilenet.MobileNet(weights='imagenet', include_top=False)\n",
        "\n",
        "class RNNCNN_TL(ModelBuilderMoreAugmentation):\n",
        "    \n",
        "    def define_model(self,lstm_cells=128,dense_neurons=128,dropout=0.50):\n",
        "        \n",
        "        model = Sequential()\n",
        "        model.add(TimeDistributed(mobilenet_transfer,input_shape=(self.frames_to_sample,self.image_height,self.image_width,self.channels)))\n",
        "        \n",
        "        \n",
        "        for layer in model.layers:\n",
        "            layer.trainable = False\n",
        "        \n",
        "        \n",
        "        model.add(TimeDistributed(BatchNormalization()))\n",
        "        model.add(TimeDistributed(MaxPooling2D((2, 2))))\n",
        "        model.add(TimeDistributed(Flatten()))\n",
        "\n",
        "        model.add(LSTM(lstm_cells))\n",
        "        model.add(Dropout(dropout))\n",
        "        \n",
        "        model.add(Dense(dense_neurons,activation='relu'))\n",
        "        model.add(Dropout(dropout))\n",
        "        \n",
        "        model.add(Dense(self.num_classes, activation='softmax'))\n",
        "        \n",
        "        \n",
        "        optimiser = optimizers.Adam()\n",
        "        model.compile(optimizer=optimiser, loss='categorical_crossentropy', metrics=['categorical_accuracy'])\n",
        "        return model"
      ]
    },
    {
      "cell_type": "code",
      "execution_count": null,
      "metadata": {
        "id": "aok2u8RC36ut",
        "outputId": "40be4697-3c71-497e-bc96-98cb463a6d56",
        "colab": {
          "base_uri": "https://localhost:8080/"
        }
      },
      "outputs": [
        {
          "output_type": "stream",
          "name": "stdout",
          "text": [
            "Model: \"sequential_18\"\n",
            "_________________________________________________________________\n",
            " Layer (type)                Output Shape              Param #   \n",
            "=================================================================\n",
            " time_distributed_13 (TimeDi  (None, 16, 3, 3, 1024)   3228864   \n",
            " stributed)                                                      \n",
            "                                                                 \n",
            " time_distributed_14 (TimeDi  (None, 16, 3, 3, 1024)   4096      \n",
            " stributed)                                                      \n",
            "                                                                 \n",
            " time_distributed_15 (TimeDi  (None, 16, 1, 1, 1024)   0         \n",
            " stributed)                                                      \n",
            "                                                                 \n",
            " time_distributed_16 (TimeDi  (None, 16, 1024)         0         \n",
            " stributed)                                                      \n",
            "                                                                 \n",
            " lstm_1 (LSTM)               (None, 128)               590336    \n",
            "                                                                 \n",
            " dropout_15 (Dropout)        (None, 128)               0         \n",
            "                                                                 \n",
            " dense_28 (Dense)            (None, 128)               16512     \n",
            "                                                                 \n",
            " dropout_16 (Dropout)        (None, 128)               0         \n",
            "                                                                 \n",
            " dense_29 (Dense)            (None, 5)                 645       \n",
            "                                                                 \n",
            "=================================================================\n",
            "Total params: 3,840,453\n",
            "Trainable params: 609,541\n",
            "Non-trainable params: 3,230,912\n",
            "_________________________________________________________________\n"
          ]
        }
      ],
      "source": [
        "rnn_cnn_tl=RNNCNN_TL()\n",
        "rnn_cnn_tl.initialize_path(project_folder)\n",
        "rnn_cnn_tl.initialize_image_properties(image_height=120,image_width=120)\n",
        "rnn_cnn_tl.initialize_hyperparams(frames_to_sample=16,batch_size=10,num_epochs=20)\n",
        "rnn_cnn_tl_model=rnn_cnn_tl.define_model(lstm_cells=128,dense_neurons=128,dropout=0.50)\n",
        "rnn_cnn_tl_model.summary()"
      ]
    },
    {
      "cell_type": "code",
      "execution_count": null,
      "metadata": {
        "id": "YGDiOEsp36ut",
        "outputId": "44e85830-8fab-465e-ab7c-3bc9d7ee1a6b",
        "colab": {
          "base_uri": "https://localhost:8080/"
        }
      },
      "outputs": [
        {
          "output_type": "stream",
          "name": "stderr",
          "text": [
            "WARNING:tensorflow:`period` argument is deprecated. Please use `save_freq` to specify the frequency in number of batches seen.\n"
          ]
        },
        {
          "output_type": "stream",
          "name": "stdout",
          "text": [
            "Total Params: 3840453\n",
            "Epoch 1/20\n",
            "67/67 [==============================] - ETA: 0s - loss: 1.5616 - categorical_accuracy: 0.3183\n",
            "Epoch 1: saving model to model_init_2023-03-2020_35_35.528399/model-00001-1.56162-0.31825-1.25059-0.50000.h5\n",
            "67/67 [==============================] - 214s 3s/step - loss: 1.5616 - categorical_accuracy: 0.3183 - val_loss: 1.2506 - val_categorical_accuracy: 0.5000 - lr: 0.0010\n",
            "Epoch 2/20\n",
            "67/67 [==============================] - ETA: 0s - loss: 1.2347 - categorical_accuracy: 0.4940\n",
            "Epoch 2: saving model to model_init_2023-03-2020_35_35.528399/model-00002-1.23473-0.49397-0.97254-0.64000.h5\n",
            "67/67 [==============================] - 212s 3s/step - loss: 1.2347 - categorical_accuracy: 0.4940 - val_loss: 0.9725 - val_categorical_accuracy: 0.6400 - lr: 0.0010\n",
            "Epoch 3/20\n",
            "67/67 [==============================] - ETA: 0s - loss: 0.9257 - categorical_accuracy: 0.6388\n",
            "Epoch 3: saving model to model_init_2023-03-2020_35_35.528399/model-00003-0.92569-0.63876-0.73611-0.73000.h5\n",
            "67/67 [==============================] - 188s 3s/step - loss: 0.9257 - categorical_accuracy: 0.6388 - val_loss: 0.7361 - val_categorical_accuracy: 0.7300 - lr: 0.0010\n",
            "Epoch 4/20\n",
            "67/67 [==============================] - ETA: 0s - loss: 0.8042 - categorical_accuracy: 0.6833\n",
            "Epoch 4: saving model to model_init_2023-03-2020_35_35.528399/model-00004-0.80422-0.68326-0.79937-0.67000.h5\n",
            "67/67 [==============================] - 186s 3s/step - loss: 0.8042 - categorical_accuracy: 0.6833 - val_loss: 0.7994 - val_categorical_accuracy: 0.6700 - lr: 0.0010\n",
            "Epoch 5/20\n",
            "67/67 [==============================] - ETA: 0s - loss: 0.6545 - categorical_accuracy: 0.7557\n",
            "Epoch 5: saving model to model_init_2023-03-2020_35_35.528399/model-00005-0.65448-0.75566-0.53506-0.76000.h5\n",
            "67/67 [==============================] - 188s 3s/step - loss: 0.6545 - categorical_accuracy: 0.7557 - val_loss: 0.5351 - val_categorical_accuracy: 0.7600 - lr: 0.0010\n",
            "Epoch 6/20\n",
            "67/67 [==============================] - ETA: 0s - loss: 0.4928 - categorical_accuracy: 0.8205\n",
            "Epoch 6: saving model to model_init_2023-03-2020_35_35.528399/model-00006-0.49279-0.82051-0.49175-0.81000.h5\n",
            "67/67 [==============================] - 185s 3s/step - loss: 0.4928 - categorical_accuracy: 0.8205 - val_loss: 0.4918 - val_categorical_accuracy: 0.8100 - lr: 0.0010\n",
            "Epoch 7/20\n",
            "67/67 [==============================] - ETA: 0s - loss: 0.4631 - categorical_accuracy: 0.8235\n",
            "Epoch 7: saving model to model_init_2023-03-2020_35_35.528399/model-00007-0.46305-0.82353-0.77638-0.68000.h5\n",
            "67/67 [==============================] - 185s 3s/step - loss: 0.4631 - categorical_accuracy: 0.8235 - val_loss: 0.7764 - val_categorical_accuracy: 0.6800 - lr: 0.0010\n",
            "Epoch 8/20\n",
            "67/67 [==============================] - ETA: 0s - loss: 0.3907 - categorical_accuracy: 0.8522\n",
            "Epoch 8: saving model to model_init_2023-03-2020_35_35.528399/model-00008-0.39070-0.85219-0.52750-0.84000.h5\n",
            "67/67 [==============================] - 184s 3s/step - loss: 0.3907 - categorical_accuracy: 0.8522 - val_loss: 0.5275 - val_categorical_accuracy: 0.8400 - lr: 0.0010\n",
            "Epoch 9/20\n",
            "67/67 [==============================] - ETA: 0s - loss: 0.2853 - categorical_accuracy: 0.9012\n",
            "Epoch 9: saving model to model_init_2023-03-2020_35_35.528399/model-00009-0.28532-0.90121-0.64898-0.78000.h5\n",
            "67/67 [==============================] - 189s 3s/step - loss: 0.2853 - categorical_accuracy: 0.9012 - val_loss: 0.6490 - val_categorical_accuracy: 0.7800 - lr: 0.0010\n",
            "Epoch 10/20\n",
            "67/67 [==============================] - ETA: 0s - loss: 0.2572 - categorical_accuracy: 0.9027\n",
            "Epoch 10: saving model to model_init_2023-03-2020_35_35.528399/model-00010-0.25721-0.90271-0.65402-0.75000.h5\n",
            "\n",
            "Epoch 10: ReduceLROnPlateau reducing learning rate to 0.00020000000949949026.\n",
            "67/67 [==============================] - 190s 3s/step - loss: 0.2572 - categorical_accuracy: 0.9027 - val_loss: 0.6540 - val_categorical_accuracy: 0.7500 - lr: 0.0010\n",
            "Epoch 11/20\n",
            "67/67 [==============================] - ETA: 0s - loss: 0.1913 - categorical_accuracy: 0.9367\n",
            "Epoch 11: saving model to model_init_2023-03-2020_35_35.528399/model-00011-0.19126-0.93665-0.70546-0.76000.h5\n",
            "67/67 [==============================] - 186s 3s/step - loss: 0.1913 - categorical_accuracy: 0.9367 - val_loss: 0.7055 - val_categorical_accuracy: 0.7600 - lr: 2.0000e-04\n",
            "Epoch 12/20\n",
            "67/67 [==============================] - ETA: 0s - loss: 0.1941 - categorical_accuracy: 0.9389\n",
            "Epoch 12: saving model to model_init_2023-03-2020_35_35.528399/model-00012-0.19410-0.93891-0.75841-0.73000.h5\n",
            "67/67 [==============================] - 186s 3s/step - loss: 0.1941 - categorical_accuracy: 0.9389 - val_loss: 0.7584 - val_categorical_accuracy: 0.7300 - lr: 2.0000e-04\n",
            "Epoch 13/20\n",
            "67/67 [==============================] - ETA: 0s - loss: 0.1456 - categorical_accuracy: 0.9472\n",
            "Epoch 13: saving model to model_init_2023-03-2020_35_35.528399/model-00013-0.14558-0.94721-0.60120-0.82000.h5\n",
            "67/67 [==============================] - 187s 3s/step - loss: 0.1456 - categorical_accuracy: 0.9472 - val_loss: 0.6012 - val_categorical_accuracy: 0.8200 - lr: 2.0000e-04\n",
            "Epoch 14/20\n",
            "67/67 [==============================] - ETA: 0s - loss: 0.1448 - categorical_accuracy: 0.9555\n",
            "Epoch 14: saving model to model_init_2023-03-2020_35_35.528399/model-00014-0.14483-0.95551-0.58698-0.79000.h5\n",
            "\n",
            "Epoch 14: ReduceLROnPlateau reducing learning rate to 4.0000001899898055e-05.\n",
            "67/67 [==============================] - 185s 3s/step - loss: 0.1448 - categorical_accuracy: 0.9555 - val_loss: 0.5870 - val_categorical_accuracy: 0.7900 - lr: 2.0000e-04\n",
            "Epoch 15/20\n",
            "67/67 [==============================] - ETA: 0s - loss: 0.1220 - categorical_accuracy: 0.9646\n",
            "Epoch 15: saving model to model_init_2023-03-2020_35_35.528399/model-00015-0.12197-0.96456-0.74084-0.79000.h5\n",
            "67/67 [==============================] - 182s 3s/step - loss: 0.1220 - categorical_accuracy: 0.9646 - val_loss: 0.7408 - val_categorical_accuracy: 0.7900 - lr: 4.0000e-05\n",
            "Epoch 16/20\n",
            "67/67 [==============================] - ETA: 0s - loss: 0.1128 - categorical_accuracy: 0.9623\n",
            "Epoch 16: saving model to model_init_2023-03-2020_35_35.528399/model-00016-0.11282-0.96229-0.62225-0.79000.h5\n",
            "67/67 [==============================] - 180s 3s/step - loss: 0.1128 - categorical_accuracy: 0.9623 - val_loss: 0.6223 - val_categorical_accuracy: 0.7900 - lr: 4.0000e-05\n",
            "Epoch 17/20\n",
            "67/67 [==============================] - ETA: 0s - loss: 0.1319 - categorical_accuracy: 0.9600\n",
            "Epoch 17: saving model to model_init_2023-03-2020_35_35.528399/model-00017-0.13190-0.96003-0.72713-0.76000.h5\n",
            "67/67 [==============================] - 181s 3s/step - loss: 0.1319 - categorical_accuracy: 0.9600 - val_loss: 0.7271 - val_categorical_accuracy: 0.7600 - lr: 4.0000e-05\n",
            "Epoch 18/20\n",
            "67/67 [==============================] - ETA: 0s - loss: 0.1026 - categorical_accuracy: 0.9706\n",
            "Epoch 18: saving model to model_init_2023-03-2020_35_35.528399/model-00018-0.10261-0.97059-0.63793-0.79000.h5\n",
            "\n",
            "Epoch 18: ReduceLROnPlateau reducing learning rate to 8.000000525498762e-06.\n",
            "67/67 [==============================] - 182s 3s/step - loss: 0.1026 - categorical_accuracy: 0.9706 - val_loss: 0.6379 - val_categorical_accuracy: 0.7900 - lr: 4.0000e-05\n",
            "Epoch 19/20\n",
            "67/67 [==============================] - ETA: 0s - loss: 0.1172 - categorical_accuracy: 0.9615\n",
            "Epoch 19: saving model to model_init_2023-03-2020_35_35.528399/model-00019-0.11723-0.96154-0.80811-0.76000.h5\n",
            "67/67 [==============================] - 180s 3s/step - loss: 0.1172 - categorical_accuracy: 0.9615 - val_loss: 0.8081 - val_categorical_accuracy: 0.7600 - lr: 8.0000e-06\n",
            "Epoch 20/20\n",
            "67/67 [==============================] - ETA: 0s - loss: 0.1304 - categorical_accuracy: 0.9593\n",
            "Epoch 20: saving model to model_init_2023-03-2020_35_35.528399/model-00020-0.13043-0.95928-0.75805-0.78000.h5\n",
            "67/67 [==============================] - 184s 3s/step - loss: 0.1304 - categorical_accuracy: 0.9593 - val_loss: 0.7581 - val_categorical_accuracy: 0.7800 - lr: 8.0000e-06\n"
          ]
        }
      ],
      "source": [
        "print(\"Total Params:\", rnn_cnn_tl_model.count_params())\n",
        "history_model16=rnn_cnn_tl.train_model(rnn_cnn_tl_model,augment_data=True)"
      ]
    },
    {
      "cell_type": "code",
      "execution_count": null,
      "metadata": {
        "id": "aAiamDBm36ut",
        "outputId": "44fa6f66-0586-4cc7-82b3-50780c00df69",
        "colab": {
          "base_uri": "https://localhost:8080/",
          "height": 268
        }
      },
      "outputs": [
        {
          "output_type": "display_data",
          "data": {
            "text/plain": [
              "<Figure size 1080x288 with 2 Axes>"
            ],
            "image/png": "[encoded data removed]"
          },
          "metadata": {
            "needs_background": "light"
          }
        }
      ],
      "source": [
        "plot(history_model16)"
      ]
    },
    {
      "cell_type": "markdown",
      "metadata": {
        "collapsed": true,
        "id": "ebMCn1Fd36ut"
      },
      "source": [
        "##### We are not training the mobilenet weights and we see validation accuracy is very poor. Let's train them as well and observe if there is performance improvement"
      ]
    },
    {
      "cell_type": "markdown",
      "metadata": {
        "id": "YXtizKoP36uu"
      },
      "source": [
        "## Model 11 Transfer Learning with GRU and training all weights\n"
      ]
    },
    {
      "cell_type": "code",
      "execution_count": null,
      "metadata": {
        "id": "h9lIo3RO36uu",
        "colab": {
          "base_uri": "https://localhost:8080/"
        },
        "outputId": "7bca29ca-c750-4875-b1eb-236d8e6ce188"
      },
      "outputs": [
        {
          "output_type": "stream",
          "name": "stderr",
          "text": [
            "WARNING:tensorflow:`input_shape` is undefined or non-square, or `rows` is not in [128, 160, 192, 224]. Weights for input shape (224, 224) will be loaded as the default.\n"
          ]
        }
      ],
      "source": [
        "from keras.applications import mobilenet\n",
        "\n",
        "mobilenet_transfer = mobilenet.MobileNet(weights='imagenet', include_top=False)\n",
        "\n",
        "class RNNCNN_TL2(ModelBuilderMoreAugmentation):\n",
        "    \n",
        "    def define_model(self,gru_cells=128,dense_neurons=128,dropout=0.25):\n",
        "        \n",
        "        model = Sequential()\n",
        "        model.add(TimeDistributed(mobilenet_transfer,input_shape=(self.frames_to_sample,self.image_height,self.image_width,self.channels)))\n",
        " \n",
        "        \n",
        "        model.add(TimeDistributed(BatchNormalization()))\n",
        "        model.add(TimeDistributed(MaxPooling2D((2, 2))))\n",
        "        model.add(TimeDistributed(Flatten()))\n",
        "\n",
        "        model.add(GRU(gru_cells))\n",
        "        model.add(Dropout(dropout))\n",
        "        \n",
        "        model.add(Dense(dense_neurons,activation='relu'))\n",
        "        model.add(Dropout(dropout))\n",
        "        \n",
        "        model.add(Dense(self.num_classes, activation='softmax'))\n",
        "        \n",
        "        \n",
        "        optimiser = optimizers.Adam()\n",
        "        model.compile(optimizer=optimiser, loss='categorical_crossentropy', metrics=['categorical_accuracy'])\n",
        "        return model"
      ]
    },
    {
      "cell_type": "code",
      "execution_count": null,
      "metadata": {
        "id": "HgXKpc0236uu",
        "outputId": "b30018dc-cd74-45f4-be9e-fa73435c65de",
        "colab": {
          "base_uri": "https://localhost:8080/"
        }
      },
      "outputs": [
        {
          "output_type": "stream",
          "name": "stdout",
          "text": [
            "Model: \"sequential_19\"\n",
            "_________________________________________________________________\n",
            " Layer (type)                Output Shape              Param #   \n",
            "=================================================================\n",
            " time_distributed_17 (TimeDi  (None, 16, 3, 3, 1024)   3228864   \n",
            " stributed)                                                      \n",
            "                                                                 \n",
            " time_distributed_18 (TimeDi  (None, 16, 3, 3, 1024)   4096      \n",
            " stributed)                                                      \n",
            "                                                                 \n",
            " time_distributed_19 (TimeDi  (None, 16, 1, 1, 1024)   0         \n",
            " stributed)                                                      \n",
            "                                                                 \n",
            " time_distributed_20 (TimeDi  (None, 16, 1024)         0         \n",
            " stributed)                                                      \n",
            "                                                                 \n",
            " gru (GRU)                   (None, 128)               443136    \n",
            "                                                                 \n",
            " dropout_17 (Dropout)        (None, 128)               0         \n",
            "                                                                 \n",
            " dense_30 (Dense)            (None, 128)               16512     \n",
            "                                                                 \n",
            " dropout_18 (Dropout)        (None, 128)               0         \n",
            "                                                                 \n",
            " dense_31 (Dense)            (None, 5)                 645       \n",
            "                                                                 \n",
            "=================================================================\n",
            "Total params: 3,693,253\n",
            "Trainable params: 3,669,317\n",
            "Non-trainable params: 23,936\n",
            "_________________________________________________________________\n"
          ]
        }
      ],
      "source": [
        "rnn_cnn_tl2=RNNCNN_TL2()\n",
        "rnn_cnn_tl2.initialize_path(project_folder)\n",
        "rnn_cnn_tl2.initialize_image_properties(image_height=120,image_width=120)\n",
        "rnn_cnn_tl2.initialize_hyperparams(frames_to_sample=16,batch_size=10,num_epochs=20)\n",
        "rnn_cnn_tl2_model=rnn_cnn_tl2.define_model(gru_cells=128,dense_neurons=128,dropout=0.50)\n",
        "rnn_cnn_tl2_model.summary()"
      ]
    },
    {
      "cell_type": "code",
      "execution_count": null,
      "metadata": {
        "id": "R0YT_FvU36uu",
        "outputId": "af5dff9f-9e34-40d8-fae6-10f3a930be2f",
        "colab": {
          "base_uri": "https://localhost:8080/"
        }
      },
      "outputs": [
        {
          "output_type": "stream",
          "name": "stderr",
          "text": [
            "WARNING:tensorflow:`period` argument is deprecated. Please use `save_freq` to specify the frequency in number of batches seen.\n"
          ]
        },
        {
          "output_type": "stream",
          "name": "stdout",
          "text": [
            "Total Params: 3693253\n",
            "Epoch 1/20\n",
            "67/67 [==============================] - ETA: 0s - loss: 1.6067 - categorical_accuracy: 0.3522\n",
            "Epoch 1: saving model to model_init_2023-03-2021_48_36.974557/model-00001-1.60673-0.35219-1.41654-0.36000.h5\n",
            "67/67 [==============================] - 200s 3s/step - loss: 1.6067 - categorical_accuracy: 0.3522 - val_loss: 1.4165 - val_categorical_accuracy: 0.3600 - lr: 0.0010\n",
            "Epoch 2/20\n",
            "67/67 [==============================] - ETA: 0s - loss: 0.8477 - categorical_accuracy: 0.6712\n",
            "Epoch 2: saving model to model_init_2023-03-2021_48_36.974557/model-00002-0.84769-0.67119-0.51342-0.82000.h5\n",
            "67/67 [==============================] - 191s 3s/step - loss: 0.8477 - categorical_accuracy: 0.6712 - val_loss: 0.5134 - val_categorical_accuracy: 0.8200 - lr: 0.0010\n",
            "Epoch 3/20\n",
            "67/67 [==============================] - ETA: 0s - loss: 0.6011 - categorical_accuracy: 0.7873\n",
            "Epoch 3: saving model to model_init_2023-03-2021_48_36.974557/model-00003-0.60110-0.78733-0.34980-0.87000.h5\n",
            "67/67 [==============================] - 195s 3s/step - loss: 0.6011 - categorical_accuracy: 0.7873 - val_loss: 0.3498 - val_categorical_accuracy: 0.8700 - lr: 0.0010\n",
            "Epoch 4/20\n",
            "67/67 [==============================] - ETA: 0s - loss: 0.4344 - categorical_accuracy: 0.8567\n",
            "Epoch 4: saving model to model_init_2023-03-2021_48_36.974557/model-00004-0.43443-0.85671-0.30461-0.90000.h5\n",
            "67/67 [==============================] - 200s 3s/step - loss: 0.4344 - categorical_accuracy: 0.8567 - val_loss: 0.3046 - val_categorical_accuracy: 0.9000 - lr: 0.0010\n",
            "Epoch 5/20\n",
            "67/67 [==============================] - ETA: 0s - loss: 0.3077 - categorical_accuracy: 0.8861\n",
            "Epoch 5: saving model to model_init_2023-03-2021_48_36.974557/model-00005-0.30766-0.88612-0.96821-0.71000.h5\n",
            "67/67 [==============================] - 199s 3s/step - loss: 0.3077 - categorical_accuracy: 0.8861 - val_loss: 0.9682 - val_categorical_accuracy: 0.7100 - lr: 0.0010\n",
            "Epoch 6/20\n",
            "67/67 [==============================] - ETA: 0s - loss: 0.3106 - categorical_accuracy: 0.8891\n",
            "Epoch 6: saving model to model_init_2023-03-2021_48_36.974557/model-00006-0.31062-0.88914-0.19157-0.92000.h5\n",
            "67/67 [==============================] - 198s 3s/step - loss: 0.3106 - categorical_accuracy: 0.8891 - val_loss: 0.1916 - val_categorical_accuracy: 0.9200 - lr: 0.0010\n",
            "Epoch 7/20\n",
            "67/67 [==============================] - ETA: 0s - loss: 0.2442 - categorical_accuracy: 0.9216\n",
            "Epoch 7: saving model to model_init_2023-03-2021_48_36.974557/model-00007-0.24424-0.92157-0.11137-0.97000.h5\n",
            "67/67 [==============================] - 200s 3s/step - loss: 0.2442 - categorical_accuracy: 0.9216 - val_loss: 0.1114 - val_categorical_accuracy: 0.9700 - lr: 0.0010\n",
            "Epoch 8/20\n",
            "67/67 [==============================] - ETA: 0s - loss: 0.1828 - categorical_accuracy: 0.9419\n",
            "Epoch 8: saving model to model_init_2023-03-2021_48_36.974557/model-00008-0.18278-0.94193-0.31208-0.93000.h5\n",
            "67/67 [==============================] - 200s 3s/step - loss: 0.1828 - categorical_accuracy: 0.9419 - val_loss: 0.3121 - val_categorical_accuracy: 0.9300 - lr: 0.0010\n",
            "Epoch 9/20\n",
            "67/67 [==============================] - ETA: 0s - loss: 0.2143 - categorical_accuracy: 0.9268\n",
            "Epoch 9: saving model to model_init_2023-03-2021_48_36.974557/model-00009-0.21432-0.92685-0.22461-0.93000.h5\n",
            "67/67 [==============================] - 200s 3s/step - loss: 0.2143 - categorical_accuracy: 0.9268 - val_loss: 0.2246 - val_categorical_accuracy: 0.9300 - lr: 0.0010\n",
            "Epoch 10/20\n",
            "67/67 [==============================] - ETA: 0s - loss: 0.2193 - categorical_accuracy: 0.9299\n",
            "Epoch 10: saving model to model_init_2023-03-2021_48_36.974557/model-00010-0.21931-0.92986-0.23386-0.92000.h5\n",
            "67/67 [==============================] - 202s 3s/step - loss: 0.2193 - categorical_accuracy: 0.9299 - val_loss: 0.2339 - val_categorical_accuracy: 0.9200 - lr: 0.0010\n",
            "Epoch 11/20\n",
            "67/67 [==============================] - ETA: 0s - loss: 0.1713 - categorical_accuracy: 0.9472\n",
            "Epoch 11: saving model to model_init_2023-03-2021_48_36.974557/model-00011-0.17131-0.94721-0.20190-0.92000.h5\n",
            "\n",
            "Epoch 11: ReduceLROnPlateau reducing learning rate to 0.00020000000949949026.\n",
            "67/67 [==============================] - 200s 3s/step - loss: 0.1713 - categorical_accuracy: 0.9472 - val_loss: 0.2019 - val_categorical_accuracy: 0.9200 - lr: 0.0010\n",
            "Epoch 12/20\n",
            "67/67 [==============================] - ETA: 0s - loss: 0.0889 - categorical_accuracy: 0.9721\n",
            "Epoch 12: saving model to model_init_2023-03-2021_48_36.974557/model-00012-0.08889-0.97210-0.11648-0.95000.h5\n",
            "67/67 [==============================] - 192s 3s/step - loss: 0.0889 - categorical_accuracy: 0.9721 - val_loss: 0.1165 - val_categorical_accuracy: 0.9500 - lr: 2.0000e-04\n",
            "Epoch 13/20\n",
            "67/67 [==============================] - ETA: 0s - loss: 0.0759 - categorical_accuracy: 0.9774\n",
            "Epoch 13: saving model to model_init_2023-03-2021_48_36.974557/model-00013-0.07587-0.97738-0.10017-0.96000.h5\n",
            "67/67 [==============================] - 191s 3s/step - loss: 0.0759 - categorical_accuracy: 0.9774 - val_loss: 0.1002 - val_categorical_accuracy: 0.9600 - lr: 2.0000e-04\n",
            "Epoch 14/20\n",
            "67/67 [==============================] - ETA: 0s - loss: 0.0491 - categorical_accuracy: 0.9902\n",
            "Epoch 14: saving model to model_init_2023-03-2021_48_36.974557/model-00014-0.04910-0.99020-0.05729-0.98000.h5\n",
            "67/67 [==============================] - 192s 3s/step - loss: 0.0491 - categorical_accuracy: 0.9902 - val_loss: 0.0573 - val_categorical_accuracy: 0.9800 - lr: 2.0000e-04\n",
            "Epoch 15/20\n",
            "67/67 [==============================] - ETA: 0s - loss: 0.0400 - categorical_accuracy: 0.9917\n",
            "Epoch 15: saving model to model_init_2023-03-2021_48_36.974557/model-00015-0.03996-0.99170-0.04690-0.98000.h5\n",
            "67/67 [==============================] - 192s 3s/step - loss: 0.0400 - categorical_accuracy: 0.9917 - val_loss: 0.0469 - val_categorical_accuracy: 0.9800 - lr: 2.0000e-04\n",
            "Epoch 16/20\n",
            "67/67 [==============================] - ETA: 0s - loss: 0.0373 - categorical_accuracy: 0.9887\n",
            "Epoch 16: saving model to model_init_2023-03-2021_48_36.974557/model-00016-0.03732-0.98869-0.03307-0.98000.h5\n",
            "67/67 [==============================] - 191s 3s/step - loss: 0.0373 - categorical_accuracy: 0.9887 - val_loss: 0.0331 - val_categorical_accuracy: 0.9800 - lr: 2.0000e-04\n",
            "Epoch 17/20\n",
            "67/67 [==============================] - ETA: 0s - loss: 0.0352 - categorical_accuracy: 0.9902\n",
            "Epoch 17: saving model to model_init_2023-03-2021_48_36.974557/model-00017-0.03516-0.99020-0.07544-0.95000.h5\n",
            "67/67 [==============================] - 193s 3s/step - loss: 0.0352 - categorical_accuracy: 0.9902 - val_loss: 0.0754 - val_categorical_accuracy: 0.9500 - lr: 2.0000e-04\n",
            "Epoch 18/20\n",
            "67/67 [==============================] - ETA: 0s - loss: 0.0324 - categorical_accuracy: 0.9917\n",
            "Epoch 18: saving model to model_init_2023-03-2021_48_36.974557/model-00018-0.03242-0.99170-0.07295-0.98000.h5\n",
            "67/67 [==============================] - 193s 3s/step - loss: 0.0324 - categorical_accuracy: 0.9917 - val_loss: 0.0730 - val_categorical_accuracy: 0.9800 - lr: 2.0000e-04\n",
            "Epoch 19/20\n",
            "67/67 [==============================] - ETA: 0s - loss: 0.0198 - categorical_accuracy: 0.9947\n",
            "Epoch 19: saving model to model_init_2023-03-2021_48_36.974557/model-00019-0.01978-0.99472-0.04519-0.99000.h5\n",
            "67/67 [==============================] - 196s 3s/step - loss: 0.0198 - categorical_accuracy: 0.9947 - val_loss: 0.0452 - val_categorical_accuracy: 0.9900 - lr: 2.0000e-04\n",
            "Epoch 20/20\n",
            "67/67 [==============================] - ETA: 0s - loss: 0.0167 - categorical_accuracy: 0.9977\n",
            "Epoch 20: saving model to model_init_2023-03-2021_48_36.974557/model-00020-0.01673-0.99774-0.06458-0.98000.h5\n",
            "\n",
            "Epoch 20: ReduceLROnPlateau reducing learning rate to 4.0000001899898055e-05.\n",
            "67/67 [==============================] - 195s 3s/step - loss: 0.0167 - categorical_accuracy: 0.9977 - val_loss: 0.0646 - val_categorical_accuracy: 0.9800 - lr: 2.0000e-04\n"
          ]
        }
      ],
      "source": [
        "print(\"Total Params:\", rnn_cnn_tl2_model.count_params())\n",
        "history_model17=rnn_cnn_tl2.train_model(rnn_cnn_tl2_model,augment_data=True)"
      ]
    },
    {
      "cell_type": "code",
      "execution_count": null,
      "metadata": {
        "id": "rq2fh8YG36uu",
        "outputId": "3c778781-aabc-4ea7-8fbc-5e8c4e3a5d5d",
        "colab": {
          "base_uri": "https://localhost:8080/",
          "height": 265
        }
      },
      "outputs": [
        {
          "output_type": "display_data",
          "data": {
            "text/plain": [
              "<Figure size 1080x288 with 2 Axes>"
            ],
            "image/png": "[encoded data removed]"
          },
          "metadata": {
            "needs_background": "light"
          }
        }
      ],
      "source": [
        "plot(history_model17)"
      ]
    },
    {
      "cell_type": "markdown",
      "metadata": {
        "id": "ecPvtTgt36uv"
      },
      "source": [
        "###Best results so far! 99% Training accuracy and 99% validation accuracy. "
      ]
    },
    {
      "cell_type": "markdown",
      "metadata": {
        "id": "jWhKPh8n36uv"
      },
      "source": [
        "# Consolidated Final Models"
      ]
    },
    {
      "cell_type": "markdown",
      "metadata": {
        "id": "79fTEoOn36uv"
      },
      "source": [
        "## The Conclusion: Model 4 Con3d is the best model because:\n",
        "\n",
        "* Training Accuracy : 95%, Validation Accuracy : 91%\n",
        "* Number of Parameters: 3,303,989 and is much less than model 11 which has the best performance but model 11 389,264 parameters more than model 4."
      ]
    },
    {
      "cell_type": "markdown",
      "source": [
        "#Loading model and Testing"
      ],
      "metadata": {
        "id": "vnKe4qkqcFD3"
      }
    },
    {
      "cell_type": "code",
      "source": [
        "import time\n",
        "from keras.models import load_model\n",
        "model = load_model('model_init_2023-03-2114_02_10.345408/model-00014-0.35056-0.88009-0.63037-0.82000.h5')"
      ],
      "metadata": {
        "id": "zvpqth2EcNxg"
      },
      "execution_count": 49,
      "outputs": []
    },
    {
      "cell_type": "code",
      "source": [
        "test_generator=conv_3d5()\n",
        "test_generator.initialize_path(project_folder)\n",
        "test_generator.initialize_image_properties(image_height=120,image_width=120)\n",
        "test_generator.initialize_hyperparams(frames_to_sample=18,batch_size=20,num_epochs=20)\n",
        "\n",
        "g=test_generator.generator(test_generator.val_path,test_generator.val_doc,augment=False)\n",
        "batch_data, batch_labels=next(g)"
      ],
      "metadata": {
        "id": "OzHEitwTcPYs"
      },
      "execution_count": null,
      "outputs": []
    },
    {
      "cell_type": "code",
      "source": [
        "batch_labels"
      ],
      "metadata": {
        "id": "asVIfrEUcTdv"
      },
      "execution_count": null,
      "outputs": []
    },
    {
      "cell_type": "code",
      "source": [
        "print(np.argmax(model.predict(batch_data[:,:,:,:,:]),axis=1))"
      ],
      "metadata": {
        "id": "ll4QQyzicY3w"
      },
      "execution_count": null,
      "outputs": []
    }
  ],
  "metadata": {
    "colab": {
      "collapsed_sections": [
        "-mGdHjVm36ub",
        "N2knrp7936ui",
        "t-odlAo636uj",
        "v4p80lBd36uk",
        "l76D_W0636ul",
        "epHKXbzh36up",
        "l9RDs4q436uq",
        "KalQAm5136us",
        "ecPvtTgt36uv",
        "79fTEoOn36uv"
      ],
      "provenance": []
    },
    "kernelspec": {
      "display_name": "Python 3 (ipykernel)",
      "language": "python",
      "name": "python3"
    },
    "language_info": {
      "codemirror_mode": {
        "name": "ipython",
        "version": 3
      },
      "file_extension": ".py",
      "mimetype": "text/x-python",
      "name": "python",
      "nbconvert_exporter": "python",
      "pygments_lexer": "ipython3",
      "version": "3.9.7"
    },
    "accelerator": "GPU",
    "gpuClass": "standard"
  },
  "nbformat": 4,
  "nbformat_minor": 0
}